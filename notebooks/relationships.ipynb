{
 "cells": [
  {
   "cell_type": "markdown",
   "metadata": {},
   "source": [
    "# Relationships"
   ]
  },
  {
   "cell_type": "code",
   "execution_count": 1,
   "metadata": {},
   "outputs": [],
   "source": [
    "from sqlalchemy import text"
   ]
  },
  {
   "cell_type": "markdown",
   "metadata": {},
   "source": [
    "## Database connection"
   ]
  },
  {
   "cell_type": "code",
   "execution_count": 2,
   "metadata": {},
   "outputs": [],
   "source": [
    "import yaml\n",
    "from sqlalchemy import create_engine\n",
    "\n",
    "\n",
    "with open(\"./config.yml\", \"r\") as file:\n",
    "\tconfig = yaml.safe_load(file)\n",
    "\tconfig_OLTP = config[\"OLTP\"]\n",
    "\tconfig_OLAP = config[\"OLAP\"]\n",
    "\n",
    "\n",
    "url_OLTP = (f\"{config_OLTP[\"drivername\"]}://{config_OLTP[\"user\"]}:{config_OLTP[\"password\"]}\"\n",
    "\t\t\tf\"@{config_OLTP[\"host\"]}:{config_OLTP[\"port\"]}/{config_OLTP[\"database_name\"]}\")\n",
    "\n",
    "url_OLAP = (f\"{config_OLAP[\"drivername\"]}://{config_OLAP[\"user\"]}:{config_OLAP[\"password\"]}\"\n",
    "\t\t\tf\"@{config_OLAP[\"host\"]}:{config_OLAP[\"port\"]}/{config_OLAP[\"database_name\"]}\")\n",
    "\n",
    "OLTP_connection = create_engine(url_OLTP)\n",
    "OLAP_connection = create_engine(url_OLAP)"
   ]
  },
  {
   "cell_type": "markdown",
   "metadata": {},
   "source": [
    "## Primary keys"
   ]
  },
  {
   "cell_type": "code",
   "execution_count": null,
   "metadata": {},
   "outputs": [],
   "source": [
    "dimension_tables = [\n",
    "\t\"COURIER_DIMENSION\",\n",
    "\t\"CUSTOMER_DIMENSION\",\n",
    "\t\"OFFICE_DIMENSION\",\n",
    "\t\"SERVICE_STATUS_DIMENSION\",\n",
    "\t\"TIME_DIMENSION\",\n",
    "\t\"UPDATE_DIMENSION\"\n",
    "]"
   ]
  },
  {
   "cell_type": "code",
   "execution_count": 7,
   "metadata": {},
   "outputs": [],
   "source": [
    "def add_primary_key_dimension_table(dimension_table):\n",
    "\twith OLAP_connection.connect() as connection:\n",
    "\t\twith connection.begin():\n",
    "\t\t\tname_without_dimension = dimension_table.replace(\"_DIMENSION\", \"\").lower()\n",
    "\t\t\tquery = text(f\"\"\"\n",
    "\t\t\tALTER TABLE \"{dimension_table}\"\n",
    "\t\t\tADD CONSTRAINT pk_{name_without_dimension}_dimension PRIMARY KEY ({name_without_dimension}_id);\n",
    "\t\t\t\"\"\")\n",
    "\t\t\tconnection.execute(query)"
   ]
  },
  {
   "cell_type": "code",
   "execution_count": 10,
   "metadata": {},
   "outputs": [],
   "source": [
    "for dimension_table in dimension_tables:\n",
    "\tadd_primary_key_dimension_table(dimension_table)"
   ]
  },
  {
   "cell_type": "code",
   "execution_count": 11,
   "metadata": {},
   "outputs": [],
   "source": [
    "fact_tables = [\n",
    "\t\"ACUMMULATING_SNAPSHOT_FACT_TABLE\",\n",
    "\t\"SERVICE_DAILY_FACT_TABLE\",\n",
    "\t# \"SERVICE_HOUR_FACT_TABLE\",\n",
    "\t\"UPDATES_FACT_TABLE\"\n",
    "]"
   ]
  },
  {
   "cell_type": "code",
   "execution_count": 12,
   "metadata": {},
   "outputs": [],
   "source": [
    "def add_primary_key_fact_table(fact_table):\n",
    "\twith OLAP_connection.connect() as connection:\n",
    "\t\twith connection.begin():\n",
    "\t\t\tname_without_fact_table = fact_table.replace(\"_FACT_TABLE\", \"\").lower()\n",
    "\t\t\tquery = text(f\"\"\"\n",
    "\t\t\tALTER TABLE \"{fact_table}\"\n",
    "\t\t\tADD CONSTRAINT pk_{name_without_fact_table}_fact_table PRIMARY KEY ({name_without_fact_table}_id);\n",
    "\t\t\t\"\"\")\n",
    "\t\t\tconnection.execute(query)"
   ]
  },
  {
   "cell_type": "code",
   "execution_count": 14,
   "metadata": {},
   "outputs": [],
   "source": [
    "for fact_table in fact_tables:\n",
    "\tadd_primary_key_fact_table(fact_table)"
   ]
  },
  {
   "cell_type": "markdown",
   "metadata": {},
   "source": [
    "## Foreign keys"
   ]
  },
  {
   "cell_type": "code",
   "execution_count": 15,
   "metadata": {},
   "outputs": [],
   "source": [
    "def alter_table(table, query):\n",
    "\twith OLAP_connection.connect() as connection:\n",
    "\t\twith connection.begin():\n",
    "\t\t\tquery = text(f\"\"\"\n",
    "\t\t\tALTER TABLE \"{table}\"\n",
    "\t\t\t{query}\n",
    "\t\t\t\"\"\")\n",
    "\t\t\tconnection.execute(query)"
   ]
  },
  {
   "cell_type": "markdown",
   "metadata": {},
   "source": [
    "### `ACUMMULATING_SNAPSHOT_FACT_TABLE`"
   ]
  },
  {
   "cell_type": "code",
   "execution_count": 16,
   "metadata": {},
   "outputs": [],
   "source": [
    "query = \"\"\"\n",
    "ADD FOREIGN KEY (request_time_id) REFERENCES \"TIME_DIMENSION\"(time_id),\n",
    "ADD FOREIGN KEY (assignment_time_id) REFERENCES \"TIME_DIMENSION\"(time_id),\n",
    "ADD FOREIGN KEY (pickup_time_id) REFERENCES \"TIME_DIMENSION\"(time_id),\n",
    "ADD FOREIGN KEY (delivery_time_id) REFERENCES \"TIME_DIMENSION\"(time_id),\n",
    "ADD FOREIGN KEY (closure_time_id) REFERENCES \"TIME_DIMENSION\"(time_id);\n",
    "\"\"\"\n",
    "\n",
    "alter_table(\"ACUMMULATING_SNAPSHOT_FACT_TABLE\", query)"
   ]
  },
  {
   "cell_type": "markdown",
   "metadata": {},
   "source": [
    "### `SERVICE_DAILY_FACT_TABLE`"
   ]
  },
  {
   "cell_type": "code",
   "execution_count": 17,
   "metadata": {},
   "outputs": [],
   "source": [
    "query = \"\"\"\n",
    "ADD FOREIGN KEY (time_id) REFERENCES \"TIME_DIMENSION\"(time_id),\n",
    "ADD FOREIGN KEY (customer_id) REFERENCES \"CUSTOMER_DIMENSION\"(customer_id),\n",
    "ADD FOREIGN KEY (courier_id) REFERENCES \"COURIER_DIMENSION\"(courier_id),\n",
    "ADD FOREIGN KEY (office_id) REFERENCES \"OFFICE_DIMENSION\"(office_id);\n",
    "\"\"\"\n",
    "\n",
    "alter_table(\"SERVICE_DAILY_FACT_TABLE\", query)"
   ]
  },
  {
   "cell_type": "markdown",
   "metadata": {},
   "source": [
    "### `SERVICE_HOUR_FACT_TABLE`"
   ]
  },
  {
   "cell_type": "code",
   "execution_count": null,
   "metadata": {},
   "outputs": [],
   "source": [
    "# query = \"\"\"\n",
    "# ADD FOREIGN KEY (time_id) REFERENCES \"TIME_DIMENSION\"(time_id),\n",
    "# ADD FOREIGN KEY (customer_id) REFERENCES \"CUSTOMER_DIMENSION\"(customer_id),\n",
    "# ADD FOREIGN KEY (courier_id) REFERENCES \"COURIER_DIMENSION\"(courier_id),\n",
    "# ADD FOREIGN KEY (office_id) REFERENCES \"OFFICE_DIMENSION\"(office_id);\n",
    "# \"\"\"\n",
    "\n",
    "# alter_table(\"SERVICE_HOUR_FACT_TABLE\", query)"
   ]
  },
  {
   "cell_type": "markdown",
   "metadata": {},
   "source": [
    "### `UPDATES_FACT_TABLE`"
   ]
  },
  {
   "cell_type": "code",
   "execution_count": 18,
   "metadata": {},
   "outputs": [],
   "source": [
    "query = \"\"\"\n",
    "ADD FOREIGN KEY (update_id) REFERENCES \"COURIER_DIMENSION\"(courier_id),\n",
    "ADD FOREIGN KEY (time_id) REFERENCES \"TIME_DIMENSION\"(time_id);\n",
    "\"\"\"\n",
    "\n",
    "alter_table(\"UPDATES_FACT_TABLE\", query)"
   ]
  }
 ],
 "metadata": {
  "kernelspec": {
   "display_name": "base",
   "language": "python",
   "name": "python3"
  },
  "language_info": {
   "codemirror_mode": {
    "name": "ipython",
    "version": 3
   },
   "file_extension": ".py",
   "mimetype": "text/x-python",
   "name": "python",
   "nbconvert_exporter": "python",
   "pygments_lexer": "ipython3",
   "version": "3.12.3"
  }
 },
 "nbformat": 4,
 "nbformat_minor": 2
}
