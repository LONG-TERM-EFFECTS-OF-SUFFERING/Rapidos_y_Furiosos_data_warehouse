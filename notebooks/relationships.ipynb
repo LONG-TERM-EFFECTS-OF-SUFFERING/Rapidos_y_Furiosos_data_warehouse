{
 "cells": [
  {
   "cell_type": "markdown",
   "metadata": {},
   "source": [
    "# Relationships"
   ]
  },
  {
   "cell_type": "code",
   "execution_count": 14,
   "metadata": {},
   "outputs": [],
   "source": [
    "from sqlalchemy import text"
   ]
  },
  {
   "cell_type": "markdown",
   "metadata": {},
   "source": [
    "## Database connection"
   ]
  },
  {
   "cell_type": "code",
   "execution_count": 1,
   "metadata": {},
   "outputs": [],
   "source": [
    "import yaml\n",
    "from sqlalchemy import create_engine\n",
    "\n",
    "\n",
    "with open(\"./config.yml\", \"r\") as file:\n",
    "\tconfig = yaml.safe_load(file)\n",
    "\tconfig_OLTP = config[\"OLTP\"]\n",
    "\tconfig_OLAP = config[\"OLAP\"]\n",
    "\n",
    "\n",
    "url_OLTP = (f\"{config_OLTP[\"drivername\"]}://{config_OLTP[\"user\"]}:{config_OLTP[\"password\"]}\"\n",
    "\t\t\tf\"@{config_OLTP[\"host\"]}:{config_OLTP[\"port\"]}/{config_OLTP[\"database_name\"]}\")\n",
    "\n",
    "url_OLAP = (f\"{config_OLAP[\"drivername\"]}://{config_OLAP[\"user\"]}:{config_OLAP[\"password\"]}\"\n",
    "\t\t\tf\"@{config_OLAP[\"host\"]}:{config_OLAP[\"port\"]}/{config_OLAP[\"database_name\"]}\")\n",
    "\n",
    "OLTP_connection = create_engine(url_OLTP)\n",
    "OLAP_connection = create_engine(url_OLAP)"
   ]
  },
  {
   "cell_type": "markdown",
   "metadata": {},
   "source": [
    "## Primary keys"
   ]
  },
  {
   "cell_type": "code",
   "execution_count": 37,
   "metadata": {},
   "outputs": [],
   "source": [
    "dimension_tables = [\n",
    "\t\"COURIER_DIMENSION\",\n",
    "\t\"CUSTOMER_DIMENSION\",\n",
    "\t\"OFFICE_DIMENSION\",\n",
    "\t\"SERVICE_STATUS_DIMENSION\",\n",
    "\t\"TIME_DIMENSION\",\n",
    "\t\"UPDATES_DIMENSION\"\n",
    "]"
   ]
  },
  {
   "cell_type": "code",
   "execution_count": null,
   "metadata": {},
   "outputs": [],
   "source": [
    "def add_primary_key_dimension_table(dimension_table):\n",
    "\twith OLAP_connection.connect() as connection:\n",
    "\t\twith connection.begin():\n",
    "\t\t\tname_without_dimension = dimension_table.replace(\"_DIMENSION\", \"\").lower()\n",
    "\t\t\tquery = text(f\"\"\"\n",
    "\t\t\tALTER TABLE \"{dimension_table}\"\n",
    "\t\t\tADD CONSTRAINT pk_{name_without_dimension}_dimension PRIMARY KEY ({name_without_dimension}_id);\n",
    "\t\t\t\"\"\")\n",
    "\t\t\tconnection.execute(query)"
   ]
  },
  {
   "cell_type": "code",
   "execution_count": 36,
   "metadata": {},
   "outputs": [
    {
     "name": "stdout",
     "output_type": "stream",
     "text": [
      "Error\n"
     ]
    }
   ],
   "source": [
    "for dimension_table in dimension_tables:\n",
    "\tadd_primary_key_dimension_table(dimension_table)"
   ]
  },
  {
   "cell_type": "code",
   "execution_count": null,
   "metadata": {},
   "outputs": [],
   "source": [
    "fact_tables = [\n",
    "\t\"ACUMMULATING_SNAPSHOT_FACT_TABLE\",\n",
    "\t\"SERVICE_DAILY_FACT_TABLE\",\n",
    "\t\"SERVICE_HOUR_FACT_TABLE\",\n",
    "\t\"UPDATES_FACT_TABLE\"\n",
    "]"
   ]
  },
  {
   "cell_type": "code",
   "execution_count": 39,
   "metadata": {},
   "outputs": [],
   "source": [
    "def add_primary_key_fact_table(fact_table):\n",
    "\twith OLAP_connection.connect() as connection:\n",
    "\t\twith connection.begin():\n",
    "\t\t\tname_without_fact_table = fact_table.replace(\"_FACT_TABLE\", \"\").lower()\n",
    "\t\t\tquery = text(f\"\"\"\n",
    "\t\t\tALTER TABLE \"{fact_table}\"\n",
    "\t\t\tADD CONSTRAINT pk_{name_without_fact_table}_fact_table PRIMARY KEY ({name_without_fact_table}_id);\n",
    "\t\t\t\"\"\")\n",
    "\t\t\tconnection.execute(query)"
   ]
  },
  {
   "cell_type": "code",
   "execution_count": 40,
   "metadata": {},
   "outputs": [],
   "source": [
    "for fact_table in fact_tables:\n",
    "\tadd_primary_key_fact_table(fact_table)"
   ]
  },
  {
   "cell_type": "markdown",
   "metadata": {},
   "source": [
    "## Foreign keys"
   ]
  },
  {
   "cell_type": "code",
   "execution_count": 22,
   "metadata": {},
   "outputs": [],
   "source": [
    "def alter_table(table, query):\n",
    "\twith OLAP_connection.connect() as connection:\n",
    "\t\twith connection.begin():\n",
    "\t\t\tquery = text(f\"\"\"\n",
    "\t\t\tALTER TABLE \"{table}\"\n",
    "\t\t\t{query}\n",
    "\t\t\t\"\"\")\n",
    "\t\t\tconnection.execute(query)"
   ]
  },
  {
   "cell_type": "markdown",
   "metadata": {},
   "source": [
    "### `ACUMMULATING_SNAPSHOT_FACT_TABLE`"
   ]
  },
  {
   "cell_type": "code",
   "execution_count": 29,
   "metadata": {},
   "outputs": [],
   "source": [
    "query = \"\"\"\n",
    "ADD FOREIGN KEY (request_time_id) REFERENCES \"TIME_DIMENSION\"(time_id),\n",
    "ADD FOREIGN KEY (assignment_time_id) REFERENCES \"TIME_DIMENSION\"(time_id),\n",
    "ADD FOREIGN KEY (pickup_time_id) REFERENCES \"TIME_DIMENSION\"(time_id),\n",
    "ADD FOREIGN KEY (delivery_time_id) REFERENCES \"TIME_DIMENSION\"(time_id),\n",
    "ADD FOREIGN KEY (closure_time_id) REFERENCES \"TIME_DIMENSION\"(time_id);\n",
    "\"\"\"\n",
    "\n",
    "alter_table(\"ACUMMULATING_SNAPSHOT_FACT_TABLE\", query)"
   ]
  },
  {
   "cell_type": "markdown",
   "metadata": {},
   "source": [
    "### `SERVICE_DAILY_FACT_TABLE`"
   ]
  },
  {
   "cell_type": "code",
   "execution_count": null,
   "metadata": {},
   "outputs": [
    {
     "ename": "IntegrityError",
     "evalue": "(psycopg2.errors.ForeignKeyViolation) insert or update on table \"SERVICE_DAILY_FACT_TABLE\" violates foreign key constraint \"SERVICE_DAILY_FACT_TABLE_courier_id_fkey\"\nDETAIL:  Key (courier_id)=(83) is not present in table \"COURIER_DIMENSION\".\n\n[SQL: \n\t\t\tALTER TABLE \"SERVICE_DAILY_FACT_TABLE\"\n\t\t\t\nADD FOREIGN KEY (time_id) REFERENCES \"TIME_DIMENSION\"(time_id),\nADD FOREIGN KEY (courier_id) REFERENCES \"COURIER_DIMENSION\"(courier_id),\nADD FOREIGN KEY (office_id) REFERENCES \"OFFICE_DIMENSION\"(office_id);\n\n\t\t\t]\n(Background on this error at: https://sqlalche.me/e/20/gkpj)",
     "output_type": "error",
     "traceback": [
      "\u001b[1;31m---------------------------------------------------------------------------\u001b[0m",
      "\u001b[1;31mForeignKeyViolation\u001b[0m                       Traceback (most recent call last)",
      "File \u001b[1;32mc:\\Users\\bran-\\anaconda3\\Lib\\site-packages\\sqlalchemy\\engine\\base.py:1967\u001b[0m, in \u001b[0;36mConnection._exec_single_context\u001b[1;34m(self, dialect, context, statement, parameters)\u001b[0m\n\u001b[0;32m   1966\u001b[0m     \u001b[38;5;28;01mif\u001b[39;00m \u001b[38;5;129;01mnot\u001b[39;00m evt_handled:\n\u001b[1;32m-> 1967\u001b[0m         \u001b[38;5;28mself\u001b[39m\u001b[38;5;241m.\u001b[39mdialect\u001b[38;5;241m.\u001b[39mdo_execute(\n\u001b[0;32m   1968\u001b[0m             cursor, str_statement, effective_parameters, context\n\u001b[0;32m   1969\u001b[0m         )\n\u001b[0;32m   1971\u001b[0m \u001b[38;5;28;01mif\u001b[39;00m \u001b[38;5;28mself\u001b[39m\u001b[38;5;241m.\u001b[39m_has_events \u001b[38;5;129;01mor\u001b[39;00m \u001b[38;5;28mself\u001b[39m\u001b[38;5;241m.\u001b[39mengine\u001b[38;5;241m.\u001b[39m_has_events:\n",
      "File \u001b[1;32mc:\\Users\\bran-\\anaconda3\\Lib\\site-packages\\sqlalchemy\\engine\\default.py:924\u001b[0m, in \u001b[0;36mDefaultDialect.do_execute\u001b[1;34m(self, cursor, statement, parameters, context)\u001b[0m\n\u001b[0;32m    923\u001b[0m \u001b[38;5;28;01mdef\u001b[39;00m \u001b[38;5;21mdo_execute\u001b[39m(\u001b[38;5;28mself\u001b[39m, cursor, statement, parameters, context\u001b[38;5;241m=\u001b[39m\u001b[38;5;28;01mNone\u001b[39;00m):\n\u001b[1;32m--> 924\u001b[0m     cursor\u001b[38;5;241m.\u001b[39mexecute(statement, parameters)\n",
      "\u001b[1;31mForeignKeyViolation\u001b[0m: insert or update on table \"SERVICE_DAILY_FACT_TABLE\" violates foreign key constraint \"SERVICE_DAILY_FACT_TABLE_courier_id_fkey\"\nDETAIL:  Key (courier_id)=(83) is not present in table \"COURIER_DIMENSION\".\n",
      "\nThe above exception was the direct cause of the following exception:\n",
      "\u001b[1;31mIntegrityError\u001b[0m                            Traceback (most recent call last)",
      "Cell \u001b[1;32mIn[33], line 9\u001b[0m\n\u001b[0;32m      1\u001b[0m query \u001b[38;5;241m=\u001b[39m \u001b[38;5;124m\"\"\"\u001b[39m\n\u001b[0;32m      2\u001b[0m \u001b[38;5;124mADD FOREIGN KEY (time_id) REFERENCES \u001b[39m\u001b[38;5;124m\"\u001b[39m\u001b[38;5;124mTIME_DIMENSION\u001b[39m\u001b[38;5;124m\"\u001b[39m\u001b[38;5;124m(time_id),\u001b[39m\n\u001b[0;32m      3\u001b[0m \u001b[38;5;124mADD FOREIGN KEY (courier_id) REFERENCES \u001b[39m\u001b[38;5;124m\"\u001b[39m\u001b[38;5;124mCOURIER_DIMENSION\u001b[39m\u001b[38;5;124m\"\u001b[39m\u001b[38;5;124m(courier_id),\u001b[39m\n\u001b[0;32m      4\u001b[0m \u001b[38;5;124mADD FOREIGN KEY (office_id) REFERENCES \u001b[39m\u001b[38;5;124m\"\u001b[39m\u001b[38;5;124mOFFICE_DIMENSION\u001b[39m\u001b[38;5;124m\"\u001b[39m\u001b[38;5;124m(office_id);\u001b[39m\n\u001b[0;32m      5\u001b[0m \u001b[38;5;124m\"\"\"\u001b[39m\n\u001b[0;32m      7\u001b[0m \u001b[38;5;66;03m# ADD FOREIGN KEY (customer_id) REFERENCES \"CUSTOMER_DIMENSION\"(customer_id),\u001b[39;00m\n\u001b[1;32m----> 9\u001b[0m alter_table(\u001b[38;5;124m\"\u001b[39m\u001b[38;5;124mSERVICE_DAILY_FACT_TABLE\u001b[39m\u001b[38;5;124m\"\u001b[39m, query)\n",
      "Cell \u001b[1;32mIn[22], line 8\u001b[0m, in \u001b[0;36malter_table\u001b[1;34m(table, query)\u001b[0m\n\u001b[0;32m      3\u001b[0m \u001b[38;5;28;01mwith\u001b[39;00m connection\u001b[38;5;241m.\u001b[39mbegin():\n\u001b[0;32m      4\u001b[0m \tquery \u001b[38;5;241m=\u001b[39m text(\u001b[38;5;124mf\u001b[39m\u001b[38;5;124m\"\"\"\u001b[39m\n\u001b[0;32m      5\u001b[0m \u001b[38;5;124m\tALTER TABLE \u001b[39m\u001b[38;5;124m\"\u001b[39m\u001b[38;5;132;01m{\u001b[39;00mtable\u001b[38;5;132;01m}\u001b[39;00m\u001b[38;5;124m\"\u001b[39m\n\u001b[0;32m      6\u001b[0m \u001b[38;5;124m\t\u001b[39m\u001b[38;5;132;01m{\u001b[39;00mquery\u001b[38;5;132;01m}\u001b[39;00m\n\u001b[0;32m      7\u001b[0m \u001b[38;5;124m\t\u001b[39m\u001b[38;5;124m\"\"\"\u001b[39m)\n\u001b[1;32m----> 8\u001b[0m \tconnection\u001b[38;5;241m.\u001b[39mexecute(query)\n",
      "File \u001b[1;32mc:\\Users\\bran-\\anaconda3\\Lib\\site-packages\\sqlalchemy\\engine\\base.py:1418\u001b[0m, in \u001b[0;36mConnection.execute\u001b[1;34m(self, statement, parameters, execution_options)\u001b[0m\n\u001b[0;32m   1416\u001b[0m     \u001b[38;5;28;01mraise\u001b[39;00m exc\u001b[38;5;241m.\u001b[39mObjectNotExecutableError(statement) \u001b[38;5;28;01mfrom\u001b[39;00m \u001b[38;5;21;01merr\u001b[39;00m\n\u001b[0;32m   1417\u001b[0m \u001b[38;5;28;01melse\u001b[39;00m:\n\u001b[1;32m-> 1418\u001b[0m     \u001b[38;5;28;01mreturn\u001b[39;00m meth(\n\u001b[0;32m   1419\u001b[0m         \u001b[38;5;28mself\u001b[39m,\n\u001b[0;32m   1420\u001b[0m         distilled_parameters,\n\u001b[0;32m   1421\u001b[0m         execution_options \u001b[38;5;129;01mor\u001b[39;00m NO_OPTIONS,\n\u001b[0;32m   1422\u001b[0m     )\n",
      "File \u001b[1;32mc:\\Users\\bran-\\anaconda3\\Lib\\site-packages\\sqlalchemy\\sql\\elements.py:515\u001b[0m, in \u001b[0;36mClauseElement._execute_on_connection\u001b[1;34m(self, connection, distilled_params, execution_options)\u001b[0m\n\u001b[0;32m    513\u001b[0m     \u001b[38;5;28;01mif\u001b[39;00m TYPE_CHECKING:\n\u001b[0;32m    514\u001b[0m         \u001b[38;5;28;01massert\u001b[39;00m \u001b[38;5;28misinstance\u001b[39m(\u001b[38;5;28mself\u001b[39m, Executable)\n\u001b[1;32m--> 515\u001b[0m     \u001b[38;5;28;01mreturn\u001b[39;00m connection\u001b[38;5;241m.\u001b[39m_execute_clauseelement(\n\u001b[0;32m    516\u001b[0m         \u001b[38;5;28mself\u001b[39m, distilled_params, execution_options\n\u001b[0;32m    517\u001b[0m     )\n\u001b[0;32m    518\u001b[0m \u001b[38;5;28;01melse\u001b[39;00m:\n\u001b[0;32m    519\u001b[0m     \u001b[38;5;28;01mraise\u001b[39;00m exc\u001b[38;5;241m.\u001b[39mObjectNotExecutableError(\u001b[38;5;28mself\u001b[39m)\n",
      "File \u001b[1;32mc:\\Users\\bran-\\anaconda3\\Lib\\site-packages\\sqlalchemy\\engine\\base.py:1640\u001b[0m, in \u001b[0;36mConnection._execute_clauseelement\u001b[1;34m(self, elem, distilled_parameters, execution_options)\u001b[0m\n\u001b[0;32m   1628\u001b[0m compiled_cache: Optional[CompiledCacheType] \u001b[38;5;241m=\u001b[39m execution_options\u001b[38;5;241m.\u001b[39mget(\n\u001b[0;32m   1629\u001b[0m     \u001b[38;5;124m\"\u001b[39m\u001b[38;5;124mcompiled_cache\u001b[39m\u001b[38;5;124m\"\u001b[39m, \u001b[38;5;28mself\u001b[39m\u001b[38;5;241m.\u001b[39mengine\u001b[38;5;241m.\u001b[39m_compiled_cache\n\u001b[0;32m   1630\u001b[0m )\n\u001b[0;32m   1632\u001b[0m compiled_sql, extracted_params, cache_hit \u001b[38;5;241m=\u001b[39m elem\u001b[38;5;241m.\u001b[39m_compile_w_cache(\n\u001b[0;32m   1633\u001b[0m     dialect\u001b[38;5;241m=\u001b[39mdialect,\n\u001b[0;32m   1634\u001b[0m     compiled_cache\u001b[38;5;241m=\u001b[39mcompiled_cache,\n\u001b[1;32m   (...)\u001b[0m\n\u001b[0;32m   1638\u001b[0m     linting\u001b[38;5;241m=\u001b[39m\u001b[38;5;28mself\u001b[39m\u001b[38;5;241m.\u001b[39mdialect\u001b[38;5;241m.\u001b[39mcompiler_linting \u001b[38;5;241m|\u001b[39m compiler\u001b[38;5;241m.\u001b[39mWARN_LINTING,\n\u001b[0;32m   1639\u001b[0m )\n\u001b[1;32m-> 1640\u001b[0m ret \u001b[38;5;241m=\u001b[39m \u001b[38;5;28mself\u001b[39m\u001b[38;5;241m.\u001b[39m_execute_context(\n\u001b[0;32m   1641\u001b[0m     dialect,\n\u001b[0;32m   1642\u001b[0m     dialect\u001b[38;5;241m.\u001b[39mexecution_ctx_cls\u001b[38;5;241m.\u001b[39m_init_compiled,\n\u001b[0;32m   1643\u001b[0m     compiled_sql,\n\u001b[0;32m   1644\u001b[0m     distilled_parameters,\n\u001b[0;32m   1645\u001b[0m     execution_options,\n\u001b[0;32m   1646\u001b[0m     compiled_sql,\n\u001b[0;32m   1647\u001b[0m     distilled_parameters,\n\u001b[0;32m   1648\u001b[0m     elem,\n\u001b[0;32m   1649\u001b[0m     extracted_params,\n\u001b[0;32m   1650\u001b[0m     cache_hit\u001b[38;5;241m=\u001b[39mcache_hit,\n\u001b[0;32m   1651\u001b[0m )\n\u001b[0;32m   1652\u001b[0m \u001b[38;5;28;01mif\u001b[39;00m has_events:\n\u001b[0;32m   1653\u001b[0m     \u001b[38;5;28mself\u001b[39m\u001b[38;5;241m.\u001b[39mdispatch\u001b[38;5;241m.\u001b[39mafter_execute(\n\u001b[0;32m   1654\u001b[0m         \u001b[38;5;28mself\u001b[39m,\n\u001b[0;32m   1655\u001b[0m         elem,\n\u001b[1;32m   (...)\u001b[0m\n\u001b[0;32m   1659\u001b[0m         ret,\n\u001b[0;32m   1660\u001b[0m     )\n",
      "File \u001b[1;32mc:\\Users\\bran-\\anaconda3\\Lib\\site-packages\\sqlalchemy\\engine\\base.py:1846\u001b[0m, in \u001b[0;36mConnection._execute_context\u001b[1;34m(self, dialect, constructor, statement, parameters, execution_options, *args, **kw)\u001b[0m\n\u001b[0;32m   1844\u001b[0m     \u001b[38;5;28;01mreturn\u001b[39;00m \u001b[38;5;28mself\u001b[39m\u001b[38;5;241m.\u001b[39m_exec_insertmany_context(dialect, context)\n\u001b[0;32m   1845\u001b[0m \u001b[38;5;28;01melse\u001b[39;00m:\n\u001b[1;32m-> 1846\u001b[0m     \u001b[38;5;28;01mreturn\u001b[39;00m \u001b[38;5;28mself\u001b[39m\u001b[38;5;241m.\u001b[39m_exec_single_context(\n\u001b[0;32m   1847\u001b[0m         dialect, context, statement, parameters\n\u001b[0;32m   1848\u001b[0m     )\n",
      "File \u001b[1;32mc:\\Users\\bran-\\anaconda3\\Lib\\site-packages\\sqlalchemy\\engine\\base.py:1986\u001b[0m, in \u001b[0;36mConnection._exec_single_context\u001b[1;34m(self, dialect, context, statement, parameters)\u001b[0m\n\u001b[0;32m   1983\u001b[0m     result \u001b[38;5;241m=\u001b[39m context\u001b[38;5;241m.\u001b[39m_setup_result_proxy()\n\u001b[0;32m   1985\u001b[0m \u001b[38;5;28;01mexcept\u001b[39;00m \u001b[38;5;167;01mBaseException\u001b[39;00m \u001b[38;5;28;01mas\u001b[39;00m e:\n\u001b[1;32m-> 1986\u001b[0m     \u001b[38;5;28mself\u001b[39m\u001b[38;5;241m.\u001b[39m_handle_dbapi_exception(\n\u001b[0;32m   1987\u001b[0m         e, str_statement, effective_parameters, cursor, context\n\u001b[0;32m   1988\u001b[0m     )\n\u001b[0;32m   1990\u001b[0m \u001b[38;5;28;01mreturn\u001b[39;00m result\n",
      "File \u001b[1;32mc:\\Users\\bran-\\anaconda3\\Lib\\site-packages\\sqlalchemy\\engine\\base.py:2353\u001b[0m, in \u001b[0;36mConnection._handle_dbapi_exception\u001b[1;34m(self, e, statement, parameters, cursor, context, is_sub_exec)\u001b[0m\n\u001b[0;32m   2351\u001b[0m \u001b[38;5;28;01melif\u001b[39;00m should_wrap:\n\u001b[0;32m   2352\u001b[0m     \u001b[38;5;28;01massert\u001b[39;00m sqlalchemy_exception \u001b[38;5;129;01mis\u001b[39;00m \u001b[38;5;129;01mnot\u001b[39;00m \u001b[38;5;28;01mNone\u001b[39;00m\n\u001b[1;32m-> 2353\u001b[0m     \u001b[38;5;28;01mraise\u001b[39;00m sqlalchemy_exception\u001b[38;5;241m.\u001b[39mwith_traceback(exc_info[\u001b[38;5;241m2\u001b[39m]) \u001b[38;5;28;01mfrom\u001b[39;00m \u001b[38;5;21;01me\u001b[39;00m\n\u001b[0;32m   2354\u001b[0m \u001b[38;5;28;01melse\u001b[39;00m:\n\u001b[0;32m   2355\u001b[0m     \u001b[38;5;28;01massert\u001b[39;00m exc_info[\u001b[38;5;241m1\u001b[39m] \u001b[38;5;129;01mis\u001b[39;00m \u001b[38;5;129;01mnot\u001b[39;00m \u001b[38;5;28;01mNone\u001b[39;00m\n",
      "File \u001b[1;32mc:\\Users\\bran-\\anaconda3\\Lib\\site-packages\\sqlalchemy\\engine\\base.py:1967\u001b[0m, in \u001b[0;36mConnection._exec_single_context\u001b[1;34m(self, dialect, context, statement, parameters)\u001b[0m\n\u001b[0;32m   1965\u001b[0m                 \u001b[38;5;28;01mbreak\u001b[39;00m\n\u001b[0;32m   1966\u001b[0m     \u001b[38;5;28;01mif\u001b[39;00m \u001b[38;5;129;01mnot\u001b[39;00m evt_handled:\n\u001b[1;32m-> 1967\u001b[0m         \u001b[38;5;28mself\u001b[39m\u001b[38;5;241m.\u001b[39mdialect\u001b[38;5;241m.\u001b[39mdo_execute(\n\u001b[0;32m   1968\u001b[0m             cursor, str_statement, effective_parameters, context\n\u001b[0;32m   1969\u001b[0m         )\n\u001b[0;32m   1971\u001b[0m \u001b[38;5;28;01mif\u001b[39;00m \u001b[38;5;28mself\u001b[39m\u001b[38;5;241m.\u001b[39m_has_events \u001b[38;5;129;01mor\u001b[39;00m \u001b[38;5;28mself\u001b[39m\u001b[38;5;241m.\u001b[39mengine\u001b[38;5;241m.\u001b[39m_has_events:\n\u001b[0;32m   1972\u001b[0m     \u001b[38;5;28mself\u001b[39m\u001b[38;5;241m.\u001b[39mdispatch\u001b[38;5;241m.\u001b[39mafter_cursor_execute(\n\u001b[0;32m   1973\u001b[0m         \u001b[38;5;28mself\u001b[39m,\n\u001b[0;32m   1974\u001b[0m         cursor,\n\u001b[1;32m   (...)\u001b[0m\n\u001b[0;32m   1978\u001b[0m         context\u001b[38;5;241m.\u001b[39mexecutemany,\n\u001b[0;32m   1979\u001b[0m     )\n",
      "File \u001b[1;32mc:\\Users\\bran-\\anaconda3\\Lib\\site-packages\\sqlalchemy\\engine\\default.py:924\u001b[0m, in \u001b[0;36mDefaultDialect.do_execute\u001b[1;34m(self, cursor, statement, parameters, context)\u001b[0m\n\u001b[0;32m    923\u001b[0m \u001b[38;5;28;01mdef\u001b[39;00m \u001b[38;5;21mdo_execute\u001b[39m(\u001b[38;5;28mself\u001b[39m, cursor, statement, parameters, context\u001b[38;5;241m=\u001b[39m\u001b[38;5;28;01mNone\u001b[39;00m):\n\u001b[1;32m--> 924\u001b[0m     cursor\u001b[38;5;241m.\u001b[39mexecute(statement, parameters)\n",
      "\u001b[1;31mIntegrityError\u001b[0m: (psycopg2.errors.ForeignKeyViolation) insert or update on table \"SERVICE_DAILY_FACT_TABLE\" violates foreign key constraint \"SERVICE_DAILY_FACT_TABLE_courier_id_fkey\"\nDETAIL:  Key (courier_id)=(83) is not present in table \"COURIER_DIMENSION\".\n\n[SQL: \n\t\t\tALTER TABLE \"SERVICE_DAILY_FACT_TABLE\"\n\t\t\t\nADD FOREIGN KEY (time_id) REFERENCES \"TIME_DIMENSION\"(time_id),\nADD FOREIGN KEY (courier_id) REFERENCES \"COURIER_DIMENSION\"(courier_id),\nADD FOREIGN KEY (office_id) REFERENCES \"OFFICE_DIMENSION\"(office_id);\n\n\t\t\t]\n(Background on this error at: https://sqlalche.me/e/20/gkpj)"
     ]
    }
   ],
   "source": [
    "# query = \"\"\"\n",
    "# ADD FOREIGN KEY (time_id) REFERENCES \"TIME_DIMENSION\"(time_id),\n",
    "# ADD FOREIGN KEY (customer_id) REFERENCES \"CUSTOMER_DIMENSION\"(customer_id),\n",
    "# ADD FOREIGN KEY (courier_id) REFERENCES \"COURIER_DIMENSION\"(courier_id),\n",
    "# ADD FOREIGN KEY (office_id) REFERENCES \"OFFICE_DIMENSION\"(office_id);\n",
    "# \"\"\"\n",
    "\n",
    "# alter_table(\"SERVICE_DAILY_FACT_TABLE\", query)"
   ]
  },
  {
   "cell_type": "markdown",
   "metadata": {},
   "source": [
    "### `SERVICE_HOUR_FACT_TABLE`"
   ]
  },
  {
   "cell_type": "code",
   "execution_count": null,
   "metadata": {},
   "outputs": [],
   "source": [
    "# query = \"\"\"\n",
    "# ADD FOREIGN KEY (time_id) REFERENCES \"TIME_DIMENSION\"(time_id),\n",
    "# ADD FOREIGN KEY (customer_id) REFERENCES \"CUSTOMER_DIMENSION\"(customer_id),\n",
    "# ADD FOREIGN KEY (courier_id) REFERENCES \"COURIER_DIMENSION\"(courier_id),\n",
    "# ADD FOREIGN KEY (office_id) REFERENCES \"OFFICE_DIMENSION\"(office_id);\n",
    "# \"\"\"\n",
    "\n",
    "# alter_table(\"SERVICE_HOUR_FACT_TABLE\", query)"
   ]
  },
  {
   "cell_type": "markdown",
   "metadata": {},
   "source": [
    "### `UPDATES_FACT_TABLE`"
   ]
  },
  {
   "cell_type": "code",
   "execution_count": null,
   "metadata": {},
   "outputs": [],
   "source": [
    "query = \"\"\"\n",
    "ADD FOREIGN KEY (update_id) REFERENCES \"COURIER_DIMENSION\"(courier_id),\n",
    "ADD FOREIGN KEY (time_id) REFERENCES \"TIME_DIMENSION\"(time_id);\n",
    "\"\"\"\n",
    "\n",
    "alter_table(\"UPDATES_FACT_TABLE\", query)"
   ]
  }
 ],
 "metadata": {
  "kernelspec": {
   "display_name": "base",
   "language": "python",
   "name": "python3"
  },
  "language_info": {
   "codemirror_mode": {
    "name": "ipython",
    "version": 3
   },
   "file_extension": ".py",
   "mimetype": "text/x-python",
   "name": "python",
   "nbconvert_exporter": "python",
   "pygments_lexer": "ipython3",
   "version": "3.12.3"
  }
 },
 "nbformat": 4,
 "nbformat_minor": 2
}
