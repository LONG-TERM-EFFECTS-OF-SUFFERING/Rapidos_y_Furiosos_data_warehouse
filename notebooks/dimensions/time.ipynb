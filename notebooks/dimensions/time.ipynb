{
 "cells": [
  {
   "cell_type": "markdown",
   "metadata": {},
   "source": [
    "# Time"
   ]
  },
  {
   "cell_type": "code",
   "execution_count": 1,
   "metadata": {},
   "outputs": [],
   "source": [
    "import pandas as pd"
   ]
  },
  {
   "cell_type": "markdown",
   "metadata": {},
   "source": [
    "## Database connection"
   ]
  },
  {
   "cell_type": "code",
   "execution_count": 2,
   "metadata": {},
   "outputs": [],
   "source": [
    "import yaml\n",
    "from sqlalchemy import create_engine\n",
    "\n",
    "\n",
    "with open(\"../config.yml\", \"r\") as file:\n",
    "\tconfig = yaml.safe_load(file)\n",
    "\tconfig_OLTP = config[\"OLTP\"]\n",
    "\tconfig_OLAP = config[\"OLAP\"]\n",
    "\n",
    "\n",
    "url_OLTP = (f\"{config_OLTP['drivername']}://{config_OLTP['user']}:{config_OLTP['password']}\"\n",
    "\t\t\tf\"@{config_OLTP['host']}:{config_OLTP['port']}/{config_OLTP['database_name']}\")\n",
    "\n",
    "url_OLAP = (f\"{config_OLAP['drivername']}://{config_OLAP['user']}:{config_OLAP['password']}\"\n",
    "\t\t\tf\"@{config_OLAP['host']}:{config_OLAP['port']}/{config_OLAP['database_name']}\")\n",
    "\n",
    "OLTP_connection = create_engine(url_OLTP)\n",
    "OLAP_connection = create_engine(url_OLAP)"
   ]
  },
  {
   "cell_type": "markdown",
   "metadata": {},
   "source": [
    "## Extraction and transformation"
   ]
  },
  {
   "cell_type": "code",
   "execution_count": 3,
   "metadata": {},
   "outputs": [
    {
     "data": {
      "text/html": [
       "<div>\n",
       "<style scoped>\n",
       "    .dataframe tbody tr th:only-of-type {\n",
       "        vertical-align: middle;\n",
       "    }\n",
       "\n",
       "    .dataframe tbody tr th {\n",
       "        vertical-align: top;\n",
       "    }\n",
       "\n",
       "    .dataframe thead th {\n",
       "        text-align: right;\n",
       "    }\n",
       "</style>\n",
       "<table border=\"1\" class=\"dataframe\">\n",
       "  <thead>\n",
       "    <tr style=\"text-align: right;\">\n",
       "      <th></th>\n",
       "      <th>date</th>\n",
       "    </tr>\n",
       "  </thead>\n",
       "  <tbody>\n",
       "    <tr>\n",
       "      <th>0</th>\n",
       "      <td>2023-09-18</td>\n",
       "    </tr>\n",
       "    <tr>\n",
       "      <th>1</th>\n",
       "      <td>2023-09-19</td>\n",
       "    </tr>\n",
       "    <tr>\n",
       "      <th>2</th>\n",
       "      <td>2023-09-20</td>\n",
       "    </tr>\n",
       "    <tr>\n",
       "      <th>3</th>\n",
       "      <td>2023-09-21</td>\n",
       "    </tr>\n",
       "    <tr>\n",
       "      <th>4</th>\n",
       "      <td>2023-09-22</td>\n",
       "    </tr>\n",
       "  </tbody>\n",
       "</table>\n",
       "</div>"
      ],
      "text/plain": [
       "        date\n",
       "0 2023-09-18\n",
       "1 2023-09-19\n",
       "2 2023-09-20\n",
       "3 2023-09-21\n",
       "4 2023-09-22"
      ]
     },
     "execution_count": 3,
     "metadata": {},
     "output_type": "execute_result"
    }
   ],
   "source": [
    "date_dimension = pd.DataFrame({\n",
    "\t\"date\": pd.date_range(start=\"18/9/2023\", end=\"1/9/2024\")\n",
    "})\n",
    "\n",
    "date_dimension.head()"
   ]
  },
  {
   "cell_type": "code",
   "execution_count": 4,
   "metadata": {},
   "outputs": [
    {
     "data": {
      "text/html": [
       "<div>\n",
       "<style scoped>\n",
       "    .dataframe tbody tr th:only-of-type {\n",
       "        vertical-align: middle;\n",
       "    }\n",
       "\n",
       "    .dataframe tbody tr th {\n",
       "        vertical-align: top;\n",
       "    }\n",
       "\n",
       "    .dataframe thead th {\n",
       "        text-align: right;\n",
       "    }\n",
       "</style>\n",
       "<table border=\"1\" class=\"dataframe\">\n",
       "  <thead>\n",
       "    <tr style=\"text-align: right;\">\n",
       "      <th></th>\n",
       "      <th>date</th>\n",
       "      <th>year</th>\n",
       "      <th>month</th>\n",
       "      <th>day</th>\n",
       "      <th>day_of_year</th>\n",
       "      <th>day_of_month</th>\n",
       "      <th>month_str</th>\n",
       "      <th>day_str</th>\n",
       "    </tr>\n",
       "  </thead>\n",
       "  <tbody>\n",
       "    <tr>\n",
       "      <th>0</th>\n",
       "      <td>2023-09-18</td>\n",
       "      <td>2023</td>\n",
       "      <td>9</td>\n",
       "      <td>18</td>\n",
       "      <td>261</td>\n",
       "      <td>30</td>\n",
       "      <td>September</td>\n",
       "      <td>Monday</td>\n",
       "    </tr>\n",
       "    <tr>\n",
       "      <th>1</th>\n",
       "      <td>2023-09-19</td>\n",
       "      <td>2023</td>\n",
       "      <td>9</td>\n",
       "      <td>19</td>\n",
       "      <td>262</td>\n",
       "      <td>30</td>\n",
       "      <td>September</td>\n",
       "      <td>Tuesday</td>\n",
       "    </tr>\n",
       "    <tr>\n",
       "      <th>2</th>\n",
       "      <td>2023-09-20</td>\n",
       "      <td>2023</td>\n",
       "      <td>9</td>\n",
       "      <td>20</td>\n",
       "      <td>263</td>\n",
       "      <td>30</td>\n",
       "      <td>September</td>\n",
       "      <td>Wednesday</td>\n",
       "    </tr>\n",
       "    <tr>\n",
       "      <th>3</th>\n",
       "      <td>2023-09-21</td>\n",
       "      <td>2023</td>\n",
       "      <td>9</td>\n",
       "      <td>21</td>\n",
       "      <td>264</td>\n",
       "      <td>30</td>\n",
       "      <td>September</td>\n",
       "      <td>Thursday</td>\n",
       "    </tr>\n",
       "    <tr>\n",
       "      <th>4</th>\n",
       "      <td>2023-09-22</td>\n",
       "      <td>2023</td>\n",
       "      <td>9</td>\n",
       "      <td>22</td>\n",
       "      <td>265</td>\n",
       "      <td>30</td>\n",
       "      <td>September</td>\n",
       "      <td>Friday</td>\n",
       "    </tr>\n",
       "  </tbody>\n",
       "</table>\n",
       "</div>"
      ],
      "text/plain": [
       "        date  year  month  day  day_of_year  day_of_month  month_str  \\\n",
       "0 2023-09-18  2023      9   18          261            30  September   \n",
       "1 2023-09-19  2023      9   19          262            30  September   \n",
       "2 2023-09-20  2023      9   20          263            30  September   \n",
       "3 2023-09-21  2023      9   21          264            30  September   \n",
       "4 2023-09-22  2023      9   22          265            30  September   \n",
       "\n",
       "     day_str  \n",
       "0     Monday  \n",
       "1    Tuesday  \n",
       "2  Wednesday  \n",
       "3   Thursday  \n",
       "4     Friday  "
      ]
     },
     "execution_count": 4,
     "metadata": {},
     "output_type": "execute_result"
    }
   ],
   "source": [
    "date_dimension[\"year\"] = date_dimension[\"date\"].dt.year\n",
    "date_dimension[\"month\"] = date_dimension[\"date\"].dt.month\n",
    "date_dimension[\"day\"] = date_dimension[\"date\"].dt.day\n",
    "date_dimension[\"day_of_year\"] = date_dimension[\"date\"].dt.day_of_year\n",
    "date_dimension[\"day_of_month\"] = date_dimension[\"date\"].dt.days_in_month\n",
    "date_dimension[\"month_str\"] = date_dimension[\"date\"].dt.month_name()\n",
    "date_dimension[\"day_str\"] = date_dimension[\"date\"].dt.day_name()\n",
    "\n",
    "date_dimension.head()"
   ]
  },
  {
   "cell_type": "markdown",
   "metadata": {},
   "source": [
    "## Load"
   ]
  },
  {
   "cell_type": "code",
   "execution_count": 5,
   "metadata": {},
   "outputs": [
    {
     "data": {
      "text/plain": [
       "114"
      ]
     },
     "execution_count": 5,
     "metadata": {},
     "output_type": "execute_result"
    }
   ],
   "source": [
    "date_dimension.to_sql(\"DATE_DIMENSION\", OLAP_connection, if_exists=\"replace\", index_label=\"key_date_dimension\")"
   ]
  }
 ],
 "metadata": {
  "kernelspec": {
   "display_name": "base",
   "language": "python",
   "name": "python3"
  },
  "language_info": {
   "codemirror_mode": {
    "name": "ipython",
    "version": 3
   },
   "file_extension": ".py",
   "mimetype": "text/x-python",
   "name": "python",
   "nbconvert_exporter": "python",
   "pygments_lexer": "ipython3",
   "version": "3.12.3"
  }
 },
 "nbformat": 4,
 "nbformat_minor": 2
}
