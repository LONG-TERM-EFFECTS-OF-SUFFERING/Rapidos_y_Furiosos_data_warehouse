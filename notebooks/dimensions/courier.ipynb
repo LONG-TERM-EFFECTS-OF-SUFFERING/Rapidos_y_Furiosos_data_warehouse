{
 "cells": [
  {
   "cell_type": "markdown",
   "metadata": {},
   "source": [
    "# Courier"
   ]
  },
  {
   "cell_type": "code",
   "execution_count": 1,
   "metadata": {},
   "outputs": [],
   "source": [
    "import pandas as pd"
   ]
  },
  {
   "cell_type": "markdown",
   "metadata": {},
   "source": [
    "## Database connection"
   ]
  },
  {
   "cell_type": "code",
   "execution_count": 2,
   "metadata": {},
   "outputs": [],
   "source": [
    "import yaml\n",
    "from sqlalchemy import create_engine\n",
    "\n",
    "\n",
    "with open(\"../config.yml\", \"r\") as file:\n",
    "\tconfig = yaml.safe_load(file)\n",
    "\tconfig_OLTP = config[\"OLTP\"]\n",
    "\tconfig_OLAP = config[\"OLAP\"]\n",
    "\n",
    "\n",
    "url_OLTP = (f\"{config_OLTP['drivername']}://{config_OLTP['user']}:{config_OLTP['password']}\"\n",
    "\t\t\tf\"@{config_OLTP['host']}:{config_OLTP['port']}/{config_OLTP['database_name']}\")\n",
    "\n",
    "url_OLAP = (f\"{config_OLAP['drivername']}://{config_OLAP['user']}:{config_OLAP['password']}\"\n",
    "\t\t\tf\"@{config_OLAP['host']}:{config_OLAP['port']}/{config_OLAP['database_name']}\")\n",
    "\n",
    "OLTP_connection = create_engine(url_OLTP)\n",
    "OLAP_connection = create_engine(url_OLAP)"
   ]
  },
  {
   "cell_type": "markdown",
   "metadata": {},
   "source": [
    "## Extraction"
   ]
  },
  {
   "cell_type": "code",
   "execution_count": 3,
   "metadata": {},
   "outputs": [],
   "source": [
    "courier_dimension = pd.read_sql_table(\"clientes_mensajeroaquitoy\", OLTP_connection)\n",
    "city = pd.read_sql_table(\"ciudad\", OLTP_connection)"
   ]
  },
  {
   "cell_type": "code",
   "execution_count": 4,
   "metadata": {},
   "outputs": [
    {
     "data": {
      "text/html": [
       "<div>\n",
       "<style scoped>\n",
       "    .dataframe tbody tr th:only-of-type {\n",
       "        vertical-align: middle;\n",
       "    }\n",
       "\n",
       "    .dataframe tbody tr th {\n",
       "        vertical-align: top;\n",
       "    }\n",
       "\n",
       "    .dataframe thead th {\n",
       "        text-align: right;\n",
       "    }\n",
       "</style>\n",
       "<table border=\"1\" class=\"dataframe\">\n",
       "  <thead>\n",
       "    <tr style=\"text-align: right;\">\n",
       "      <th></th>\n",
       "      <th>id</th>\n",
       "      <th>user_id</th>\n",
       "      <th>activo</th>\n",
       "      <th>fecha_entrada</th>\n",
       "      <th>fecha_salida</th>\n",
       "      <th>salario</th>\n",
       "      <th>telefono</th>\n",
       "      <th>ciudad_operacion_id</th>\n",
       "      <th>token_Firebase</th>\n",
       "      <th>url_foto</th>\n",
       "    </tr>\n",
       "  </thead>\n",
       "  <tbody>\n",
       "    <tr>\n",
       "      <th>0</th>\n",
       "      <td>1</td>\n",
       "      <td>2</td>\n",
       "      <td>True</td>\n",
       "      <td>NaT</td>\n",
       "      <td>NaT</td>\n",
       "      <td>NaN</td>\n",
       "      <td>310-300000</td>\n",
       "      <td>13.0</td>\n",
       "      <td>None</td>\n",
       "      <td>http:</td>\n",
       "    </tr>\n",
       "  </tbody>\n",
       "</table>\n",
       "</div>"
      ],
      "text/plain": [
       "   id  user_id  activo fecha_entrada fecha_salida  salario    telefono  \\\n",
       "0   1        2    True           NaT          NaT      NaN  310-300000   \n",
       "\n",
       "   ciudad_operacion_id token_Firebase url_foto  \n",
       "0                 13.0           None    http:  "
      ]
     },
     "execution_count": 4,
     "metadata": {},
     "output_type": "execute_result"
    }
   ],
   "source": [
    "courier_dimension.head(1)"
   ]
  },
  {
   "cell_type": "code",
   "execution_count": 5,
   "metadata": {},
   "outputs": [
    {
     "data": {
      "text/html": [
       "<div>\n",
       "<style scoped>\n",
       "    .dataframe tbody tr th:only-of-type {\n",
       "        vertical-align: middle;\n",
       "    }\n",
       "\n",
       "    .dataframe tbody tr th {\n",
       "        vertical-align: top;\n",
       "    }\n",
       "\n",
       "    .dataframe thead th {\n",
       "        text-align: right;\n",
       "    }\n",
       "</style>\n",
       "<table border=\"1\" class=\"dataframe\">\n",
       "  <thead>\n",
       "    <tr style=\"text-align: right;\">\n",
       "      <th></th>\n",
       "      <th>ciudad_id</th>\n",
       "      <th>nombre</th>\n",
       "      <th>departamento_id</th>\n",
       "    </tr>\n",
       "  </thead>\n",
       "  <tbody>\n",
       "    <tr>\n",
       "      <th>0</th>\n",
       "      <td>6</td>\n",
       "      <td>BUGA</td>\n",
       "      <td>1</td>\n",
       "    </tr>\n",
       "  </tbody>\n",
       "</table>\n",
       "</div>"
      ],
      "text/plain": [
       "   ciudad_id nombre  departamento_id\n",
       "0          6   BUGA                1"
      ]
     },
     "execution_count": 5,
     "metadata": {},
     "output_type": "execute_result"
    }
   ],
   "source": [
    "city.head(1)"
   ]
  },
  {
   "cell_type": "markdown",
   "metadata": {},
   "source": [
    "## Transformation"
   ]
  },
  {
   "cell_type": "code",
   "execution_count": 6,
   "metadata": {},
   "outputs": [
    {
     "data": {
      "text/html": [
       "<div>\n",
       "<style scoped>\n",
       "    .dataframe tbody tr th:only-of-type {\n",
       "        vertical-align: middle;\n",
       "    }\n",
       "\n",
       "    .dataframe tbody tr th {\n",
       "        vertical-align: top;\n",
       "    }\n",
       "\n",
       "    .dataframe thead th {\n",
       "        text-align: right;\n",
       "    }\n",
       "</style>\n",
       "<table border=\"1\" class=\"dataframe\">\n",
       "  <thead>\n",
       "    <tr style=\"text-align: right;\">\n",
       "      <th></th>\n",
       "      <th>id</th>\n",
       "      <th>user_id</th>\n",
       "      <th>activo</th>\n",
       "      <th>fecha_entrada</th>\n",
       "      <th>fecha_salida</th>\n",
       "      <th>salario</th>\n",
       "      <th>telefono</th>\n",
       "      <th>ciudad_operacion_id</th>\n",
       "      <th>token_Firebase</th>\n",
       "      <th>url_foto</th>\n",
       "      <th>ciudad_id</th>\n",
       "      <th>nombre</th>\n",
       "      <th>departamento_id</th>\n",
       "    </tr>\n",
       "  </thead>\n",
       "  <tbody>\n",
       "    <tr>\n",
       "      <th>0</th>\n",
       "      <td>1</td>\n",
       "      <td>2</td>\n",
       "      <td>True</td>\n",
       "      <td>NaT</td>\n",
       "      <td>NaT</td>\n",
       "      <td>NaN</td>\n",
       "      <td>310-300000</td>\n",
       "      <td>13.0</td>\n",
       "      <td>None</td>\n",
       "      <td>http:</td>\n",
       "      <td>13.0</td>\n",
       "      <td>ACOPI YUMBO</td>\n",
       "      <td>1.0</td>\n",
       "    </tr>\n",
       "  </tbody>\n",
       "</table>\n",
       "</div>"
      ],
      "text/plain": [
       "   id  user_id  activo fecha_entrada fecha_salida  salario    telefono  \\\n",
       "0   1        2    True           NaT          NaT      NaN  310-300000   \n",
       "\n",
       "   ciudad_operacion_id token_Firebase url_foto  ciudad_id       nombre  \\\n",
       "0                 13.0           None    http:       13.0  ACOPI YUMBO   \n",
       "\n",
       "   departamento_id  \n",
       "0              1.0  "
      ]
     },
     "execution_count": 6,
     "metadata": {},
     "output_type": "execute_result"
    }
   ],
   "source": [
    "courier_dimension = courier_dimension.merge(\n",
    "\t\tcity, left_on=\"ciudad_operacion_id\", right_on=\"ciudad_id\", how=\"left\"\n",
    ")\n",
    "courier_dimension.head(1)"
   ]
  },
  {
   "cell_type": "code",
   "execution_count": 7,
   "metadata": {},
   "outputs": [],
   "source": [
    "courier_dimension.rename(\n",
    "\tcolumns={\n",
    "\t\t\"nombre\": \"courier_city\"\n",
    "\t}, inplace=True\n",
    ")"
   ]
  },
  {
   "cell_type": "code",
   "execution_count": 8,
   "metadata": {},
   "outputs": [],
   "source": [
    "courier_dimension = courier_dimension[[\"courier_city\"]]"
   ]
  },
  {
   "cell_type": "code",
   "execution_count": 9,
   "metadata": {},
   "outputs": [],
   "source": [
    "courier_dimension.reset_index(inplace=True)\n",
    "courier_dimension.rename(columns={ \"index\": \"courier_id\" }, inplace=True)\n",
    "courier_dimension.set_index(\"courier_id\", inplace=True)"
   ]
  },
  {
   "cell_type": "code",
   "execution_count": 10,
   "metadata": {},
   "outputs": [
    {
     "data": {
      "text/html": [
       "<div>\n",
       "<style scoped>\n",
       "    .dataframe tbody tr th:only-of-type {\n",
       "        vertical-align: middle;\n",
       "    }\n",
       "\n",
       "    .dataframe tbody tr th {\n",
       "        vertical-align: top;\n",
       "    }\n",
       "\n",
       "    .dataframe thead th {\n",
       "        text-align: right;\n",
       "    }\n",
       "</style>\n",
       "<table border=\"1\" class=\"dataframe\">\n",
       "  <thead>\n",
       "    <tr style=\"text-align: right;\">\n",
       "      <th></th>\n",
       "      <th>courier_city</th>\n",
       "    </tr>\n",
       "    <tr>\n",
       "      <th>courier_id</th>\n",
       "      <th></th>\n",
       "    </tr>\n",
       "  </thead>\n",
       "  <tbody>\n",
       "    <tr>\n",
       "      <th>0</th>\n",
       "      <td>ACOPI YUMBO</td>\n",
       "    </tr>\n",
       "  </tbody>\n",
       "</table>\n",
       "</div>"
      ],
      "text/plain": [
       "           courier_city\n",
       "courier_id             \n",
       "0           ACOPI YUMBO"
      ]
     },
     "execution_count": 10,
     "metadata": {},
     "output_type": "execute_result"
    }
   ],
   "source": [
    "courier_dimension.head(1)"
   ]
  },
  {
   "cell_type": "markdown",
   "metadata": {},
   "source": [
    "## Load"
   ]
  },
  {
   "cell_type": "code",
   "execution_count": 12,
   "metadata": {},
   "outputs": [
    {
     "name": "stderr",
     "output_type": "stream",
     "text": [
      "INFO:sqlalchemy.engine.Engine:select pg_catalog.version()\n",
      "INFO:sqlalchemy.engine.Engine:[raw sql] {}\n",
      "INFO:sqlalchemy.engine.Engine:select current_schema()\n",
      "INFO:sqlalchemy.engine.Engine:[raw sql] {}\n",
      "INFO:sqlalchemy.engine.Engine:show standard_conforming_strings\n",
      "INFO:sqlalchemy.engine.Engine:[raw sql] {}\n",
      "INFO:sqlalchemy.engine.Engine:BEGIN (implicit)\n",
      "INFO:sqlalchemy.engine.Engine:SELECT pg_catalog.pg_class.relname \n",
      "FROM pg_catalog.pg_class JOIN pg_catalog.pg_namespace ON pg_catalog.pg_namespace.oid = pg_catalog.pg_class.relnamespace \n",
      "WHERE pg_catalog.pg_class.relname = %(table_name)s AND pg_catalog.pg_class.relkind = ANY (ARRAY[%(param_1)s, %(param_2)s, %(param_3)s, %(param_4)s, %(param_5)s]) AND pg_catalog.pg_table_is_visible(pg_catalog.pg_class.oid) AND pg_catalog.pg_namespace.nspname != %(nspname_1)s\n",
      "INFO:sqlalchemy.engine.Engine:[generated in 0.00099s] {'table_name': 'COURIER_DIMENSION', 'param_1': 'r', 'param_2': 'p', 'param_3': 'f', 'param_4': 'v', 'param_5': 'm', 'nspname_1': 'pg_catalog'}\n",
      "INFO:sqlalchemy.engine.Engine:\n",
      "CREATE TABLE \"COURIER_DIMENSION\" (\n",
      "\tcourier_id BIGINT, \n",
      "\tcourier_city TEXT\n",
      ")\n",
      "\n",
      "\n",
      "INFO:sqlalchemy.engine.Engine:[no key 0.00123s] {}\n",
      "INFO:sqlalchemy.engine.Engine:CREATE INDEX \"ix_COURIER_DIMENSION_courier_id\" ON \"COURIER_DIMENSION\" (courier_id)\n",
      "INFO:sqlalchemy.engine.Engine:[no key 0.00115s] {}\n",
      "INFO:sqlalchemy.engine.Engine:INSERT INTO \"COURIER_DIMENSION\" (courier_id, courier_city) VALUES (%(courier_id__0)s, %(courier_city__0)s), (%(courier_id__1)s, %(courier_city__1)s), (%(courier_id__2)s, %(courier_city__2)s), (%(courier_id__3)s, %(courier_city__3)s), (%(courier_id__4 ... 1894 characters truncated ... _city__47)s), (%(courier_id__48)s, %(courier_city__48)s), (%(courier_id__49)s, %(courier_city__49)s)\n",
      "INFO:sqlalchemy.engine.Engine:[generated in 0.00020s (insertmanyvalues) 1/1 (unordered)] {'courier_city__0': 'ACOPI YUMBO', 'courier_id__0': 0, 'courier_city__1': 'CALI', 'courier_id__1': 1, 'courier_city__2': 'CALI', 'courier_id__2': 2, 'courier_city__3': 'CALI', 'courier_id__3': 3, 'courier_city__4': 'PASTO', 'courier_id__4': 4, 'courier_city__5': 'CALI', 'courier_id__5': 5, 'courier_city__6': 'TULUA', 'courier_id__6': 6, 'courier_city__7': 'CALI', 'courier_id__7': 7, 'courier_city__8': 'PALMIRA', 'courier_id__8': 8, 'courier_city__9': 'CALI', 'courier_id__9': 9, 'courier_city__10': 'CALI', 'courier_id__10': 10, 'courier_city__11': 'CALI', 'courier_id__11': 11, 'courier_city__12': None, 'courier_id__12': 12, 'courier_city__13': 'CALI', 'courier_id__13': 13, 'courier_city__14': 'CALI', 'courier_id__14': 14, 'courier_city__15': 'CALI', 'courier_id__15': 15, 'courier_city__16': 'CALI', 'courier_id__16': 16, 'courier_city__17': 'CALI', 'courier_id__17': 17, 'courier_city__18': 'POPAYAN', 'courier_id__18': 18, 'courier_city__19': 'CALI', 'courier_id__19': 19, 'courier_city__20': 'CALI', 'courier_id__20': 20, 'courier_city__21': None, 'courier_id__21': 21, 'courier_city__22': 'CALI', 'courier_id__22': 22, 'courier_city__23': None, 'courier_id__23': 23, 'courier_city__24': 'CALI', 'courier_id__24': 24, 'courier_city__25': 'CALI', 'courier_id__25': 25, 'courier_city__26': 'CALI', 'courier_id__26': 26, 'courier_city__27': 'CALI', 'courier_id__27': 27, 'courier_city__28': 'CALI', 'courier_id__28': 28, 'courier_city__29': 'CALI', 'courier_id__29': 29, 'courier_city__30': 'CALI', 'courier_id__30': 30, 'courier_city__31': 'CALI', 'courier_id__31': 31, 'courier_city__32': 'CALI', 'courier_id__32': 32, 'courier_city__33': 'CALI', 'courier_id__33': 33, 'courier_city__34': 'CALI', 'courier_id__34': 34, 'courier_city__35': 'CALI', 'courier_id__35': 35, 'courier_city__36': 'CALI', 'courier_id__36': 36, 'courier_city__37': None, 'courier_id__37': 37, 'courier_city__38': 'CALI', 'courier_id__38': 38, 'courier_city__39': 'CALI', 'courier_id__39': 39, 'courier_city__40': 'CALI', 'courier_id__40': 40, 'courier_city__41': None, 'courier_id__41': 41, 'courier_city__42': 'CALI', 'courier_id__42': 42, 'courier_city__43': 'CALI', 'courier_id__43': 43, 'courier_city__44': 'CALI', 'courier_id__44': 44, 'courier_city__45': 'CALI', 'courier_id__45': 45, 'courier_city__46': 'CALI', 'courier_id__46': 46, 'courier_city__47': 'CALI', 'courier_id__47': 47, 'courier_city__48': 'CALI', 'courier_id__48': 48, 'courier_city__49': 'CALI', 'courier_id__49': 49}\n",
      "INFO:sqlalchemy.engine.Engine:SELECT pg_catalog.pg_class.relname \n",
      "FROM pg_catalog.pg_class JOIN pg_catalog.pg_namespace ON pg_catalog.pg_namespace.oid = pg_catalog.pg_class.relnamespace \n",
      "WHERE pg_catalog.pg_class.relkind = ANY (ARRAY[%(param_1)s, %(param_2)s]) AND pg_catalog.pg_class.relpersistence != %(relpersistence_1)s AND pg_catalog.pg_table_is_visible(pg_catalog.pg_class.oid) AND pg_catalog.pg_namespace.nspname != %(nspname_1)s\n",
      "INFO:sqlalchemy.engine.Engine:[generated in 0.00102s] {'param_1': 'r', 'param_2': 'p', 'relpersistence_1': 't', 'nspname_1': 'pg_catalog'}\n",
      "INFO:sqlalchemy.engine.Engine:COMMIT\n"
     ]
    },
    {
     "data": {
      "text/plain": [
       "50"
      ]
     },
     "execution_count": 12,
     "metadata": {},
     "output_type": "execute_result"
    }
   ],
   "source": [
    "courier_dimension.to_sql(\n",
    "\t\"COURIER_DIMENSION\", OLAP_connection, if_exists=\"replace\", index=True\n",
    ")"
   ]
  }
 ],
 "metadata": {
  "kernelspec": {
   "display_name": "base",
   "language": "python",
   "name": "python3"
  },
  "language_info": {
   "codemirror_mode": {
    "name": "ipython",
    "version": 3
   },
   "file_extension": ".py",
   "mimetype": "text/x-python",
   "name": "python",
   "nbconvert_exporter": "python",
   "pygments_lexer": "ipython3",
   "version": "3.12.3"
  }
 },
 "nbformat": 4,
 "nbformat_minor": 2
}
