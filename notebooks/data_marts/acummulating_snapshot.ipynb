{
 "cells": [
  {
   "cell_type": "markdown",
   "metadata": {},
   "source": [
    "# Acummulating snapshot"
   ]
  },
  {
   "cell_type": "code",
   "execution_count": 1,
   "metadata": {},
   "outputs": [],
   "source": [
    "import numpy as np\n",
    "import pandas as pd"
   ]
  },
  {
   "cell_type": "markdown",
   "metadata": {},
   "source": [
    "## Database connection"
   ]
  },
  {
   "cell_type": "code",
   "execution_count": 2,
   "metadata": {},
   "outputs": [],
   "source": [
    "import yaml\n",
    "from sqlalchemy import create_engine\n",
    "\n",
    "\n",
    "with open(\"../config.yml\", \"r\") as file:\n",
    "\tconfig = yaml.safe_load(file)\n",
    "\tconfig_OLTP = config[\"OLTP\"]\n",
    "\tconfig_OLAP = config[\"OLAP\"]\n",
    "\n",
    "\n",
    "url_OLTP = (f\"{config_OLTP['drivername']}://{config_OLTP['user']}:{config_OLTP['password']}\"\n",
    "\t\t\tf\"@{config_OLTP['host']}:{config_OLTP['port']}/{config_OLTP['database_name']}\")\n",
    "\n",
    "url_OLAP = (f\"{config_OLAP['drivername']}://{config_OLAP['user']}:{config_OLAP['password']}\"\n",
    "\t\t\tf\"@{config_OLAP['host']}:{config_OLAP['port']}/{config_OLAP['database_name']}\")\n",
    "\n",
    "OLTP_connection = create_engine(url_OLTP)\n",
    "OLAP_connection = create_engine(url_OLAP)"
   ]
  },
  {
   "cell_type": "markdown",
   "metadata": {},
   "source": [
    "## Extraction"
   ]
  },
  {
   "cell_type": "code",
   "execution_count": 3,
   "metadata": {},
   "outputs": [],
   "source": [
    "time_dimension = pd.read_sql_table(\"TIME_DIMENSION\", OLAP_connection)\n",
    "service_status = pd.read_sql_table(\"mensajeria_estado\", OLTP_connection)\n",
    "service_statuses = pd.read_sql_table(\"mensajeria_estadosservicio\", OLTP_connection)\n",
    "# service_statuses = service_statuses.head(1000)"
   ]
  },
  {
   "cell_type": "markdown",
   "metadata": {},
   "source": [
    "## Transformation"
   ]
  },
  {
   "cell_type": "code",
   "execution_count": 4,
   "metadata": {},
   "outputs": [],
   "source": [
    "service_statuses.drop(columns=[\"foto\", \"observaciones\", \"es_prueba\", \"foto_binary\"], inplace=True)"
   ]
  },
  {
   "cell_type": "code",
   "execution_count": 5,
   "metadata": {},
   "outputs": [
    {
     "name": "stdout",
     "output_type": "stream",
     "text": [
      "Invalid records number: 51\n",
      "Invalid records: \n",
      "           fecha             hora\n",
      "676   2023-12-28  11:20:20.603000\n",
      "677   2023-12-28  11:20:27.311000\n",
      "686   2023-10-31  12:02:48.844000\n",
      "802   2023-12-28  10:50:48.748000\n",
      "803   2023-12-28  10:51:00.065000\n",
      "806   2023-12-28  10:53:11.601000\n",
      "807   2023-12-28  10:53:19.016000\n",
      "808   2023-12-28  10:53:25.357000\n",
      "811   2023-12-28  10:59:24.505000\n",
      "812   2023-12-28  10:59:30.531000\n",
      "813   2023-12-28  10:59:36.579000\n",
      "822   2023-12-28  11:20:32.434000\n",
      "825   2023-12-28  14:01:33.010000\n",
      "828   2023-12-28  14:15:17.274000\n",
      "829   2023-12-28  14:15:37.236000\n",
      "834   2023-12-28  19:09:32.485000\n",
      "835   2023-12-28  19:10:01.692000\n",
      "837   2023-12-28  19:14:14.753000\n",
      "838   2023-12-28  19:14:43.554000\n",
      "839   2023-12-28  19:23:44.718000\n",
      "840   2023-12-28  19:23:48.731000\n",
      "841   2023-12-28  19:24:16.948000\n",
      "851   2023-12-28  19:45:13.652000\n",
      "852   2023-12-28  19:45:15.098000\n",
      "853   2023-12-28  19:45:41.915000\n",
      "854   2023-12-28  19:45:42.962000\n",
      "855   2023-12-28  19:46:16.291000\n",
      "856   2023-12-28  19:46:17.647000\n",
      "857   2023-12-28  19:46:47.854000\n",
      "858   2023-12-28  19:47:16.706000\n",
      "859   2023-12-29  20:41:11.635000\n",
      "893   2024-01-03  19:14:32.932000\n",
      "894   2024-01-03  19:15:32.099000\n",
      "896   2024-01-03  19:16:29.474000\n",
      "970   2024-01-18  19:33:16.955000\n",
      "1383  2024-01-26  15:07:04.197000\n",
      "1384  2024-01-26  15:07:05.762000\n",
      "1385  2024-01-26  15:07:53.883000\n",
      "1386  2024-01-26  15:07:54.994000\n",
      "1387  2024-01-26  15:07:56.725000\n",
      "1388  2024-01-26  15:07:59.595000\n",
      "1406  2024-01-26  18:04:43.511000\n",
      "7684  2024-02-19  23:18:40.850000\n",
      "7985  2024-02-19  23:18:53.513000\n",
      "7986  2024-02-19  23:19:07.218000\n",
      "7987  2024-02-19  23:19:25.574000\n",
      "7988  2024-02-19  23:19:35.551000\n",
      "7990  2024-02-19  23:19:46.109000\n",
      "7991  2024-02-19  23:19:56.202000\n",
      "12660 2024-02-28  23:53:01.102000\n",
      "12661 2024-02-28  23:53:21.696000\n"
     ]
    },
    {
     "name": "stderr",
     "output_type": "stream",
     "text": [
      "C:\\Users\\bran-\\AppData\\Local\\Temp\\ipykernel_15344\\2821724718.py:2: UserWarning: The argument 'infer_datetime_format' is deprecated and will be removed in a future version. A strict version of it is now the default, see https://pandas.pydata.org/pdeps/0004-consistent-to-datetime-parsing.html. You can safely remove this argument.\n",
      "  service_statuses[\"date\"] = pd.to_datetime(\n"
     ]
    }
   ],
   "source": [
    "service_statuses[\"hora\"] = service_statuses[\"hora\"].astype(str)\n",
    "service_statuses[\"date\"] = pd.to_datetime(\n",
    "\tservice_statuses[\"fecha\"].astype(str) + \" \" + service_statuses[\"hora\"],\n",
    "\tinfer_datetime_format=True,\n",
    "\terrors=\"coerce\"\n",
    ")\n",
    "\n",
    "invalid_records_number = service_statuses[\"date\"].isna().sum()\n",
    "print(f\"Invalid records number: {invalid_records_number}\")\n",
    "\n",
    "if invalid_records_number > 0:\n",
    "\tinvalid_entries = service_statuses[service_statuses[\"date\"].isna()]\n",
    "\tprint(\"Invalid records: \")\n",
    "\tprint(invalid_entries[[\"fecha\", \"hora\"]])\n"
   ]
  },
  {
   "cell_type": "code",
   "execution_count": 6,
   "metadata": {},
   "outputs": [],
   "source": [
    "service_statuses[\"date\"] = service_statuses[\"date\"].dt.floor(\"min\")"
   ]
  },
  {
   "cell_type": "code",
   "execution_count": 7,
   "metadata": {},
   "outputs": [],
   "source": [
    "service_statuses.drop(columns=[\"fecha\", \"hora\"], inplace=True)"
   ]
  },
  {
   "cell_type": "code",
   "execution_count": 8,
   "metadata": {},
   "outputs": [],
   "source": [
    "service_statuses = pd.merge(service_statuses, service_status[[\"id\", \"nombre\"]],\n",
    "\t\t\t\t\t\t\t\tleft_on=\"estado_id\", right_on=\"id\", how=\"left\")"
   ]
  },
  {
   "cell_type": "code",
   "execution_count": 9,
   "metadata": {},
   "outputs": [],
   "source": [
    "service_statuses.drop(columns=[\"estado_id\", \"id_y\"], inplace=True)\n",
    "service_statuses.rename(\n",
    "\tcolumns={\n",
    "\t\t\"id_x\": \"id\",\n",
    "\t\t\"servicio_id\": \"service_id\",\n",
    "\t\t\"nombre\": \"status\"\n",
    "\t}, inplace=True\n",
    ")"
   ]
  },
  {
   "cell_type": "code",
   "execution_count": 10,
   "metadata": {},
   "outputs": [],
   "source": [
    "acummulating_snapshot_fact_table = service_statuses[[\"service_id\"]].drop_duplicates().reset_index(drop=True)"
   ]
  },
  {
   "cell_type": "code",
   "execution_count": 11,
   "metadata": {},
   "outputs": [],
   "source": [
    "date_columns = [\"request_time_id\", \"assignment_time_id\", \"pickup_time_id\", \"delivery_time_id\", \"closure_time_id\"]\n",
    "for col in date_columns:\n",
    "\tacummulating_snapshot_fact_table[col] = pd.NaT\n",
    "\n",
    "for _, row in service_statuses.iterrows():\n",
    "\tservice_id = row[\"service_id\"]\n",
    "\tstatus = row[\"status\"]\n",
    "\tdate = row[\"date\"]\n",
    "\n",
    "\tif status == \"Iniciado\":\n",
    "\t\tacummulating_snapshot_fact_table.loc[acummulating_snapshot_fact_table[\"service_id\"] == service_id,\n",
    "\t\t\t\t\t\t\t\t\t\t\t\t\"request_time_id\"] = date\n",
    "\telif status == \"Con mensajero Asignado\":\n",
    "\t\tacummulating_snapshot_fact_table.loc[acummulating_snapshot_fact_table[\"service_id\"] == service_id,\n",
    "\t\t\t\t\t\t\t\t\t\t\t\t\"assignment_time_id\"] = date\n",
    "\telif status == \"Recogido por mensajero\":\n",
    "\t\tacummulating_snapshot_fact_table.loc[acummulating_snapshot_fact_table[\"service_id\"] == service_id,\n",
    "\t\t\t\t\t\t\t\t\t\t\t\t\"pickup_time_id\"] = date\n",
    "\telif status == \"Entregado en destino\":\n",
    "\t\tacummulating_snapshot_fact_table.loc[acummulating_snapshot_fact_table[\"service_id\"] == service_id,\n",
    "\t\t\t\t\t\t\t\t\t\t\t\t\"delivery_time_id\"] = date\n",
    "\telif status == \"Terminado completo\":\n",
    "\t\tacummulating_snapshot_fact_table.loc[acummulating_snapshot_fact_table[\"service_id\"] == service_id,\n",
    "\t\t\t\t\t\t\t\t\t\t\t\t\"closure_time_id\"] = date\n"
   ]
  },
  {
   "cell_type": "code",
   "execution_count": 12,
   "metadata": {},
   "outputs": [],
   "source": [
    "def substract_series(series_1, series_2):\n",
    "\tresult = series_1 - series_2\n",
    "\tresult[pd.isna(series_1) | pd.isna(series_2)] = pd.Timedelta(0)\n",
    "\treturn result\n",
    "\n",
    "acummulating_snapshot_fact_table[\"request_assignment_time\"] = substract_series(acummulating_snapshot_fact_table[\"assignment_time_id\"], acummulating_snapshot_fact_table[\"request_time_id\"])\n",
    "acummulating_snapshot_fact_table[\"assignment_pickup_time\"] = substract_series(acummulating_snapshot_fact_table[\"pickup_time_id\"], acummulating_snapshot_fact_table[\"assignment_time_id\"])\n",
    "acummulating_snapshot_fact_table[\"pickup_delivery_time\"] = substract_series(acummulating_snapshot_fact_table[\"delivery_time_id\"], acummulating_snapshot_fact_table[\"pickup_time_id\"])\n",
    "acummulating_snapshot_fact_table[\"delivery_closure_time\"] = substract_series(acummulating_snapshot_fact_table[\"closure_time_id\"], acummulating_snapshot_fact_table[\"delivery_time_id\"])"
   ]
  },
  {
   "cell_type": "code",
   "execution_count": 13,
   "metadata": {},
   "outputs": [],
   "source": [
    "acummulating_snapshot_fact_table[\"request_assignment_time\"] = acummulating_snapshot_fact_table[\"request_assignment_time\"].dt.total_seconds()\n",
    "acummulating_snapshot_fact_table[\"assignment_pickup_time\"] = acummulating_snapshot_fact_table[\"assignment_pickup_time\"].dt.total_seconds()\n",
    "acummulating_snapshot_fact_table[\"pickup_delivery_time\"] = acummulating_snapshot_fact_table[\"pickup_delivery_time\"].dt.total_seconds()\n",
    "acummulating_snapshot_fact_table[\"delivery_closure_time\"] = acummulating_snapshot_fact_table[\"delivery_closure_time\"].dt.total_seconds()"
   ]
  },
  {
   "cell_type": "code",
   "execution_count": 14,
   "metadata": {},
   "outputs": [],
   "source": [
    "time_mapping = dict(zip(time_dimension[\"date\"], time_dimension[\"time_id\"]))"
   ]
  },
  {
   "cell_type": "code",
   "execution_count": 15,
   "metadata": {},
   "outputs": [],
   "source": [
    "acummulating_snapshot_fact_table[\"request_time_id\"] = acummulating_snapshot_fact_table[\"request_time_id\"].map(time_mapping)\n",
    "acummulating_snapshot_fact_table[\"assignment_time_id\"] = acummulating_snapshot_fact_table[\"assignment_time_id\"].map(time_mapping)\n",
    "acummulating_snapshot_fact_table[\"pickup_time_id\"] = acummulating_snapshot_fact_table[\"pickup_time_id\"].map(time_mapping)\n",
    "acummulating_snapshot_fact_table[\"delivery_time_id\"] = acummulating_snapshot_fact_table[\"delivery_time_id\"].map(time_mapping)\n",
    "acummulating_snapshot_fact_table[\"closure_time_id\"] = acummulating_snapshot_fact_table[\"closure_time_id\"].map(time_mapping)"
   ]
  },
  {
   "cell_type": "code",
   "execution_count": 16,
   "metadata": {},
   "outputs": [],
   "source": [
    "acummulating_snapshot_fact_table.reset_index(inplace=True)\n",
    "acummulating_snapshot_fact_table.rename(columns={ \"index\": \"acummulating_snapshot_id\" }, inplace=True)\n",
    "acummulating_snapshot_fact_table.set_index(\"acummulating_snapshot_id\", inplace=True)"
   ]
  },
  {
   "cell_type": "code",
   "execution_count": 17,
   "metadata": {},
   "outputs": [
    {
     "data": {
      "text/html": [
       "<div>\n",
       "<style scoped>\n",
       "    .dataframe tbody tr th:only-of-type {\n",
       "        vertical-align: middle;\n",
       "    }\n",
       "\n",
       "    .dataframe tbody tr th {\n",
       "        vertical-align: top;\n",
       "    }\n",
       "\n",
       "    .dataframe thead th {\n",
       "        text-align: right;\n",
       "    }\n",
       "</style>\n",
       "<table border=\"1\" class=\"dataframe\">\n",
       "  <thead>\n",
       "    <tr style=\"text-align: right;\">\n",
       "      <th></th>\n",
       "      <th>service_id</th>\n",
       "      <th>request_time_id</th>\n",
       "      <th>assignment_time_id</th>\n",
       "      <th>pickup_time_id</th>\n",
       "      <th>delivery_time_id</th>\n",
       "      <th>closure_time_id</th>\n",
       "      <th>request_assignment_time</th>\n",
       "      <th>assignment_pickup_time</th>\n",
       "      <th>pickup_delivery_time</th>\n",
       "      <th>delivery_closure_time</th>\n",
       "    </tr>\n",
       "    <tr>\n",
       "      <th>acummulating_snapshot_id</th>\n",
       "      <th></th>\n",
       "      <th></th>\n",
       "      <th></th>\n",
       "      <th></th>\n",
       "      <th></th>\n",
       "      <th></th>\n",
       "      <th></th>\n",
       "      <th></th>\n",
       "      <th></th>\n",
       "      <th></th>\n",
       "    </tr>\n",
       "  </thead>\n",
       "  <tbody>\n",
       "    <tr>\n",
       "      <th>0</th>\n",
       "      <td>226</td>\n",
       "      <td>191517.0</td>\n",
       "      <td>191547.0</td>\n",
       "      <td>191593.0</td>\n",
       "      <td>191619.0</td>\n",
       "      <td>NaN</td>\n",
       "      <td>1800.0</td>\n",
       "      <td>2760.0</td>\n",
       "      <td>1560.0</td>\n",
       "      <td>0.0</td>\n",
       "    </tr>\n",
       "    <tr>\n",
       "      <th>1</th>\n",
       "      <td>79</td>\n",
       "      <td>150580.0</td>\n",
       "      <td>155057.0</td>\n",
       "      <td>155259.0</td>\n",
       "      <td>194084.0</td>\n",
       "      <td>194085.0</td>\n",
       "      <td>268620.0</td>\n",
       "      <td>12120.0</td>\n",
       "      <td>2329500.0</td>\n",
       "      <td>60.0</td>\n",
       "    </tr>\n",
       "    <tr>\n",
       "      <th>2</th>\n",
       "      <td>613</td>\n",
       "      <td>203675.0</td>\n",
       "      <td>203682.0</td>\n",
       "      <td>203700.0</td>\n",
       "      <td>203734.0</td>\n",
       "      <td>203746.0</td>\n",
       "      <td>420.0</td>\n",
       "      <td>1080.0</td>\n",
       "      <td>2040.0</td>\n",
       "      <td>720.0</td>\n",
       "    </tr>\n",
       "    <tr>\n",
       "      <th>3</th>\n",
       "      <td>376</td>\n",
       "      <td>195652.0</td>\n",
       "      <td>196730.0</td>\n",
       "      <td>196730.0</td>\n",
       "      <td>196730.0</td>\n",
       "      <td>NaN</td>\n",
       "      <td>64680.0</td>\n",
       "      <td>0.0</td>\n",
       "      <td>0.0</td>\n",
       "      <td>0.0</td>\n",
       "    </tr>\n",
       "    <tr>\n",
       "      <th>4</th>\n",
       "      <td>7164</td>\n",
       "      <td>290401.0</td>\n",
       "      <td>290470.0</td>\n",
       "      <td>290476.0</td>\n",
       "      <td>290557.0</td>\n",
       "      <td>NaN</td>\n",
       "      <td>4140.0</td>\n",
       "      <td>360.0</td>\n",
       "      <td>4860.0</td>\n",
       "      <td>0.0</td>\n",
       "    </tr>\n",
       "  </tbody>\n",
       "</table>\n",
       "</div>"
      ],
      "text/plain": [
       "                          service_id  request_time_id  assignment_time_id  \\\n",
       "acummulating_snapshot_id                                                    \n",
       "0                                226         191517.0            191547.0   \n",
       "1                                 79         150580.0            155057.0   \n",
       "2                                613         203675.0            203682.0   \n",
       "3                                376         195652.0            196730.0   \n",
       "4                               7164         290401.0            290470.0   \n",
       "\n",
       "                          pickup_time_id  delivery_time_id  closure_time_id  \\\n",
       "acummulating_snapshot_id                                                      \n",
       "0                               191593.0          191619.0              NaN   \n",
       "1                               155259.0          194084.0         194085.0   \n",
       "2                               203700.0          203734.0         203746.0   \n",
       "3                               196730.0          196730.0              NaN   \n",
       "4                               290476.0          290557.0              NaN   \n",
       "\n",
       "                          request_assignment_time  assignment_pickup_time  \\\n",
       "acummulating_snapshot_id                                                    \n",
       "0                                          1800.0                  2760.0   \n",
       "1                                        268620.0                 12120.0   \n",
       "2                                           420.0                  1080.0   \n",
       "3                                         64680.0                     0.0   \n",
       "4                                          4140.0                   360.0   \n",
       "\n",
       "                          pickup_delivery_time  delivery_closure_time  \n",
       "acummulating_snapshot_id                                               \n",
       "0                                       1560.0                    0.0  \n",
       "1                                    2329500.0                   60.0  \n",
       "2                                       2040.0                  720.0  \n",
       "3                                          0.0                    0.0  \n",
       "4                                       4860.0                    0.0  "
      ]
     },
     "execution_count": 17,
     "metadata": {},
     "output_type": "execute_result"
    }
   ],
   "source": [
    "acummulating_snapshot_fact_table.head()"
   ]
  },
  {
   "cell_type": "markdown",
   "metadata": {},
   "source": [
    "## Load"
   ]
  },
  {
   "cell_type": "code",
   "execution_count": 18,
   "metadata": {},
   "outputs": [],
   "source": [
    "from sqlalchemy import BigInteger\n",
    "\n",
    "\n",
    "dtype_mapping = {\n",
    "\t\"request_time_id\": BigInteger(),\n",
    "\t\"assignment_time_id\": BigInteger(),\n",
    "\t\"pickup_time_id\": BigInteger(),\n",
    "\t\"delivery_time_id\": BigInteger(),\n",
    "\t\"closure_time_id\": BigInteger()\n",
    "}"
   ]
  },
  {
   "cell_type": "code",
   "execution_count": 19,
   "metadata": {},
   "outputs": [
    {
     "data": {
      "text/plain": [
       "430"
      ]
     },
     "execution_count": 19,
     "metadata": {},
     "output_type": "execute_result"
    }
   ],
   "source": [
    "acummulating_snapshot_fact_table.to_sql(\n",
    "\t\"ACUMMULATING_SNAPSHOT_FACT_TABLE\", OLAP_connection, if_exists=\"replace\", index=True, dtype=dtype_mapping\n",
    ")"
   ]
  }
 ],
 "metadata": {
  "kernelspec": {
   "display_name": "base",
   "language": "python",
   "name": "python3"
  },
  "language_info": {
   "codemirror_mode": {
    "name": "ipython",
    "version": 3
   },
   "file_extension": ".py",
   "mimetype": "text/x-python",
   "name": "python",
   "nbconvert_exporter": "python",
   "pygments_lexer": "ipython3",
   "version": "3.12.3"
  }
 },
 "nbformat": 4,
 "nbformat_minor": 2
}
