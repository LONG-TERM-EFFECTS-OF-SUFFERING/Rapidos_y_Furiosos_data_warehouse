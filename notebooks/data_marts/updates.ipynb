{
 "cells": [
  {
   "cell_type": "markdown",
   "metadata": {},
   "source": [
    "# Updates (transactional)"
   ]
  },
  {
   "cell_type": "code",
   "execution_count": 92,
   "metadata": {},
   "outputs": [],
   "source": [
    "import pandas as pd"
   ]
  },
  {
   "cell_type": "markdown",
   "metadata": {},
   "source": [
    "## Database connection"
   ]
  },
  {
   "cell_type": "code",
   "execution_count": null,
   "metadata": {},
   "outputs": [],
   "source": [
    "import yaml\n",
    "from sqlalchemy import create_engine\n",
    "\n",
    "\n",
    "with open(\"../config.yml\", \"r\") as file:\n",
    "\tconfig = yaml.safe_load(file)\n",
    "\tconfig_OLTP = config[\"OLTP\"]\n",
    "\tconfig_OLAP = config[\"OLAP\"]\n",
    "\n",
    "\n",
    "url_OLTP = (f\"{config_OLTP['drivername']}://{config_OLTP['user']}:{config_OLTP['password']}\"\n",
    "\t\t\tf\"@{config_OLTP['host']}:{config_OLTP['port']}/{config_OLTP['database_name']}\")\n",
    "\n",
    "url_OLAP = (f\"{config_OLAP['drivername']}://{config_OLAP['user']}:{config_OLAP['password']}\"\n",
    "\t\t\tf\"@{config_OLAP['host']}:{config_OLAP['port']}/{config_OLAP['database_name']}\")\n",
    "\n",
    "OLTP_connection = create_engine(url_OLTP)\n",
    "OLAP_connection = create_engine(url_OLAP)"
   ]
  },
  {
   "cell_type": "markdown",
   "metadata": {},
   "source": [
    "## Extraction"
   ]
  },
  {
   "cell_type": "code",
   "execution_count": 94,
   "metadata": {},
   "outputs": [],
   "source": [
    "time_dimension = pd.read_sql_table(\"TIME_DIMENSION\", OLAP_connection)\n",
    "updates = pd.read_sql_table(\"mensajeria_novedadesservicio\", OLTP_connection)"
   ]
  },
  {
   "cell_type": "code",
   "execution_count": 104,
   "metadata": {},
   "outputs": [
    {
     "name": "stdout",
     "output_type": "stream",
     "text": [
      "   time_id       date  year  month  day  day_of_year  day_of_month  month_str  \\\n",
      "0        0 2023-09-18  2023      9   18          261            30  September   \n",
      "1        1 2023-09-19  2023      9   19          262            30  September   \n",
      "2        2 2023-09-20  2023      9   20          263            30  September   \n",
      "3        3 2023-09-21  2023      9   21          264            30  September   \n",
      "4        4 2023-09-22  2023      9   22          265            30  September   \n",
      "\n",
      "     day_str  \n",
      "0     Monday  \n",
      "1    Tuesday  \n",
      "2  Wednesday  \n",
      "3   Thursday  \n",
      "4     Friday  \n",
      "(114, 9)\n"
     ]
    }
   ],
   "source": [
    "print(time_dimension.head())\n",
    "print(time_dimension.shape)"
   ]
  },
  {
   "cell_type": "code",
   "execution_count": 103,
   "metadata": {},
   "outputs": [
    {
     "name": "stdout",
     "output_type": "stream",
     "text": [
      "   id fecha_novedad  tipo_novedad_id descripcion  servicio_id  es_prueba  \\\n",
      "0   4    2023-11-30                1           A           51       True   \n",
      "1   5    2023-11-30                1        Halo           51       True   \n",
      "2   6    2023-11-30                1           A           51       True   \n",
      "3   7    2023-11-30                1           B           51       True   \n",
      "4   8    2023-11-30                1           A           51       True   \n",
      "\n",
      "   mensajero_id  \n",
      "0             7  \n",
      "1             7  \n",
      "2             7  \n",
      "3             7  \n",
      "4             7  \n",
      "(5208, 7)\n"
     ]
    }
   ],
   "source": [
    "print(updates.head())\n",
    "print(updates.shape)"
   ]
  },
  {
   "cell_type": "markdown",
   "metadata": {},
   "source": [
    "## Transformation"
   ]
  },
  {
   "cell_type": "markdown",
   "metadata": {},
   "source": [
    "Ignore the hours in the updates times."
   ]
  },
  {
   "cell_type": "code",
   "execution_count": 97,
   "metadata": {},
   "outputs": [],
   "source": [
    "updates[\"fecha_novedad\"] = pd.to_datetime(updates[\"fecha_novedad\"].dt.date)"
   ]
  },
  {
   "cell_type": "code",
   "execution_count": 98,
   "metadata": {},
   "outputs": [
    {
     "data": {
      "text/html": [
       "<div>\n",
       "<style scoped>\n",
       "    .dataframe tbody tr th:only-of-type {\n",
       "        vertical-align: middle;\n",
       "    }\n",
       "\n",
       "    .dataframe tbody tr th {\n",
       "        vertical-align: top;\n",
       "    }\n",
       "\n",
       "    .dataframe thead th {\n",
       "        text-align: right;\n",
       "    }\n",
       "</style>\n",
       "<table border=\"1\" class=\"dataframe\">\n",
       "  <thead>\n",
       "    <tr style=\"text-align: right;\">\n",
       "      <th></th>\n",
       "      <th>id</th>\n",
       "      <th>fecha_novedad</th>\n",
       "      <th>tipo_novedad_id</th>\n",
       "      <th>descripcion</th>\n",
       "      <th>servicio_id</th>\n",
       "      <th>es_prueba</th>\n",
       "      <th>mensajero_id</th>\n",
       "    </tr>\n",
       "  </thead>\n",
       "  <tbody>\n",
       "    <tr>\n",
       "      <th>0</th>\n",
       "      <td>4</td>\n",
       "      <td>2023-11-30</td>\n",
       "      <td>1</td>\n",
       "      <td>A</td>\n",
       "      <td>51</td>\n",
       "      <td>True</td>\n",
       "      <td>7</td>\n",
       "    </tr>\n",
       "    <tr>\n",
       "      <th>1</th>\n",
       "      <td>5</td>\n",
       "      <td>2023-11-30</td>\n",
       "      <td>1</td>\n",
       "      <td>Halo</td>\n",
       "      <td>51</td>\n",
       "      <td>True</td>\n",
       "      <td>7</td>\n",
       "    </tr>\n",
       "    <tr>\n",
       "      <th>2</th>\n",
       "      <td>6</td>\n",
       "      <td>2023-11-30</td>\n",
       "      <td>1</td>\n",
       "      <td>A</td>\n",
       "      <td>51</td>\n",
       "      <td>True</td>\n",
       "      <td>7</td>\n",
       "    </tr>\n",
       "    <tr>\n",
       "      <th>3</th>\n",
       "      <td>7</td>\n",
       "      <td>2023-11-30</td>\n",
       "      <td>1</td>\n",
       "      <td>B</td>\n",
       "      <td>51</td>\n",
       "      <td>True</td>\n",
       "      <td>7</td>\n",
       "    </tr>\n",
       "    <tr>\n",
       "      <th>4</th>\n",
       "      <td>8</td>\n",
       "      <td>2023-11-30</td>\n",
       "      <td>1</td>\n",
       "      <td>A</td>\n",
       "      <td>51</td>\n",
       "      <td>True</td>\n",
       "      <td>7</td>\n",
       "    </tr>\n",
       "    <tr>\n",
       "      <th>...</th>\n",
       "      <td>...</td>\n",
       "      <td>...</td>\n",
       "      <td>...</td>\n",
       "      <td>...</td>\n",
       "      <td>...</td>\n",
       "      <td>...</td>\n",
       "      <td>...</td>\n",
       "    </tr>\n",
       "    <tr>\n",
       "      <th>95</th>\n",
       "      <td>101</td>\n",
       "      <td>2024-02-07</td>\n",
       "      <td>1</td>\n",
       "      <td>Se entrega factura frep 54172 para que sea leg...</td>\n",
       "      <td>637</td>\n",
       "      <td>True</td>\n",
       "      <td>22</td>\n",
       "    </tr>\n",
       "    <tr>\n",
       "      <th>96</th>\n",
       "      <td>102</td>\n",
       "      <td>2024-02-07</td>\n",
       "      <td>2</td>\n",
       "      <td>Recojido por Cristian roa</td>\n",
       "      <td>711</td>\n",
       "      <td>True</td>\n",
       "      <td>16</td>\n",
       "    </tr>\n",
       "    <tr>\n",
       "      <th>97</th>\n",
       "      <td>103</td>\n",
       "      <td>2024-02-07</td>\n",
       "      <td>1</td>\n",
       "      <td>Por favor arrimar la mx al laboratorio están h...</td>\n",
       "      <td>739</td>\n",
       "      <td>True</td>\n",
       "      <td>3</td>\n",
       "    </tr>\n",
       "    <tr>\n",
       "      <th>98</th>\n",
       "      <td>104</td>\n",
       "      <td>2024-02-07</td>\n",
       "      <td>1</td>\n",
       "      <td>Servicio duplicado</td>\n",
       "      <td>732</td>\n",
       "      <td>True</td>\n",
       "      <td>16</td>\n",
       "    </tr>\n",
       "    <tr>\n",
       "      <th>99</th>\n",
       "      <td>105</td>\n",
       "      <td>2024-02-08</td>\n",
       "      <td>2</td>\n",
       "      <td>Novedad</td>\n",
       "      <td>759</td>\n",
       "      <td>True</td>\n",
       "      <td>7</td>\n",
       "    </tr>\n",
       "  </tbody>\n",
       "</table>\n",
       "<p>100 rows × 7 columns</p>\n",
       "</div>"
      ],
      "text/plain": [
       "     id fecha_novedad  tipo_novedad_id  \\\n",
       "0     4    2023-11-30                1   \n",
       "1     5    2023-11-30                1   \n",
       "2     6    2023-11-30                1   \n",
       "3     7    2023-11-30                1   \n",
       "4     8    2023-11-30                1   \n",
       "..  ...           ...              ...   \n",
       "95  101    2024-02-07                1   \n",
       "96  102    2024-02-07                2   \n",
       "97  103    2024-02-07                1   \n",
       "98  104    2024-02-07                1   \n",
       "99  105    2024-02-08                2   \n",
       "\n",
       "                                          descripcion  servicio_id  es_prueba  \\\n",
       "0                                                   A           51       True   \n",
       "1                                                Halo           51       True   \n",
       "2                                                   A           51       True   \n",
       "3                                                   B           51       True   \n",
       "4                                                   A           51       True   \n",
       "..                                                ...          ...        ...   \n",
       "95  Se entrega factura frep 54172 para que sea leg...          637       True   \n",
       "96                          Recojido por Cristian roa          711       True   \n",
       "97  Por favor arrimar la mx al laboratorio están h...          739       True   \n",
       "98                                 Servicio duplicado          732       True   \n",
       "99                                            Novedad          759       True   \n",
       "\n",
       "    mensajero_id  \n",
       "0              7  \n",
       "1              7  \n",
       "2              7  \n",
       "3              7  \n",
       "4              7  \n",
       "..           ...  \n",
       "95            22  \n",
       "96            16  \n",
       "97             3  \n",
       "98            16  \n",
       "99             7  \n",
       "\n",
       "[100 rows x 7 columns]"
      ]
     },
     "execution_count": 98,
     "metadata": {},
     "output_type": "execute_result"
    }
   ],
   "source": [
    "updates.head()"
   ]
  },
  {
   "cell_type": "code",
   "execution_count": 99,
   "metadata": {},
   "outputs": [],
   "source": [
    "updates_fact_table = pd.merge(updates, time_dimension[[\"date\", \"time_id\"]],\n",
    "\t\t\t\t\t\t\t\tleft_on=\"fecha_novedad\", right_on=\"date\", how=\"left\")"
   ]
  },
  {
   "cell_type": "code",
   "execution_count": null,
   "metadata": {},
   "outputs": [],
   "source": [
    "updates_fact_table.drop(columns=[\"fecha_novedad\",\"date\", \"es_prueba\", \"mensajero_id\"], inplace=True)\n",
    "\n",
    "updates_fact_table.rename(\n",
    "\tcolumns={\n",
    "\t\t\"id\": \"updates_fact_table_id\",\n",
    "\t\t\"tipo_novedad_id\": \"update_id\",\n",
    "\t\t\"servicio_id\": \"service_id\",\n",
    "\t\t\"descripcion\": \"update_description\",\n",
    "\t}, inplace=True\n",
    ")"
   ]
  },
  {
   "cell_type": "code",
   "execution_count": 106,
   "metadata": {},
   "outputs": [
    {
     "name": "stdout",
     "output_type": "stream",
     "text": [
      "   updates_fact_table_id  update_id update_description  service_id  time_id\n",
      "0                      4          1                  A          51     73.0\n",
      "1                      5          1               Halo          51     73.0\n",
      "2                      6          1                  A          51     73.0\n",
      "3                      7          1                  B          51     73.0\n",
      "4                      8          1                  A          51     73.0\n",
      "(5208, 5)\n"
     ]
    }
   ],
   "source": [
    "print(updates_fact_table.head())\n",
    "print(updates_fact_table.shape)"
   ]
  },
  {
   "cell_type": "markdown",
   "metadata": {},
   "source": [
    "## Load"
   ]
  },
  {
   "cell_type": "code",
   "execution_count": 105,
   "metadata": {},
   "outputs": [
    {
     "data": {
      "text/plain": [
       "208"
      ]
     },
     "execution_count": 105,
     "metadata": {},
     "output_type": "execute_result"
    }
   ],
   "source": [
    "updates_fact_table.to_sql(\n",
    "\t\"UPDATES_FACT_TABLE\", OLAP_connection, if_exists=\"replace\", index=False\n",
    ")"
   ]
  }
 ],
 "metadata": {
  "kernelspec": {
   "display_name": "base",
   "language": "python",
   "name": "python3"
  },
  "language_info": {
   "codemirror_mode": {
    "name": "ipython",
    "version": 3
   },
   "file_extension": ".py",
   "mimetype": "text/x-python",
   "name": "python",
   "nbconvert_exporter": "python",
   "pygments_lexer": "ipython3",
   "version": "3.12.3"
  }
 },
 "nbformat": 4,
 "nbformat_minor": 2
}
