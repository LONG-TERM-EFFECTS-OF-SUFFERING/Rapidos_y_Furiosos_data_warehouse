{
 "cells": [
  {
   "cell_type": "markdown",
   "metadata": {},
   "source": [
    "# Updates (transactional)"
   ]
  },
  {
   "cell_type": "code",
   "execution_count": 23,
   "metadata": {},
   "outputs": [],
   "source": [
    "import pandas as pd"
   ]
  },
  {
   "cell_type": "markdown",
   "metadata": {},
   "source": [
    "## Database connection"
   ]
  },
  {
   "cell_type": "code",
   "execution_count": 24,
   "metadata": {},
   "outputs": [],
   "source": [
    "import yaml\n",
    "from sqlalchemy import create_engine\n",
    "\n",
    "\n",
    "with open(\"../config.yml\", \"r\") as file:\n",
    "\tconfig = yaml.safe_load(file)\n",
    "\tconfig_OLTP = config[\"OLTP\"]\n",
    "\tconfig_OLAP = config[\"OLAP\"]\n",
    "\n",
    "\n",
    "url_OLTP = (f\"{config_OLTP['drivername']}://{config_OLTP['user']}:{config_OLTP['password']}\"\n",
    "\t\t\tf\"@{config_OLTP['host']}:{config_OLTP['port']}/{config_OLTP['database_name']}\")\n",
    "\n",
    "url_OLAP = (f\"{config_OLAP['drivername']}://{config_OLAP['user']}:{config_OLAP['password']}\"\n",
    "\t\t\tf\"@{config_OLAP['host']}:{config_OLAP['port']}/{config_OLAP['database_name']}\")\n",
    "\n",
    "OLTP_connection = create_engine(url_OLTP)\n",
    "OLAP_connection = create_engine(url_OLAP)"
   ]
  },
  {
   "cell_type": "markdown",
   "metadata": {},
   "source": [
    "## Extraction"
   ]
  },
  {
   "cell_type": "code",
   "execution_count": 25,
   "metadata": {},
   "outputs": [],
   "source": [
    "time_dimension = pd.read_sql_table(\"TIME_DIMENSION\", OLAP_connection)\n",
    "updates = pd.read_sql_table(\"mensajeria_novedadesservicio\", OLTP_connection)"
   ]
  },
  {
   "cell_type": "code",
   "execution_count": 26,
   "metadata": {},
   "outputs": [
    {
     "name": "stdout",
     "output_type": "stream",
     "text": [
      "   time_id                date  year  month  day  day_of_year  day_of_month  \\\n",
      "0        0 2023-09-18 00:00:00  2023      9   18          261            30   \n",
      "1        1 2023-09-18 00:01:00  2023      9   18          261            30   \n",
      "2        2 2023-09-18 00:02:00  2023      9   18          261            30   \n",
      "3        3 2023-09-18 00:03:00  2023      9   18          261            30   \n",
      "4        4 2023-09-18 00:04:00  2023      9   18          261            30   \n",
      "\n",
      "   month_str day_str  hour  minute  \n",
      "0  September  Monday     0       0  \n",
      "1  September  Monday     0       1  \n",
      "2  September  Monday     0       2  \n",
      "3  September  Monday     0       3  \n",
      "4  September  Monday     0       4  \n",
      "(502561, 11)\n"
     ]
    }
   ],
   "source": [
    "print(time_dimension.head())\n",
    "print(time_dimension.shape)"
   ]
  },
  {
   "cell_type": "code",
   "execution_count": 27,
   "metadata": {},
   "outputs": [
    {
     "name": "stdout",
     "output_type": "stream",
     "text": [
      "   id             fecha_novedad  tipo_novedad_id descripcion  servicio_id  \\\n",
      "0   4 2023-11-30 05:00:00+00:00                1           A           51   \n",
      "1   5 2023-11-30 05:00:00+00:00                1        Halo           51   \n",
      "2   6 2023-11-30 05:00:00+00:00                1           A           51   \n",
      "3   7 2023-11-30 05:00:00+00:00                1           B           51   \n",
      "4   8 2023-11-30 05:00:00+00:00                1           A           51   \n",
      "\n",
      "   es_prueba  mensajero_id  \n",
      "0       True             7  \n",
      "1       True             7  \n",
      "2       True             7  \n",
      "3       True             7  \n",
      "4       True             7  \n",
      "(5208, 7)\n"
     ]
    }
   ],
   "source": [
    "print(updates.head())\n",
    "print(updates.shape)"
   ]
  },
  {
   "cell_type": "markdown",
   "metadata": {},
   "source": [
    "## Transformation"
   ]
  },
  {
   "cell_type": "markdown",
   "metadata": {},
   "source": [
    "Ignore the hours in the updates times."
   ]
  },
  {
   "cell_type": "code",
   "execution_count": 28,
   "metadata": {},
   "outputs": [],
   "source": [
    "updates[\"fecha_novedad\"] = updates[\"fecha_novedad\"].dt.floor(\"min\").dt.tz_localize(None)"
   ]
  },
  {
   "cell_type": "code",
   "execution_count": 29,
   "metadata": {},
   "outputs": [
    {
     "data": {
      "text/html": [
       "<div>\n",
       "<style scoped>\n",
       "    .dataframe tbody tr th:only-of-type {\n",
       "        vertical-align: middle;\n",
       "    }\n",
       "\n",
       "    .dataframe tbody tr th {\n",
       "        vertical-align: top;\n",
       "    }\n",
       "\n",
       "    .dataframe thead th {\n",
       "        text-align: right;\n",
       "    }\n",
       "</style>\n",
       "<table border=\"1\" class=\"dataframe\">\n",
       "  <thead>\n",
       "    <tr style=\"text-align: right;\">\n",
       "      <th></th>\n",
       "      <th>id</th>\n",
       "      <th>fecha_novedad</th>\n",
       "      <th>tipo_novedad_id</th>\n",
       "      <th>descripcion</th>\n",
       "      <th>servicio_id</th>\n",
       "      <th>es_prueba</th>\n",
       "      <th>mensajero_id</th>\n",
       "    </tr>\n",
       "  </thead>\n",
       "  <tbody>\n",
       "    <tr>\n",
       "      <th>0</th>\n",
       "      <td>4</td>\n",
       "      <td>2023-11-30 05:00:00</td>\n",
       "      <td>1</td>\n",
       "      <td>A</td>\n",
       "      <td>51</td>\n",
       "      <td>True</td>\n",
       "      <td>7</td>\n",
       "    </tr>\n",
       "    <tr>\n",
       "      <th>1</th>\n",
       "      <td>5</td>\n",
       "      <td>2023-11-30 05:00:00</td>\n",
       "      <td>1</td>\n",
       "      <td>Halo</td>\n",
       "      <td>51</td>\n",
       "      <td>True</td>\n",
       "      <td>7</td>\n",
       "    </tr>\n",
       "    <tr>\n",
       "      <th>2</th>\n",
       "      <td>6</td>\n",
       "      <td>2023-11-30 05:00:00</td>\n",
       "      <td>1</td>\n",
       "      <td>A</td>\n",
       "      <td>51</td>\n",
       "      <td>True</td>\n",
       "      <td>7</td>\n",
       "    </tr>\n",
       "    <tr>\n",
       "      <th>3</th>\n",
       "      <td>7</td>\n",
       "      <td>2023-11-30 05:00:00</td>\n",
       "      <td>1</td>\n",
       "      <td>B</td>\n",
       "      <td>51</td>\n",
       "      <td>True</td>\n",
       "      <td>7</td>\n",
       "    </tr>\n",
       "    <tr>\n",
       "      <th>4</th>\n",
       "      <td>8</td>\n",
       "      <td>2023-11-30 05:00:00</td>\n",
       "      <td>1</td>\n",
       "      <td>A</td>\n",
       "      <td>51</td>\n",
       "      <td>True</td>\n",
       "      <td>7</td>\n",
       "    </tr>\n",
       "  </tbody>\n",
       "</table>\n",
       "</div>"
      ],
      "text/plain": [
       "   id       fecha_novedad  tipo_novedad_id descripcion  servicio_id  \\\n",
       "0   4 2023-11-30 05:00:00                1           A           51   \n",
       "1   5 2023-11-30 05:00:00                1        Halo           51   \n",
       "2   6 2023-11-30 05:00:00                1           A           51   \n",
       "3   7 2023-11-30 05:00:00                1           B           51   \n",
       "4   8 2023-11-30 05:00:00                1           A           51   \n",
       "\n",
       "   es_prueba  mensajero_id  \n",
       "0       True             7  \n",
       "1       True             7  \n",
       "2       True             7  \n",
       "3       True             7  \n",
       "4       True             7  "
      ]
     },
     "execution_count": 29,
     "metadata": {},
     "output_type": "execute_result"
    }
   ],
   "source": [
    "updates.head()"
   ]
  },
  {
   "cell_type": "code",
   "execution_count": 30,
   "metadata": {},
   "outputs": [],
   "source": [
    "updates_fact_table = pd.merge(updates, time_dimension[[\"date\", \"time_id\"]],\n",
    "\t\t\t\t\t\t\t\tleft_on=\"fecha_novedad\", right_on=\"date\", how=\"left\")"
   ]
  },
  {
   "cell_type": "code",
   "execution_count": 31,
   "metadata": {},
   "outputs": [],
   "source": [
    "updates_fact_table.drop(columns=[\"id\", \"fecha_novedad\", \"date\", \"es_prueba\", \"mensajero_id\"], inplace=True)\n",
    "\n",
    "updates_fact_table.rename(\n",
    "\tcolumns={\n",
    "\t\t\"tipo_novedad_id\": \"update_id\",\n",
    "\t\t\"servicio_id\": \"service_id\",\n",
    "\t\t\"descripcion\": \"update_description\",\n",
    "\t}, inplace=True\n",
    ")"
   ]
  },
  {
   "cell_type": "code",
   "execution_count": 32,
   "metadata": {},
   "outputs": [],
   "source": [
    "updates_fact_table.reset_index(inplace=True)\n",
    "updates_fact_table.rename(columns={ \"index\": \"updates_fact_table_id\" }, inplace=True)\n",
    "updates_fact_table.set_index(\"updates_fact_table_id\", inplace=True)"
   ]
  },
  {
   "cell_type": "code",
   "execution_count": 33,
   "metadata": {},
   "outputs": [
    {
     "name": "stdout",
     "output_type": "stream",
     "text": [
      "                       update_id update_description  service_id  time_id\n",
      "updates_fact_table_id                                                   \n",
      "0                              1                  A          51   105420\n",
      "1                              1               Halo          51   105420\n",
      "2                              1                  A          51   105420\n",
      "3                              1                  B          51   105420\n",
      "4                              1                  A          51   105420\n",
      "(5208, 4)\n"
     ]
    }
   ],
   "source": [
    "print(updates_fact_table.head())\n",
    "print(updates_fact_table.shape)"
   ]
  },
  {
   "cell_type": "markdown",
   "metadata": {},
   "source": [
    "## Load"
   ]
  },
  {
   "cell_type": "code",
   "execution_count": 34,
   "metadata": {},
   "outputs": [
    {
     "data": {
      "text/plain": [
       "208"
      ]
     },
     "execution_count": 34,
     "metadata": {},
     "output_type": "execute_result"
    }
   ],
   "source": [
    "updates_fact_table.to_sql(\n",
    "\t\"UPDATES_FACT_TABLE\", OLAP_connection, if_exists=\"replace\", index=True\n",
    ")"
   ]
  }
 ],
 "metadata": {
  "kernelspec": {
   "display_name": "base",
   "language": "python",
   "name": "python3"
  },
  "language_info": {
   "codemirror_mode": {
    "name": "ipython",
    "version": 3
   },
   "file_extension": ".py",
   "mimetype": "text/x-python",
   "name": "python",
   "nbconvert_exporter": "python",
   "pygments_lexer": "ipython3",
   "version": "3.12.3"
  }
 },
 "nbformat": 4,
 "nbformat_minor": 2
}
