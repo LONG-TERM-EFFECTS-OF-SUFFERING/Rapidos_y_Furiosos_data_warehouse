{
 "cells": [
  {
   "cell_type": "markdown",
   "metadata": {},
   "source": [
    "# Services (hour)"
   ]
  },
  {
   "cell_type": "code",
   "execution_count": 24,
   "metadata": {},
   "outputs": [],
   "source": [
    "import pandas as pd"
   ]
  },
  {
   "cell_type": "markdown",
   "metadata": {},
   "source": [
    "## Database connection"
   ]
  },
  {
   "cell_type": "code",
   "execution_count": 25,
   "metadata": {},
   "outputs": [],
   "source": [
    "import yaml\n",
    "from sqlalchemy import create_engine\n",
    "\n",
    "\n",
    "with open(\"../config.yml\", \"r\") as file:\n",
    "\tconfig = yaml.safe_load(file)\n",
    "\tconfig_OLTP = config[\"OLTP\"]\n",
    "\tconfig_OLAP = config[\"OLAP\"]\n",
    "\n",
    "\n",
    "url_OLTP = (f\"{config_OLTP['drivername']}://{config_OLTP['user']}:{config_OLTP['password']}\"\n",
    "\t\t\tf\"@{config_OLTP['host']}:{config_OLTP['port']}/{config_OLTP['database_name']}\")\n",
    "\n",
    "url_OLAP = (f\"{config_OLAP['drivername']}://{config_OLAP['user']}:{config_OLAP['password']}\"\n",
    "\t\t\tf\"@{config_OLAP['host']}:{config_OLAP['port']}/{config_OLAP['database_name']}\")\n",
    "\n",
    "OLTP_connection = create_engine(url_OLTP)\n",
    "OLAP_connection = create_engine(url_OLAP)"
   ]
  },
  {
   "cell_type": "markdown",
   "metadata": {},
   "source": [
    "## Extraction"
   ]
  },
  {
   "cell_type": "code",
   "execution_count": 26,
   "metadata": {},
   "outputs": [],
   "source": [
    "# Load dimensions\n",
    "time_dimension = pd.read_sql_table(\"TIME_DIMENSION\", OLAP_connection)\n",
    "courier_dimension = pd.read_sql_table(\"COURIER_DIMENSION\", OLAP_connection)\n",
    "customer_dimension = pd.read_sql_table(\"CUSTOMER_DIMENSION\", OLAP_connection)\n",
    "office_dimension = pd.read_sql_table(\"OFFICE_DIMENSION\", OLAP_connection)\n",
    "service_status_dimension = pd.read_sql_table(\"SERVICE_STATUS_DIMENSION\", OLAP_connection)"
   ]
  },
  {
   "cell_type": "code",
   "execution_count": 27,
   "metadata": {},
   "outputs": [],
   "source": [
    "# Load fact table data from OLTP\n",
    "services = pd.read_sql_table(\"mensajeria_servicio\", OLTP_connection)\n",
    "service_statuses = pd.read_sql_table(\"mensajeria_estadosservicio\", OLTP_connection)\n",
    "users_information = pd.read_sql_table(\"clientes_usuarioaquitoy\", OLTP_connection)"
   ]
  },
  {
   "cell_type": "markdown",
   "metadata": {},
   "source": [
    "## Transformation"
   ]
  },
  {
   "cell_type": "code",
   "execution_count": 28,
   "metadata": {},
   "outputs": [],
   "source": [
    "# Drop services with no courier assigned\n",
    "services = services.dropna(subset=[\"mensajero_id\"])"
   ]
  },
  {
   "cell_type": "code",
   "execution_count": 29,
   "metadata": {},
   "outputs": [],
   "source": [
    "# Select relevant columns\n",
    "services = services[\n",
    "    [\n",
    "        \"id\",\n",
    "        \"fecha_solicitud\",\n",
    "        \"hora_solicitud\",\n",
    "        \"cliente_id\",\n",
    "        \"mensajero_id\",\n",
    "        \"usuario_id\",\n",
    "    ]\n",
    "]"
   ]
  },
  {
   "cell_type": "code",
   "execution_count": 30,
   "metadata": {},
   "outputs": [],
   "source": [
    "# Process service statuses to get the latest status per service\n",
    "service_statuses[\"hora_str\"] = service_statuses[\"hora\"].astype(str)\n",
    "service_statuses[\"datetime\"] = pd.to_datetime(\n",
    "    service_statuses[\"fecha\"]\n",
    ") + pd.to_timedelta(service_statuses[\"hora_str\"])\n",
    "latest_statuses = service_statuses.sort_values(\"datetime\").drop_duplicates(\n",
    "    \"servicio_id\", keep=\"last\"\n",
    ")"
   ]
  },
  {
   "cell_type": "code",
   "execution_count": 31,
   "metadata": {},
   "outputs": [],
   "source": [
    "# Rename columns for consistency\n",
    "latest_statuses = latest_statuses.rename(\n",
    "    columns={\"estado_id\": \"status_id\", \"servicio_id\": \"service_id\"}\n",
    ")"
   ]
  },
  {
   "cell_type": "code",
   "execution_count": 32,
   "metadata": {},
   "outputs": [],
   "source": [
    "# Rename columns in services for consistency\n",
    "services = services.rename(\n",
    "    columns={\n",
    "        \"id\": \"service_id\",\n",
    "        \"cliente_id\": \"original_customer_id\",\n",
    "        \"mensajero_id\": \"original_courier_id\",\n",
    "    }\n",
    ")"
   ]
  },
  {
   "cell_type": "code",
   "execution_count": 33,
   "metadata": {},
   "outputs": [],
   "source": [
    "# Merge the latest status into the services\n",
    "services = services.merge(\n",
    "    latest_statuses[[\"service_id\", \"status_id\"]], on=\"service_id\", how=\"left\"\n",
    ")"
   ]
  },
  {
   "cell_type": "code",
   "execution_count": 34,
   "metadata": {},
   "outputs": [],
   "source": [
    "# Create a 'request_time' column at hourly granularity by combining date and time\n",
    "services[\"hora_solicitud_str\"] = services[\"hora_solicitud\"].astype(str)\n",
    "services[\"request_time\"] = pd.to_datetime(\n",
    "    services[\"fecha_solicitud\"]\n",
    ") + pd.to_timedelta(services[\"hora_solicitud_str\"])\n",
    "services[\"request_time\"] = services[\"request_time\"].dt.floor(\"h\")"
   ]
  },
  {
   "cell_type": "code",
   "execution_count": 35,
   "metadata": {},
   "outputs": [],
   "source": [
    "# Convert time_dimension[\"date\"] to datetime for proper merging\n",
    "time_dimension[\"date\"] = pd.to_datetime(time_dimension[\"date\"])"
   ]
  },
  {
   "cell_type": "code",
   "execution_count": 36,
   "metadata": {},
   "outputs": [],
   "source": [
    "# Create a dictionary to map datetime to time_id\n",
    "time_mapping = dict(zip(time_dimension[\"date\"], time_dimension[\"time_id\"]))"
   ]
  },
  {
   "cell_type": "code",
   "execution_count": 37,
   "metadata": {},
   "outputs": [],
   "source": [
    "# Map 'request_time' to 'time_id'\n",
    "services[\"time_id\"] = services[\"request_time\"].map(time_mapping)"
   ]
  },
  {
   "cell_type": "code",
   "execution_count": 38,
   "metadata": {},
   "outputs": [],
   "source": [
    "# Check for unmapped times\n",
    "unmapped_times = services[\"time_id\"].isna().sum()\n",
    "if unmapped_times > 0:\n",
    "    print(f\"Warning: {unmapped_times} records do not have a mapped time_id.\")"
   ]
  },
  {
   "cell_type": "code",
   "execution_count": 39,
   "metadata": {},
   "outputs": [],
   "source": [
    "# Merge services with user info to get the office (sede_id)\n",
    "services = services.merge(\n",
    "    users_information[[\"id\", \"sede_id\"]],\n",
    "    left_on=\"usuario_id\",\n",
    "    right_on=\"id\",\n",
    "    how=\"inner\",\n",
    ")\n",
    "services.drop(columns=[\"usuario_id\", \"id\"], inplace=True)"
   ]
  },
  {
   "cell_type": "code",
   "execution_count": 40,
   "metadata": {},
   "outputs": [],
   "source": [
    "# Merge with office_dimension to get the office_id\n",
    "services = services.merge(\n",
    "    office_dimension[[\"office_id\", \"original_office_id\"]],\n",
    "    left_on=\"sede_id\",\n",
    "    right_on=\"original_office_id\",\n",
    "    how=\"inner\",\n",
    ")\n",
    "services.drop(columns=[\"sede_id\", \"original_office_id\"], inplace=True)"
   ]
  },
  {
   "cell_type": "code",
   "execution_count": 41,
   "metadata": {},
   "outputs": [],
   "source": [
    "# Aggregate services to obtain 'total_services' per hour\n",
    "hourly_agg = (\n",
    "    services.groupby(\n",
    "        [\"original_customer_id\", \"original_courier_id\", \"time_id\", \"office_id\"]\n",
    "    )\n",
    "    .size()\n",
    "    .reset_index(name=\"total_services\")\n",
    ")"
   ]
  },
  {
   "cell_type": "code",
   "execution_count": 42,
   "metadata": {},
   "outputs": [],
   "source": [
    "# Merge with customer_dimension to get 'customer_id'\n",
    "hourly_agg = hourly_agg.merge(\n",
    "    customer_dimension[[\"customer_id\", \"original_customer_id\"]],\n",
    "    on=\"original_customer_id\",\n",
    "    how=\"inner\",\n",
    ")\n",
    "hourly_agg.drop(columns=[\"original_customer_id\"], inplace=True)"
   ]
  },
  {
   "cell_type": "code",
   "execution_count": 43,
   "metadata": {},
   "outputs": [],
   "source": [
    "# Merge with courier_dimension to get 'courier_id'\n",
    "hourly_agg = hourly_agg.merge(\n",
    "    courier_dimension[[\"courier_id\", \"original_courier_id\"]],\n",
    "    left_on=\"original_courier_id\",\n",
    "    right_on=\"original_courier_id\",\n",
    "    how=\"inner\",\n",
    ")\n",
    "hourly_agg.drop(columns=[\"original_courier_id\"], inplace=True)"
   ]
  },
  {
   "cell_type": "code",
   "execution_count": 44,
   "metadata": {},
   "outputs": [],
   "source": [
    "# Rename index\n",
    "hourly_agg.reset_index(inplace=True)\n",
    "hourly_agg = hourly_agg.rename(columns={\"index\": \"service_hour_id\"})\n",
    "hourly_agg.set_index(\"service_hour_id\", inplace=True)"
   ]
  },
  {
   "cell_type": "markdown",
   "metadata": {},
   "source": [
    "## Load"
   ]
  },
  {
   "cell_type": "code",
   "execution_count": 45,
   "metadata": {},
   "outputs": [],
   "source": [
    "from sqlalchemy import BigInteger\n",
    "\n",
    "\n",
    "dtype_mapping = {\n",
    "\t\"time_id\": BigInteger(),\n",
    "\t\"customer_id\": BigInteger(),\n",
    "\t\"courier_id\": BigInteger(),\n",
    "\t\"office_id\": BigInteger(),\n",
    "}"
   ]
  },
  {
   "cell_type": "code",
   "execution_count": 46,
   "metadata": {},
   "outputs": [
    {
     "data": {
      "text/plain": [
       "251"
      ]
     },
     "execution_count": 46,
     "metadata": {},
     "output_type": "execute_result"
    }
   ],
   "source": [
    "# Save the fact table to OLAP\n",
    "hourly_agg.to_sql(\n",
    "    \"SERVICE_HOUR_FACT_TABLE\",\n",
    "    OLAP_connection,\n",
    "    if_exists=\"replace\",\n",
    "    index=True,\n",
    "    dtype=dtype_mapping,\n",
    ")"
   ]
  }
 ],
 "metadata": {
  "kernelspec": {
   "display_name": ".venv",
   "language": "python",
   "name": "python3"
  },
  "language_info": {
   "codemirror_mode": {
    "name": "ipython",
    "version": 3
   },
   "file_extension": ".py",
   "mimetype": "text/x-python",
   "name": "python",
   "nbconvert_exporter": "python",
   "pygments_lexer": "ipython3",
   "version": "3.12.7"
  }
 },
 "nbformat": 4,
 "nbformat_minor": 2
}
