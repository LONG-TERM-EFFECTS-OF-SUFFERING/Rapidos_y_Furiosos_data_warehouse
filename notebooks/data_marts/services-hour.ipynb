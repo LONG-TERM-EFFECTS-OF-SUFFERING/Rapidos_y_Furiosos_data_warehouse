{
 "cells": [
  {
   "cell_type": "markdown",
   "metadata": {},
   "source": [
    "# Services (hour)"
   ]
  },
  {
   "cell_type": "code",
   "execution_count": 207,
   "metadata": {},
   "outputs": [],
   "source": [
    "import pandas as pd\n",
    "import dask.dataframe as dd"
   ]
  },
  {
   "cell_type": "markdown",
   "metadata": {},
   "source": [
    "## Database connection"
   ]
  },
  {
   "cell_type": "code",
   "execution_count": 208,
   "metadata": {},
   "outputs": [],
   "source": [
    "import yaml\n",
    "from sqlalchemy import create_engine\n",
    "\n",
    "\n",
    "with open(\"../config.yml\", \"r\") as file:\n",
    "\tconfig = yaml.safe_load(file)\n",
    "\tconfig_OLTP = config[\"OLTP\"]\n",
    "\tconfig_OLAP = config[\"OLAP\"]\n",
    "\n",
    "\n",
    "url_OLTP = (f\"{config_OLTP['drivername']}://{config_OLTP['user']}:{config_OLTP['password']}\"\n",
    "\t\t\tf\"@{config_OLTP['host']}:{config_OLTP['port']}/{config_OLTP['database_name']}\")\n",
    "\n",
    "url_OLAP = (f\"{config_OLAP['drivername']}://{config_OLAP['user']}:{config_OLAP['password']}\"\n",
    "\t\t\tf\"@{config_OLAP['host']}:{config_OLAP['port']}/{config_OLAP['database_name']}\")\n",
    "\n",
    "OLTP_connection = create_engine(url_OLTP)\n",
    "OLAP_connection = create_engine(url_OLAP)"
   ]
  },
  {
   "cell_type": "markdown",
   "metadata": {},
   "source": [
    "## Extraction"
   ]
  },
  {
   "cell_type": "code",
   "execution_count": 209,
   "metadata": {},
   "outputs": [],
   "source": [
    "# Load dimensions\n",
    "time_dimension = pd.read_sql_table(\"TIME_DIMENSION\", OLAP_connection)\n",
    "courier_dimension = pd.read_sql_table(\"COURIER_DIMENSION\", OLAP_connection)\n",
    "customer_dimension = pd.read_sql_table(\"CUSTOMER_DIMENSION\", OLAP_connection)\n",
    "office_dimension = pd.read_sql_table(\"OFFICE_DIMENSION\", OLAP_connection)\n",
    "service_status_dimension = pd.read_sql_table(\"SERVICE_STATUS_DIMENSION\", OLAP_connection)"
   ]
  },
  {
   "cell_type": "code",
   "execution_count": 228,
   "metadata": {},
   "outputs": [],
   "source": [
    "# Load fact table data from OLTP\n",
    "services = pd.read_sql_table(\"mensajeria_servicio\", OLTP_connection)\n",
    "service_statuses = pd.read_sql_table(\"mensajeria_estadosservicio\", OLTP_connection)"
   ]
  },
  {
   "cell_type": "markdown",
   "metadata": {},
   "source": [
    "## Transformation"
   ]
  },
  {
   "cell_type": "code",
   "execution_count": 211,
   "metadata": {},
   "outputs": [],
   "source": [
    "# Process service statuses to get latest status per service\n",
    "# Convert 'hora' from datetime.time to string to avoid TypeError\n",
    "service_statuses[\"hora_str\"] = service_statuses[\"hora\"].astype(str)"
   ]
  },
  {
   "cell_type": "code",
   "execution_count": 212,
   "metadata": {},
   "outputs": [],
   "source": [
    "# Combine 'fecha' and 'hora_str' into a single datetime column\n",
    "service_statuses[\"datetime\"] = pd.to_datetime(\n",
    "\t\tservice_statuses[\"fecha\"]\n",
    ") + pd.to_timedelta(service_statuses[\"hora_str\"])"
   ]
  },
  {
   "cell_type": "code",
   "execution_count": 213,
   "metadata": {},
   "outputs": [],
   "source": [
    "# Sort by 'datetime' and drop duplicates to get the latest status per 'servicio_id'\n",
    "latest_status = service_statuses.sort_values(\"datetime\").drop_duplicates(\n",
    "\t\t\"servicio_id\", keep=\"last\"\n",
    ")"
   ]
  },
  {
   "cell_type": "code",
   "execution_count": 214,
   "metadata": {},
   "outputs": [],
   "source": [
    "# Rename columns for merging\n",
    "latest_status = latest_status.rename(\n",
    "\t\tcolumns={\n",
    "\t\t\t\t\"id\": \"status_record_id\",\n",
    "\t\t\t\t\"estado_id\": \"status_id\",\n",
    "\t\t\t\t\"servicio_id\": \"service_id\",\n",
    "\t\t}\n",
    ")"
   ]
  },
  {
   "cell_type": "code",
   "execution_count": 233,
   "metadata": {},
   "outputs": [],
   "source": [
    "# Rename columns in services for consistency\n",
    "services = services.rename(\n",
    "\t\tcolumns={\n",
    "\t\t\t\t\"id\": \"service_id\",\n",
    "\t\t\t\t\"cliente_id\": \"customer_id\",\n",
    "\t\t\t\t\"mensajero_id\": \"courier_id\",\n",
    "\t\t\t\t\"origen_id\": \"origin_office_id\",\n",
    "\t\t\t\t\"destino_id\": \"destination_office_id\",\n",
    "\t\t}\n",
    ")"
   ]
  },
  {
   "cell_type": "code",
   "execution_count": 236,
   "metadata": {},
   "outputs": [
    {
     "name": "stdout",
     "output_type": "stream",
     "text": [
      "Número de registros con 'courier_id' vacío: 727\n"
     ]
    }
   ],
   "source": [
    "null_couriers = services[\"courier_id\"].isna().sum()\n",
    "print(f\"Número de registros con 'courier_id' vacío: {null_couriers}\")"
   ]
  },
  {
   "cell_type": "code",
   "execution_count": 216,
   "metadata": {},
   "outputs": [],
   "source": [
    "# Merge the latest status with services\n",
    "services = services.merge(\n",
    "\t\tlatest_status[[\"service_id\", \"status_id\"]], on=\"service_id\", how=\"left\"\n",
    ")"
   ]
  },
  {
   "cell_type": "code",
   "execution_count": 217,
   "metadata": {},
   "outputs": [],
   "source": [
    "# Handle services without a status (optional)\n",
    "# services['status_id'] = services['status_id'].fillna(default_status_id)"
   ]
  },
  {
   "cell_type": "code",
   "execution_count": 218,
   "metadata": {},
   "outputs": [],
   "source": [
    "# Combine 'fecha_solicitud' and 'hora_solicitud' into 'request_time'\n",
    "services[\"hora_solicitud_str\"] = services[\"hora_solicitud\"].astype(str)\n",
    "services[\"request_time\"] = pd.to_datetime(\n",
    "\t\tservices[\"fecha_solicitud\"]\n",
    ") + pd.to_timedelta(services[\"hora_solicitud_str\"])\n",
    "services[\"request_time\"] = services[\"request_time\"].dt.floor(\"H\")"
   ]
  },
  {
   "cell_type": "code",
   "execution_count": 219,
   "metadata": {},
   "outputs": [],
   "source": [
    "# Create a mapping from datetime to time_id\n",
    "# Ensure that 'time_dimension[\"date\"]' is in datetime format\n",
    "time_dimension[\"date\"] = pd.to_datetime(time_dimension[\"date\"])\n",
    "time_mapping = dict(zip(time_dimension[\"date\"], time_dimension[\"time_id\"]))"
   ]
  },
  {
   "cell_type": "code",
   "execution_count": 220,
   "metadata": {},
   "outputs": [],
   "source": [
    "# Map 'request_time' to 'time_id'\n",
    "services[\"time_id\"] = services[\"request_time\"].map(time_mapping)"
   ]
  },
  {
   "cell_type": "code",
   "execution_count": 221,
   "metadata": {},
   "outputs": [],
   "source": [
    "# Check for unmapped 'time_id's\n",
    "unmapped_times = services[\"time_id\"].isna().sum()\n",
    "if unmapped_times > 0:\n",
    "\t\tprint(f\"Warning: {unmapped_times} records have unmapped 'request_time'.\")"
   ]
  },
  {
   "cell_type": "code",
   "execution_count": 222,
   "metadata": {},
   "outputs": [],
   "source": [
    "# Select necessary columns for the fact table\n",
    "service_fact = services[\n",
    "\t\t[\n",
    "\t\t\t\t\"service_id\",\n",
    "\t\t\t\t\"customer_id\",\n",
    "\t\t\t\t\"courier_id\",\n",
    "\t\t\t\t\"status_id\",\n",
    "\t\t\t\t\"origin_office_id\",\n",
    "\t\t\t\t\"destination_office_id\",\n",
    "\t\t\t\t\"time_id\",\n",
    "\t\t]\n",
    "]"
   ]
  },
  {
   "cell_type": "code",
   "execution_count": 223,
   "metadata": {},
   "outputs": [],
   "source": [
    "# Add service_fact_table_id\n",
    "service_fact = service_fact.reset_index().rename(\n",
    "\t\tcolumns={\"index\": \"service_fact_hour_table_id\"}\n",
    ")"
   ]
  },
  {
   "cell_type": "code",
   "execution_count": 226,
   "metadata": {},
   "outputs": [
    {
     "data": {
      "text/html": [
       "<div>\n",
       "<style scoped>\n",
       "    .dataframe tbody tr th:only-of-type {\n",
       "        vertical-align: middle;\n",
       "    }\n",
       "\n",
       "    .dataframe tbody tr th {\n",
       "        vertical-align: top;\n",
       "    }\n",
       "\n",
       "    .dataframe thead th {\n",
       "        text-align: right;\n",
       "    }\n",
       "</style>\n",
       "<table border=\"1\" class=\"dataframe\">\n",
       "  <thead>\n",
       "    <tr style=\"text-align: right;\">\n",
       "      <th></th>\n",
       "      <th>service_fact_hour_table_id</th>\n",
       "      <th>service_id</th>\n",
       "      <th>customer_id</th>\n",
       "      <th>courier_id</th>\n",
       "      <th>status_id</th>\n",
       "      <th>origin_office_id</th>\n",
       "      <th>destination_office_id</th>\n",
       "      <th>time_id</th>\n",
       "    </tr>\n",
       "  </thead>\n",
       "  <tbody>\n",
       "    <tr>\n",
       "      <th>0</th>\n",
       "      <td>0</td>\n",
       "      <td>34</td>\n",
       "      <td>5</td>\n",
       "      <td>NaN</td>\n",
       "      <td>1</td>\n",
       "      <td>241</td>\n",
       "      <td>214</td>\n",
       "      <td>55260</td>\n",
       "    </tr>\n",
       "    <tr>\n",
       "      <th>1</th>\n",
       "      <td>1</td>\n",
       "      <td>35</td>\n",
       "      <td>5</td>\n",
       "      <td>7.0</td>\n",
       "      <td>5</td>\n",
       "      <td>236</td>\n",
       "      <td>214</td>\n",
       "      <td>55380</td>\n",
       "    </tr>\n",
       "    <tr>\n",
       "      <th>2</th>\n",
       "      <td>2</td>\n",
       "      <td>36</td>\n",
       "      <td>5</td>\n",
       "      <td>NaN</td>\n",
       "      <td>1</td>\n",
       "      <td>236</td>\n",
       "      <td>214</td>\n",
       "      <td>58740</td>\n",
       "    </tr>\n",
       "    <tr>\n",
       "      <th>3</th>\n",
       "      <td>3</td>\n",
       "      <td>41</td>\n",
       "      <td>5</td>\n",
       "      <td>NaN</td>\n",
       "      <td>1</td>\n",
       "      <td>241</td>\n",
       "      <td>214</td>\n",
       "      <td>72540</td>\n",
       "    </tr>\n",
       "    <tr>\n",
       "      <th>4</th>\n",
       "      <td>4</td>\n",
       "      <td>42</td>\n",
       "      <td>5</td>\n",
       "      <td>NaN</td>\n",
       "      <td>1</td>\n",
       "      <td>241</td>\n",
       "      <td>214</td>\n",
       "      <td>72540</td>\n",
       "    </tr>\n",
       "    <tr>\n",
       "      <th>5</th>\n",
       "      <td>5</td>\n",
       "      <td>43</td>\n",
       "      <td>5</td>\n",
       "      <td>NaN</td>\n",
       "      <td>1</td>\n",
       "      <td>15</td>\n",
       "      <td>217</td>\n",
       "      <td>72600</td>\n",
       "    </tr>\n",
       "    <tr>\n",
       "      <th>6</th>\n",
       "      <td>6</td>\n",
       "      <td>46</td>\n",
       "      <td>4</td>\n",
       "      <td>12.0</td>\n",
       "      <td>5</td>\n",
       "      <td>262</td>\n",
       "      <td>238</td>\n",
       "      <td>75960</td>\n",
       "    </tr>\n",
       "    <tr>\n",
       "      <th>7</th>\n",
       "      <td>7</td>\n",
       "      <td>45</td>\n",
       "      <td>5</td>\n",
       "      <td>12.0</td>\n",
       "      <td>5</td>\n",
       "      <td>242</td>\n",
       "      <td>214</td>\n",
       "      <td>75900</td>\n",
       "    </tr>\n",
       "    <tr>\n",
       "      <th>8</th>\n",
       "      <td>8</td>\n",
       "      <td>47</td>\n",
       "      <td>5</td>\n",
       "      <td>12.0</td>\n",
       "      <td>5</td>\n",
       "      <td>239</td>\n",
       "      <td>214</td>\n",
       "      <td>78420</td>\n",
       "    </tr>\n",
       "    <tr>\n",
       "      <th>9</th>\n",
       "      <td>9</td>\n",
       "      <td>44</td>\n",
       "      <td>5</td>\n",
       "      <td>NaN</td>\n",
       "      <td>1</td>\n",
       "      <td>241</td>\n",
       "      <td>231</td>\n",
       "      <td>74640</td>\n",
       "    </tr>\n",
       "  </tbody>\n",
       "</table>\n",
       "</div>"
      ],
      "text/plain": [
       "   service_fact_hour_table_id  service_id  customer_id  courier_id  status_id  \\\n",
       "0                           0          34            5         NaN          1   \n",
       "1                           1          35            5         7.0          5   \n",
       "2                           2          36            5         NaN          1   \n",
       "3                           3          41            5         NaN          1   \n",
       "4                           4          42            5         NaN          1   \n",
       "5                           5          43            5         NaN          1   \n",
       "6                           6          46            4        12.0          5   \n",
       "7                           7          45            5        12.0          5   \n",
       "8                           8          47            5        12.0          5   \n",
       "9                           9          44            5         NaN          1   \n",
       "\n",
       "   origin_office_id  destination_office_id  time_id  \n",
       "0               241                    214    55260  \n",
       "1               236                    214    55380  \n",
       "2               236                    214    58740  \n",
       "3               241                    214    72540  \n",
       "4               241                    214    72540  \n",
       "5                15                    217    72600  \n",
       "6               262                    238    75960  \n",
       "7               242                    214    75900  \n",
       "8               239                    214    78420  \n",
       "9               241                    231    74640  "
      ]
     },
     "execution_count": 226,
     "metadata": {},
     "output_type": "execute_result"
    }
   ],
   "source": [
    "service_fact.head(10)\n",
    "# service_fact.shape"
   ]
  },
  {
   "cell_type": "markdown",
   "metadata": {},
   "source": [
    "## Load"
   ]
  },
  {
   "cell_type": "code",
   "execution_count": 225,
   "metadata": {},
   "outputs": [
    {
     "data": {
      "text/plain": [
       "430"
      ]
     },
     "execution_count": 225,
     "metadata": {},
     "output_type": "execute_result"
    }
   ],
   "source": [
    "# Save the fact table to OLAP\n",
    "service_fact.to_sql(\n",
    "    \"SERVICE_FACT_HOUR_TABLE\", OLAP_connection, if_exists=\"replace\", index=False\n",
    ")"
   ]
  }
 ],
 "metadata": {
  "kernelspec": {
   "display_name": ".venv",
   "language": "python",
   "name": "python3"
  },
  "language_info": {
   "codemirror_mode": {
    "name": "ipython",
    "version": 3
   },
   "file_extension": ".py",
   "mimetype": "text/x-python",
   "name": "python",
   "nbconvert_exporter": "python",
   "pygments_lexer": "ipython3",
   "version": "3.12.1"
  }
 },
 "nbformat": 4,
 "nbformat_minor": 2
}
