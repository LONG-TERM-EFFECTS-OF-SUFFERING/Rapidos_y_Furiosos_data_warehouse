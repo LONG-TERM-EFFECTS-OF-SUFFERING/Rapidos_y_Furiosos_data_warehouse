{
 "cells": [
  {
   "cell_type": "markdown",
   "metadata": {},
   "source": [
    "# Services (hour)"
   ]
  },
  {
   "cell_type": "code",
   "execution_count": 2,
   "metadata": {},
   "outputs": [],
   "source": [
    "import pandas as pd"
   ]
  },
  {
   "cell_type": "markdown",
   "metadata": {},
   "source": [
    "## Database connection"
   ]
  },
  {
   "cell_type": "code",
   "execution_count": 3,
   "metadata": {},
   "outputs": [],
   "source": [
    "import yaml\n",
    "from sqlalchemy import create_engine\n",
    "\n",
    "\n",
    "with open(\"../config.yml\", \"r\") as file:\n",
    "\tconfig = yaml.safe_load(file)\n",
    "\tconfig_OLTP = config[\"OLTP\"]\n",
    "\tconfig_OLAP = config[\"OLAP\"]\n",
    "\n",
    "\n",
    "url_OLTP = (f\"{config_OLTP['drivername']}://{config_OLTP['user']}:{config_OLTP['password']}\"\n",
    "\t\t\tf\"@{config_OLTP['host']}:{config_OLTP['port']}/{config_OLTP['database_name']}\")\n",
    "\n",
    "url_OLAP = (f\"{config_OLAP['drivername']}://{config_OLAP['user']}:{config_OLAP['password']}\"\n",
    "\t\t\tf\"@{config_OLAP['host']}:{config_OLAP['port']}/{config_OLAP['database_name']}\")\n",
    "\n",
    "OLTP_connection = create_engine(url_OLTP)\n",
    "OLAP_connection = create_engine(url_OLAP)"
   ]
  },
  {
   "cell_type": "markdown",
   "metadata": {},
   "source": [
    "## Extraction"
   ]
  },
  {
   "cell_type": "code",
   "execution_count": 32,
   "metadata": {},
   "outputs": [],
   "source": [
    "# Load dimensions\n",
    "time_dimension = pd.read_sql_table(\"TIME_DIMENSION\", OLAP_connection)\n",
    "courier_dimension = pd.read_sql_table(\"COURIER_DIMENSION\", OLAP_connection)\n",
    "customer_dimension = pd.read_sql_table(\"CUSTOMER_DIMENSION\", OLAP_connection)\n",
    "office_dimension = pd.read_sql_table(\"OFFICE_DIMENSION\", OLAP_connection)\n",
    "service_status_dimension = pd.read_sql_table(\"SERVICE_STATUS_DIMENSION\", OLAP_connection)"
   ]
  },
  {
   "cell_type": "code",
   "execution_count": 33,
   "metadata": {},
   "outputs": [],
   "source": [
    "# Load fact table data from OLTP\n",
    "services = pd.read_sql_table(\"mensajeria_servicio\", OLTP_connection)\n",
    "service_statuses = pd.read_sql_table(\"mensajeria_estadosservicio\", OLTP_connection)"
   ]
  },
  {
   "cell_type": "markdown",
   "metadata": {},
   "source": [
    "## Transformation"
   ]
  },
  {
   "cell_type": "code",
   "execution_count": 34,
   "metadata": {},
   "outputs": [],
   "source": [
    "# Process service statuses to get latest status per service\n",
    "# Convert 'hora' from datetime.time to string to avoid TypeError\n",
    "service_statuses[\"hora_str\"] = service_statuses[\"hora\"].astype(str)"
   ]
  },
  {
   "cell_type": "code",
   "execution_count": 35,
   "metadata": {},
   "outputs": [],
   "source": [
    "# Combine 'fecha' and 'hora_str' into a single datetime column\n",
    "service_statuses[\"datetime\"] = pd.to_datetime(\n",
    "\t\tservice_statuses[\"fecha\"]\n",
    ") + pd.to_timedelta(service_statuses[\"hora_str\"])"
   ]
  },
  {
   "cell_type": "code",
   "execution_count": 36,
   "metadata": {},
   "outputs": [],
   "source": [
    "# Sort by 'datetime' and drop duplicates to get the latest status per 'servicio_id'\n",
    "latest_status = service_statuses.sort_values(\"datetime\").drop_duplicates(\n",
    "\t\t\"servicio_id\", keep=\"last\"\n",
    ")"
   ]
  },
  {
   "cell_type": "code",
   "execution_count": 37,
   "metadata": {},
   "outputs": [],
   "source": [
    "# Rename columns for merging\n",
    "latest_status = latest_status.rename(\n",
    "\t\tcolumns={\n",
    "\t\t\t\t\"id\": \"status_record_id\",\n",
    "\t\t\t\t\"estado_id\": \"status_id\",\n",
    "\t\t\t\t\"servicio_id\": \"service_id\",\n",
    "\t\t}\n",
    ")"
   ]
  },
  {
   "cell_type": "code",
   "execution_count": 38,
   "metadata": {},
   "outputs": [],
   "source": [
    "# Rename columns in services for consistency\n",
    "services = services.rename(\n",
    "\t\tcolumns={\n",
    "\t\t\t\t\"id\": \"service_id\",\n",
    "\t\t\t\t\"cliente_id\": \"customer_id\",\n",
    "\t\t\t\t\"mensajero_id\": \"courier_id\",\n",
    "\t\t\t\t\"origen_id\": \"origin_office_id\",\n",
    "\t\t\t\t\"destino_id\": \"destination_office_id\",\n",
    "\t\t}\n",
    ")"
   ]
  },
  {
   "cell_type": "code",
   "execution_count": 39,
   "metadata": {},
   "outputs": [
    {
     "name": "stdout",
     "output_type": "stream",
     "text": [
      "Number of services with no assigned courier: 727\n"
     ]
    }
   ],
   "source": [
    "null_couriers = services[\"courier_id\"].isna().sum()\n",
    "print(f\"Number of services with no assigned courier: {null_couriers}\")"
   ]
  },
  {
   "cell_type": "code",
   "execution_count": 40,
   "metadata": {},
   "outputs": [],
   "source": [
    "# Ignore services with no assigned courier\n",
    "services = services.dropna(subset=[\"courier_id\"])"
   ]
  },
  {
   "cell_type": "code",
   "execution_count": 41,
   "metadata": {},
   "outputs": [],
   "source": [
    "# Merge the latest status with services\n",
    "services = services.merge(\n",
    "\t\tlatest_status[[\"service_id\", \"status_id\"]], on=\"service_id\", how=\"left\"\n",
    ")"
   ]
  },
  {
   "cell_type": "code",
   "execution_count": 42,
   "metadata": {},
   "outputs": [
    {
     "name": "stdout",
     "output_type": "stream",
     "text": [
      "Number of services with no status: 0\n"
     ]
    }
   ],
   "source": [
    "# Print number of services with no status\n",
    "null_status = services[\"status_id\"].isna().sum()\n",
    "print(f\"Number of services with no status: {null_status}\")"
   ]
  },
  {
   "cell_type": "code",
   "execution_count": 54,
   "metadata": {},
   "outputs": [],
   "source": [
    "# Combine 'fecha_solicitud' and 'hora_solicitud' into 'request_time'\n",
    "services[\"hora_solicitud_str\"] = services[\"hora_solicitud\"].astype(str)\n",
    "services[\"request_time\"] = pd.to_datetime(\n",
    "\t\tservices[\"fecha_solicitud\"]\n",
    ") + pd.to_timedelta(services[\"hora_solicitud_str\"])\n",
    "services[\"request_time\"] = services[\"request_time\"].dt.floor(\"T\")"
   ]
  },
  {
   "cell_type": "code",
   "execution_count": 57,
   "metadata": {},
   "outputs": [],
   "source": [
    "# Create a mapping from datetime to time_id\n",
    "# Ensure that 'time_dimension[\"date\"]' is in datetime format\n",
    "time_dimension[\"date\"] = pd.to_datetime(time_dimension[\"date\"])\n",
    "time_mapping = dict(zip(time_dimension[\"date\"], time_dimension[\"time_id\"]))"
   ]
  },
  {
   "cell_type": "code",
   "execution_count": 58,
   "metadata": {},
   "outputs": [],
   "source": [
    "# Map 'request_time' to 'time_id'\n",
    "services[\"time_id\"] = services[\"request_time\"].map(time_mapping)"
   ]
  },
  {
   "cell_type": "code",
   "execution_count": 60,
   "metadata": {},
   "outputs": [],
   "source": [
    "# Check for unmapped 'time_id's\n",
    "unmapped_times = services[\"time_id\"].isna().sum()\n",
    "if unmapped_times > 0:\n",
    "\t\tprint(f\"Warning: {unmapped_times} records have unmapped 'request_time'.\")"
   ]
  },
  {
   "cell_type": "code",
   "execution_count": 61,
   "metadata": {},
   "outputs": [],
   "source": [
    "# Select necessary columns for the fact table\n",
    "service_fact = services[\n",
    "\t\t[\n",
    "\t\t\t\t\"service_id\",\n",
    "\t\t\t\t\"customer_id\",\n",
    "\t\t\t\t\"courier_id\",\n",
    "\t\t\t\t\"status_id\",\n",
    "\t\t\t\t\"origin_office_id\",\n",
    "\t\t\t\t\"destination_office_id\",\n",
    "\t\t\t\t\"time_id\",\n",
    "\t\t]\n",
    "]"
   ]
  },
  {
   "cell_type": "code",
   "execution_count": 62,
   "metadata": {},
   "outputs": [
    {
     "data": {
      "text/html": [
       "<div>\n",
       "<style scoped>\n",
       "    .dataframe tbody tr th:only-of-type {\n",
       "        vertical-align: middle;\n",
       "    }\n",
       "\n",
       "    .dataframe tbody tr th {\n",
       "        vertical-align: top;\n",
       "    }\n",
       "\n",
       "    .dataframe thead th {\n",
       "        text-align: right;\n",
       "    }\n",
       "</style>\n",
       "<table border=\"1\" class=\"dataframe\">\n",
       "  <thead>\n",
       "    <tr style=\"text-align: right;\">\n",
       "      <th></th>\n",
       "      <th>service_id</th>\n",
       "      <th>customer_id</th>\n",
       "      <th>courier_id</th>\n",
       "      <th>status_id</th>\n",
       "      <th>origin_office_id</th>\n",
       "      <th>destination_office_id</th>\n",
       "      <th>time_id</th>\n",
       "    </tr>\n",
       "  </thead>\n",
       "  <tbody>\n",
       "    <tr>\n",
       "      <th>0</th>\n",
       "      <td>35</td>\n",
       "      <td>5</td>\n",
       "      <td>7.0</td>\n",
       "      <td>5</td>\n",
       "      <td>236</td>\n",
       "      <td>214</td>\n",
       "      <td>55398</td>\n",
       "    </tr>\n",
       "    <tr>\n",
       "      <th>1</th>\n",
       "      <td>46</td>\n",
       "      <td>4</td>\n",
       "      <td>12.0</td>\n",
       "      <td>5</td>\n",
       "      <td>262</td>\n",
       "      <td>238</td>\n",
       "      <td>75971</td>\n",
       "    </tr>\n",
       "    <tr>\n",
       "      <th>2</th>\n",
       "      <td>45</td>\n",
       "      <td>5</td>\n",
       "      <td>12.0</td>\n",
       "      <td>5</td>\n",
       "      <td>242</td>\n",
       "      <td>214</td>\n",
       "      <td>75954</td>\n",
       "    </tr>\n",
       "  </tbody>\n",
       "</table>\n",
       "</div>"
      ],
      "text/plain": [
       "   service_id  customer_id  courier_id  status_id  origin_office_id  \\\n",
       "0          35            5         7.0          5               236   \n",
       "1          46            4        12.0          5               262   \n",
       "2          45            5        12.0          5               242   \n",
       "\n",
       "   destination_office_id  time_id  \n",
       "0                    214    55398  \n",
       "1                    238    75971  \n",
       "2                    214    75954  "
      ]
     },
     "execution_count": 62,
     "metadata": {},
     "output_type": "execute_result"
    }
   ],
   "source": [
    "service_fact.head(3)"
   ]
  },
  {
   "cell_type": "code",
   "execution_count": null,
   "metadata": {},
   "outputs": [],
   "source": [
    "# Add service_fact_table_id\n",
    "service_fact = service_fact.reset_index().rename(\n",
    "\t\tcolumns={\"index\": \"service_fact_hour_table_id\"}\n",
    ")"
   ]
  },
  {
   "cell_type": "code",
   "execution_count": 41,
   "metadata": {},
   "outputs": [
    {
     "data": {
      "text/html": [
       "<div>\n",
       "<style scoped>\n",
       "    .dataframe tbody tr th:only-of-type {\n",
       "        vertical-align: middle;\n",
       "    }\n",
       "\n",
       "    .dataframe tbody tr th {\n",
       "        vertical-align: top;\n",
       "    }\n",
       "\n",
       "    .dataframe thead th {\n",
       "        text-align: right;\n",
       "    }\n",
       "</style>\n",
       "<table border=\"1\" class=\"dataframe\">\n",
       "  <thead>\n",
       "    <tr style=\"text-align: right;\">\n",
       "      <th></th>\n",
       "      <th>service_fact_hour_table_id</th>\n",
       "      <th>service_id</th>\n",
       "      <th>customer_id</th>\n",
       "      <th>courier_id</th>\n",
       "      <th>status_id</th>\n",
       "      <th>origin_office_id</th>\n",
       "      <th>destination_office_id</th>\n",
       "      <th>time_id</th>\n",
       "    </tr>\n",
       "  </thead>\n",
       "  <tbody>\n",
       "    <tr>\n",
       "      <th>0</th>\n",
       "      <td>0</td>\n",
       "      <td>35</td>\n",
       "      <td>5</td>\n",
       "      <td>7.0</td>\n",
       "      <td>5</td>\n",
       "      <td>236</td>\n",
       "      <td>214</td>\n",
       "      <td>55380</td>\n",
       "    </tr>\n",
       "    <tr>\n",
       "      <th>1</th>\n",
       "      <td>1</td>\n",
       "      <td>46</td>\n",
       "      <td>4</td>\n",
       "      <td>12.0</td>\n",
       "      <td>5</td>\n",
       "      <td>262</td>\n",
       "      <td>238</td>\n",
       "      <td>75960</td>\n",
       "    </tr>\n",
       "    <tr>\n",
       "      <th>2</th>\n",
       "      <td>2</td>\n",
       "      <td>45</td>\n",
       "      <td>5</td>\n",
       "      <td>12.0</td>\n",
       "      <td>5</td>\n",
       "      <td>242</td>\n",
       "      <td>214</td>\n",
       "      <td>75900</td>\n",
       "    </tr>\n",
       "    <tr>\n",
       "      <th>3</th>\n",
       "      <td>3</td>\n",
       "      <td>47</td>\n",
       "      <td>5</td>\n",
       "      <td>12.0</td>\n",
       "      <td>5</td>\n",
       "      <td>239</td>\n",
       "      <td>214</td>\n",
       "      <td>78420</td>\n",
       "    </tr>\n",
       "    <tr>\n",
       "      <th>4</th>\n",
       "      <td>4</td>\n",
       "      <td>31</td>\n",
       "      <td>5</td>\n",
       "      <td>7.0</td>\n",
       "      <td>2</td>\n",
       "      <td>257</td>\n",
       "      <td>230</td>\n",
       "      <td>37020</td>\n",
       "    </tr>\n",
       "    <tr>\n",
       "      <th>5</th>\n",
       "      <td>5</td>\n",
       "      <td>30</td>\n",
       "      <td>5</td>\n",
       "      <td>7.0</td>\n",
       "      <td>2</td>\n",
       "      <td>256</td>\n",
       "      <td>229</td>\n",
       "      <td>37020</td>\n",
       "    </tr>\n",
       "    <tr>\n",
       "      <th>6</th>\n",
       "      <td>6</td>\n",
       "      <td>29</td>\n",
       "      <td>5</td>\n",
       "      <td>7.0</td>\n",
       "      <td>6</td>\n",
       "      <td>256</td>\n",
       "      <td>229</td>\n",
       "      <td>37020</td>\n",
       "    </tr>\n",
       "    <tr>\n",
       "      <th>7</th>\n",
       "      <td>7</td>\n",
       "      <td>8</td>\n",
       "      <td>5</td>\n",
       "      <td>7.0</td>\n",
       "      <td>5</td>\n",
       "      <td>15</td>\n",
       "      <td>1</td>\n",
       "      <td>2400</td>\n",
       "    </tr>\n",
       "    <tr>\n",
       "      <th>8</th>\n",
       "      <td>8</td>\n",
       "      <td>22</td>\n",
       "      <td>5</td>\n",
       "      <td>7.0</td>\n",
       "      <td>1</td>\n",
       "      <td>15</td>\n",
       "      <td>1</td>\n",
       "      <td>8340</td>\n",
       "    </tr>\n",
       "    <tr>\n",
       "      <th>9</th>\n",
       "      <td>9</td>\n",
       "      <td>15</td>\n",
       "      <td>5</td>\n",
       "      <td>7.0</td>\n",
       "      <td>2</td>\n",
       "      <td>15</td>\n",
       "      <td>1</td>\n",
       "      <td>2460</td>\n",
       "    </tr>\n",
       "  </tbody>\n",
       "</table>\n",
       "</div>"
      ],
      "text/plain": [
       "   service_fact_hour_table_id  service_id  customer_id  courier_id  status_id  \\\n",
       "0                           0          35            5         7.0          5   \n",
       "1                           1          46            4        12.0          5   \n",
       "2                           2          45            5        12.0          5   \n",
       "3                           3          47            5        12.0          5   \n",
       "4                           4          31            5         7.0          2   \n",
       "5                           5          30            5         7.0          2   \n",
       "6                           6          29            5         7.0          6   \n",
       "7                           7           8            5         7.0          5   \n",
       "8                           8          22            5         7.0          1   \n",
       "9                           9          15            5         7.0          2   \n",
       "\n",
       "   origin_office_id  destination_office_id  time_id  \n",
       "0               236                    214    55380  \n",
       "1               262                    238    75960  \n",
       "2               242                    214    75900  \n",
       "3               239                    214    78420  \n",
       "4               257                    230    37020  \n",
       "5               256                    229    37020  \n",
       "6               256                    229    37020  \n",
       "7                15                      1     2400  \n",
       "8                15                      1     8340  \n",
       "9                15                      1     2460  "
      ]
     },
     "execution_count": 41,
     "metadata": {},
     "output_type": "execute_result"
    }
   ],
   "source": [
    "service_fact.head(10)\n",
    "# service_fact.shape"
   ]
  },
  {
   "cell_type": "code",
   "execution_count": 42,
   "metadata": {},
   "outputs": [
    {
     "name": "stdout",
     "output_type": "stream",
     "text": [
      "Number of records with 'courier_id' empty: 0\n"
     ]
    }
   ],
   "source": [
    "null_couriers = service_fact[\"courier_id\"].isna().sum()\n",
    "print(f\"Number of records with 'courier_id' empty: {null_couriers}\")"
   ]
  },
  {
   "cell_type": "markdown",
   "metadata": {},
   "source": [
    "## Load"
   ]
  },
  {
   "cell_type": "code",
   "execution_count": 43,
   "metadata": {},
   "outputs": [
    {
     "data": {
      "text/plain": [
       "703"
      ]
     },
     "execution_count": 43,
     "metadata": {},
     "output_type": "execute_result"
    }
   ],
   "source": [
    "# Save the fact table to OLAP\n",
    "service_fact.to_sql(\n",
    "\t\t\"SERVICE_FACT_HOUR_TABLE\", OLAP_connection, if_exists=\"replace\", index=False\n",
    ")"
   ]
  }
 ],
 "metadata": {
  "kernelspec": {
   "display_name": ".venv",
   "language": "python",
   "name": "python3"
  },
  "language_info": {
   "codemirror_mode": {
    "name": "ipython",
    "version": 3
   },
   "file_extension": ".py",
   "mimetype": "text/x-python",
   "name": "python",
   "nbconvert_exporter": "python",
   "pygments_lexer": "ipython3",
   "version": "3.12.1"
  }
 },
 "nbformat": 4,
 "nbformat_minor": 2
}
