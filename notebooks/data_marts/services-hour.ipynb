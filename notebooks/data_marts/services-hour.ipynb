{
 "cells": [
  {
   "cell_type": "markdown",
   "metadata": {},
   "source": [
    "# Services (hour)"
   ]
  },
  {
   "cell_type": "code",
   "execution_count": 19,
   "metadata": {},
   "outputs": [],
   "source": [
    "import pandas as pd"
   ]
  },
  {
   "cell_type": "markdown",
   "metadata": {},
   "source": [
    "## Database connection"
   ]
  },
  {
   "cell_type": "code",
   "execution_count": 20,
   "metadata": {},
   "outputs": [],
   "source": [
    "import yaml\n",
    "from sqlalchemy import create_engine\n",
    "\n",
    "\n",
    "with open(\"../config.yml\", \"r\") as file:\n",
    "\tconfig = yaml.safe_load(file)\n",
    "\tconfig_OLTP = config[\"OLTP\"]\n",
    "\tconfig_OLAP = config[\"OLAP\"]\n",
    "\n",
    "\n",
    "url_OLTP = (f\"{config_OLTP['drivername']}://{config_OLTP['user']}:{config_OLTP['password']}\"\n",
    "\t\t\tf\"@{config_OLTP['host']}:{config_OLTP['port']}/{config_OLTP['database_name']}\")\n",
    "\n",
    "url_OLAP = (f\"{config_OLAP['drivername']}://{config_OLAP['user']}:{config_OLAP['password']}\"\n",
    "\t\t\tf\"@{config_OLAP['host']}:{config_OLAP['port']}/{config_OLAP['database_name']}\")\n",
    "\n",
    "OLTP_connection = create_engine(url_OLTP)\n",
    "OLAP_connection = create_engine(url_OLAP)"
   ]
  },
  {
   "cell_type": "markdown",
   "metadata": {},
   "source": [
    "## Extraction"
   ]
  },
  {
   "cell_type": "code",
   "execution_count": 21,
   "metadata": {},
   "outputs": [],
   "source": [
    "# Load dimensions\n",
    "time_dimension = pd.read_sql_table(\"TIME_DIMENSION\", OLAP_connection)\n",
    "courier_dimension = pd.read_sql_table(\"COURIER_DIMENSION\", OLAP_connection)\n",
    "customer_dimension = pd.read_sql_table(\"CUSTOMER_DIMENSION\", OLAP_connection)\n",
    "office_dimension = pd.read_sql_table(\"OFFICE_DIMENSION\", OLAP_connection)\n",
    "service_status_dimension = pd.read_sql_table(\"SERVICE_STATUS_DIMENSION\", OLAP_connection)"
   ]
  },
  {
   "cell_type": "code",
   "execution_count": 22,
   "metadata": {},
   "outputs": [],
   "source": [
    "# Load fact table data from OLTP\n",
    "services = pd.read_sql_table(\"mensajeria_servicio\", OLTP_connection)\n",
    "service_statuses = pd.read_sql_table(\"mensajeria_estadosservicio\", OLTP_connection)\n",
    "users_information = pd.read_sql_table(\"clientes_usuarioaquitoy\", OLTP_connection)"
   ]
  },
  {
   "cell_type": "markdown",
   "metadata": {},
   "source": [
    "## Transformation"
   ]
  },
  {
   "cell_type": "code",
   "execution_count": 23,
   "metadata": {},
   "outputs": [],
   "source": [
    "# Process service statuses to get latest status per service\n",
    "# Convert 'hora' from datetime.time to string to avoid TypeError\n",
    "service_statuses[\"hora_str\"] = service_statuses[\"hora\"].astype(str)"
   ]
  },
  {
   "cell_type": "code",
   "execution_count": 24,
   "metadata": {},
   "outputs": [],
   "source": [
    "# Combine 'fecha' and 'hora_str' into a single datetime column\n",
    "service_statuses[\"datetime\"] = pd.to_datetime(\n",
    "\t\tservice_statuses[\"fecha\"]\n",
    ") + pd.to_timedelta(service_statuses[\"hora_str\"])"
   ]
  },
  {
   "cell_type": "code",
   "execution_count": 25,
   "metadata": {},
   "outputs": [],
   "source": [
    "# Sort by 'datetime' and drop duplicates to get the latest status per 'servicio_id'\n",
    "latest_status = service_statuses.sort_values(\"datetime\").drop_duplicates(\n",
    "\t\t\"servicio_id\", keep=\"last\"\n",
    ")"
   ]
  },
  {
   "cell_type": "code",
   "execution_count": 26,
   "metadata": {},
   "outputs": [],
   "source": [
    "# Rename columns for merging\n",
    "latest_status = latest_status.rename(\n",
    "\tcolumns={\n",
    "\t\t\t\t\"id\": \"status_record_id\",\n",
    "\t\t\t\t\"estado_id\": \"status_id\",\n",
    "\t\t\t\t\"servicio_id\": \"service_id\"\n",
    "\t}\n",
    ")"
   ]
  },
  {
   "cell_type": "code",
   "execution_count": 27,
   "metadata": {},
   "outputs": [],
   "source": [
    "# Rename columns in services for consistency\n",
    "services = services.rename(\n",
    "\t\tcolumns={\n",
    "\t\t\t\t\"id\": \"service_id\",\n",
    "\t\t\t\t\"cliente_id\": \"customer_id\",\n",
    "\t\t\t\t\"mensajero_id\": \"courier_id\"\n",
    "\t\t}\n",
    ")"
   ]
  },
  {
   "cell_type": "code",
   "execution_count": 28,
   "metadata": {},
   "outputs": [
    {
     "name": "stdout",
     "output_type": "stream",
     "text": [
      "Number of services with no assigned courier: 727\n"
     ]
    }
   ],
   "source": [
    "null_couriers = services[\"courier_id\"].isna().sum()\n",
    "print(f\"Number of services with no assigned courier: {null_couriers}\")"
   ]
  },
  {
   "cell_type": "code",
   "execution_count": 29,
   "metadata": {},
   "outputs": [],
   "source": [
    "# Ignore services with no assigned courier\n",
    "services = services.dropna(subset=[\"courier_id\"])"
   ]
  },
  {
   "cell_type": "code",
   "execution_count": 30,
   "metadata": {},
   "outputs": [],
   "source": [
    "# Merge the latest status with services\n",
    "services = services.merge(\n",
    "\t\tlatest_status[[\"service_id\", \"status_id\"]], on=\"service_id\", how=\"left\"\n",
    ")"
   ]
  },
  {
   "cell_type": "code",
   "execution_count": 31,
   "metadata": {},
   "outputs": [
    {
     "name": "stdout",
     "output_type": "stream",
     "text": [
      "Number of services with no status: 0\n"
     ]
    }
   ],
   "source": [
    "# Print number of services with no status\n",
    "null_status = services[\"status_id\"].isna().sum()\n",
    "print(f\"Number of services with no status: {null_status}\")"
   ]
  },
  {
   "cell_type": "code",
   "execution_count": 32,
   "metadata": {},
   "outputs": [],
   "source": [
    "# Combine 'fecha_solicitud' and 'hora_solicitud' into 'request_time'\n",
    "services[\"hora_solicitud_str\"] = services[\"hora_solicitud\"].astype(str)\n",
    "services[\"request_time\"] = pd.to_datetime(\n",
    "\t\tservices[\"fecha_solicitud\"]\n",
    ") + pd.to_timedelta(services[\"hora_solicitud_str\"])\n",
    "services[\"request_time\"] = services[\"request_time\"].dt.floor(\"h\")"
   ]
  },
  {
   "cell_type": "code",
   "execution_count": 33,
   "metadata": {},
   "outputs": [],
   "source": [
    "# Create a mapping from datetime to time_id\n",
    "# Ensure that 'time_dimension[\"date\"]' is in datetime format\n",
    "time_dimension[\"date\"] = pd.to_datetime(time_dimension[\"date\"])\n",
    "time_mapping = dict(zip(time_dimension[\"date\"], time_dimension[\"time_id\"]))"
   ]
  },
  {
   "cell_type": "code",
   "execution_count": 34,
   "metadata": {},
   "outputs": [],
   "source": [
    "# Map 'request_time' to 'time_id'\n",
    "services[\"time_id\"] = services[\"request_time\"].map(time_mapping)"
   ]
  },
  {
   "cell_type": "code",
   "execution_count": 35,
   "metadata": {},
   "outputs": [],
   "source": [
    "# Check for unmapped 'time_id's\n",
    "unmapped_times = services[\"time_id\"].isna().sum()\n",
    "if unmapped_times > 0:\n",
    "\tprint(f\"Warning: {unmapped_times} records have unmapped 'request_time'.\")"
   ]
  },
  {
   "cell_type": "code",
   "execution_count": 42,
   "metadata": {},
   "outputs": [],
   "source": [
    "# Select necessary columns for the fact table\n",
    "service_fact = services[\n",
    "\t\t[\n",
    "\t\t\t\t\"service_id\",\n",
    "\t\t\t\t\"customer_id\",\n",
    "\t\t\t\t\"courier_id\",\n",
    "\t\t\t\t\"status_id\",\n",
    "\t\t\t\t\"usuario_id\",\n",
    "\t\t\t\t\"time_id\",\n",
    "\t\t]\n",
    "]"
   ]
  },
  {
   "cell_type": "code",
   "execution_count": 43,
   "metadata": {},
   "outputs": [],
   "source": [
    "# Aggregate to create 'total_services' by grouping\n",
    "service_fact = (\n",
    "\t\tservice_fact.groupby([\"time_id\", \"customer_id\", \"courier_id\", \"usuario_id\"])\n",
    "\t\t.agg(total_services=pd.NamedAgg(column=\"service_id\", aggfunc=\"count\"))\n",
    "\t\t.reset_index()\n",
    ")"
   ]
  },
  {
   "cell_type": "code",
   "execution_count": 46,
   "metadata": {},
   "outputs": [
    {
     "name": "stdout",
     "output_type": "stream",
     "text": [
      "Number of records with 'courier_id' empty: 0\n"
     ]
    }
   ],
   "source": [
    "null_couriers = service_fact[\"courier_id\"].isna().sum()\n",
    "print(f\"Number of records with 'courier_id' empty: {null_couriers}\")"
   ]
  },
  {
   "cell_type": "code",
   "execution_count": 47,
   "metadata": {},
   "outputs": [],
   "source": [
    "service_fact = service_fact.merge(courier_dimension, left_on=\"courier_id\", right_on=\"original_courier_id\", how=\"inner\")\n",
    "service_fact.drop(columns=[\"courier_id_x\", \"courier_id_y\", \"courier_city\"], inplace=True)\n",
    "service_fact.rename(columns={ \"original_courier_id\": \"courier_id\" }, inplace=True)"
   ]
  },
  {
   "cell_type": "code",
   "execution_count": 48,
   "metadata": {},
   "outputs": [],
   "source": [
    "service_fact = service_fact.merge(users_information[[\"id\", \"sede_id\"]], left_on=\"usuario_id\", right_on=\"id\", how=\"inner\")\n",
    "service_fact.drop(columns=[\"usuario_id\", \"id\"], inplace=True)"
   ]
  },
  {
   "cell_type": "code",
   "execution_count": 49,
   "metadata": {},
   "outputs": [],
   "source": [
    "service_fact = service_fact.merge(office_dimension[[\"office_id\", \"original_office_id\"]], left_on=\"sede_id\", right_on=\"original_office_id\", how=\"inner\")\n",
    "service_fact.drop(columns=[\"sede_id\", \"original_office_id\"], inplace=True)"
   ]
  },
  {
   "cell_type": "code",
   "execution_count": 50,
   "metadata": {},
   "outputs": [],
   "source": [
    "service_fact.reset_index(inplace=True)\n",
    "service_fact = service_fact.rename(columns={ \"index\": \"service_hour_id\" })\n",
    "service_fact.set_index(\"service_hour_id\", inplace=True)"
   ]
  },
  {
   "cell_type": "markdown",
   "metadata": {},
   "source": [
    "## Load"
   ]
  },
  {
   "cell_type": "code",
   "execution_count": 51,
   "metadata": {},
   "outputs": [],
   "source": [
    "from sqlalchemy import BigInteger\n",
    "\n",
    "\n",
    "dtype_mapping = {\n",
    "\t\"time_id\": BigInteger(),\n",
    "\t\"customer_id\": BigInteger(),\n",
    "\t\"courier_id\": BigInteger(),\n",
    "\t\"office_id\": BigInteger(),\n",
    "}"
   ]
  },
  {
   "cell_type": "code",
   "execution_count": 52,
   "metadata": {},
   "outputs": [
    {
     "data": {
      "text/plain": [
       "245"
      ]
     },
     "execution_count": 52,
     "metadata": {},
     "output_type": "execute_result"
    }
   ],
   "source": [
    "# Save the fact table to OLAP\n",
    "service_fact.to_sql(\n",
    "\t\"SERVICE_HOUR_FACT_TABLE\", OLAP_connection, if_exists=\"replace\", index=True, dtype=dtype_mapping\n",
    ")"
   ]
  }
 ],
 "metadata": {
  "kernelspec": {
   "display_name": "base",
   "language": "python",
   "name": "python3"
  },
  "language_info": {
   "codemirror_mode": {
    "name": "ipython",
    "version": 3
   },
   "file_extension": ".py",
   "mimetype": "text/x-python",
   "name": "python",
   "nbconvert_exporter": "python",
   "pygments_lexer": "ipython3",
   "version": "3.12.3"
  }
 },
 "nbformat": 4,
 "nbformat_minor": 2
}
