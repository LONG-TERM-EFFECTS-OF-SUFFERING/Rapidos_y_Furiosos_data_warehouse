{
 "cells": [
  {
   "cell_type": "markdown",
   "metadata": {},
   "source": [
    "# Services (hour)"
   ]
  },
  {
   "cell_type": "code",
   "execution_count": 78,
   "metadata": {
    "ExecuteTime": {
     "end_time": "2024-11-10T20:45:15.652806Z",
     "start_time": "2024-11-10T20:45:15.632151Z"
    }
   },
   "outputs": [],
   "source": [
    "import pandas as pd"
   ]
  },
  {
   "cell_type": "markdown",
   "metadata": {},
   "source": [
    "## Database connection"
   ]
  },
  {
   "cell_type": "code",
   "execution_count": 79,
   "metadata": {
    "ExecuteTime": {
     "end_time": "2024-11-10T20:45:15.862095Z",
     "start_time": "2024-11-10T20:45:15.664070Z"
    }
   },
   "outputs": [],
   "source": [
    "import yaml\n",
    "from sqlalchemy import create_engine\n",
    "\n",
    "\n",
    "with open(\"../config.yml\", \"r\") as file:\n",
    "\tconfig = yaml.safe_load(file)\n",
    "\tconfig_OLTP = config[\"OLTP\"]\n",
    "\tconfig_OLAP = config[\"OLAP\"]\n",
    "\n",
    "\n",
    "url_OLTP = (f\"{config_OLTP['drivername']}://{config_OLTP['user']}:{config_OLTP['password']}\"\n",
    "\t\t\tf\"@{config_OLTP['host']}:{config_OLTP['port']}/{config_OLTP['database_name']}\")\n",
    "\n",
    "url_OLAP = (f\"{config_OLAP['drivername']}://{config_OLAP['user']}:{config_OLAP['password']}\"\n",
    "\t\t\tf\"@{config_OLAP['host']}:{config_OLAP['port']}/{config_OLAP['database_name']}\")\n",
    "\n",
    "OLTP_connection = create_engine(url_OLTP)\n",
    "OLAP_connection = create_engine(url_OLAP)"
   ]
  },
  {
   "cell_type": "markdown",
   "metadata": {},
   "source": [
    "## Extraction"
   ]
  },
  {
   "cell_type": "code",
   "execution_count": 80,
   "metadata": {
    "ExecuteTime": {
     "end_time": "2024-11-10T20:45:29.595569Z",
     "start_time": "2024-11-10T20:45:15.974758Z"
    }
   },
   "outputs": [],
   "source": [
    "# Load dimensions\n",
    "time_dimension = pd.read_sql_table(\"TIME_DIMENSION\", OLAP_connection)\n",
    "courier_dimension = pd.read_sql_table(\"COURIER_DIMENSION\", OLAP_connection)\n",
    "customer_dimension = pd.read_sql_table(\"CUSTOMER_DIMENSION\", OLAP_connection)\n",
    "office_dimension = pd.read_sql_table(\"OFFICE_DIMENSION\", OLAP_connection)\n",
    "service_status_dimension = pd.read_sql_table(\"SERVICE_STATUS_DIMENSION\", OLAP_connection)"
   ]
  },
  {
   "cell_type": "code",
   "execution_count": 81,
   "metadata": {
    "ExecuteTime": {
     "end_time": "2024-11-10T20:45:36.715163Z",
     "start_time": "2024-11-10T20:45:29.633713Z"
    }
   },
   "outputs": [],
   "source": [
    "# Load fact table data from OLTP\n",
    "services = pd.read_sql_table(\"mensajeria_servicio\", OLTP_connection)\n",
    "service_statuses = pd.read_sql_table(\"mensajeria_estadosservicio\", OLTP_connection)\n",
    "users_information = pd.read_sql_table(\"clientes_usuarioaquitoy\", OLTP_connection)"
   ]
  },
  {
   "cell_type": "markdown",
   "metadata": {},
   "source": [
    "## Transformation"
   ]
  },
  {
   "cell_type": "code",
   "execution_count": 82,
   "metadata": {},
   "outputs": [],
   "source": [
    "services = services.dropna(subset=[\"mensajero_id\"])"
   ]
  },
  {
   "cell_type": "code",
   "execution_count": 83,
   "metadata": {},
   "outputs": [],
   "source": [
    "services = services[[\n",
    "\t\t\"id\",\n",
    "\t\t\"fecha_solicitud\",\n",
    "\t\t\"hora_solicitud\",\n",
    "\t\t\"cliente_id\",\n",
    "\t\t\"mensajero_id\",\n",
    "\t\t\"usuario_id\"\n",
    "\t]]"
   ]
  },
  {
   "cell_type": "code",
   "execution_count": 84,
   "metadata": {},
   "outputs": [
    {
     "data": {
      "text/html": [
       "<div>\n",
       "<style scoped>\n",
       "    .dataframe tbody tr th:only-of-type {\n",
       "        vertical-align: middle;\n",
       "    }\n",
       "\n",
       "    .dataframe tbody tr th {\n",
       "        vertical-align: top;\n",
       "    }\n",
       "\n",
       "    .dataframe thead th {\n",
       "        text-align: right;\n",
       "    }\n",
       "</style>\n",
       "<table border=\"1\" class=\"dataframe\">\n",
       "  <thead>\n",
       "    <tr style=\"text-align: right;\">\n",
       "      <th></th>\n",
       "      <th>id</th>\n",
       "      <th>cliente_id</th>\n",
       "      <th>mensajero_id</th>\n",
       "      <th>usuario_id</th>\n",
       "      <th>date</th>\n",
       "    </tr>\n",
       "  </thead>\n",
       "  <tbody>\n",
       "    <tr>\n",
       "      <th>1</th>\n",
       "      <td>35</td>\n",
       "      <td>5</td>\n",
       "      <td>7.0</td>\n",
       "      <td>8</td>\n",
       "      <td>2023-10-26 11:00:00</td>\n",
       "    </tr>\n",
       "    <tr>\n",
       "      <th>6</th>\n",
       "      <td>46</td>\n",
       "      <td>4</td>\n",
       "      <td>12.0</td>\n",
       "      <td>22</td>\n",
       "      <td>2023-11-09 18:00:00</td>\n",
       "    </tr>\n",
       "    <tr>\n",
       "      <th>7</th>\n",
       "      <td>45</td>\n",
       "      <td>5</td>\n",
       "      <td>12.0</td>\n",
       "      <td>9</td>\n",
       "      <td>2023-11-09 17:00:00</td>\n",
       "    </tr>\n",
       "    <tr>\n",
       "      <th>8</th>\n",
       "      <td>47</td>\n",
       "      <td>5</td>\n",
       "      <td>12.0</td>\n",
       "      <td>8</td>\n",
       "      <td>2023-11-11 11:00:00</td>\n",
       "    </tr>\n",
       "    <tr>\n",
       "      <th>13</th>\n",
       "      <td>31</td>\n",
       "      <td>5</td>\n",
       "      <td>7.0</td>\n",
       "      <td>173</td>\n",
       "      <td>2023-10-13 17:00:00</td>\n",
       "    </tr>\n",
       "    <tr>\n",
       "      <th>...</th>\n",
       "      <td>...</td>\n",
       "      <td>...</td>\n",
       "      <td>...</td>\n",
       "      <td>...</td>\n",
       "      <td>...</td>\n",
       "    </tr>\n",
       "    <tr>\n",
       "      <th>28425</th>\n",
       "      <td>28267</td>\n",
       "      <td>11</td>\n",
       "      <td>8.0</td>\n",
       "      <td>121</td>\n",
       "      <td>2024-08-30 10:00:00</td>\n",
       "    </tr>\n",
       "    <tr>\n",
       "      <th>28426</th>\n",
       "      <td>28363</td>\n",
       "      <td>11</td>\n",
       "      <td>22.0</td>\n",
       "      <td>193</td>\n",
       "      <td>2024-08-30 16:00:00</td>\n",
       "    </tr>\n",
       "    <tr>\n",
       "      <th>28427</th>\n",
       "      <td>28403</td>\n",
       "      <td>5</td>\n",
       "      <td>30.0</td>\n",
       "      <td>11</td>\n",
       "      <td>2024-08-31 07:00:00</td>\n",
       "    </tr>\n",
       "    <tr>\n",
       "      <th>28428</th>\n",
       "      <td>28438</td>\n",
       "      <td>11</td>\n",
       "      <td>39.0</td>\n",
       "      <td>298</td>\n",
       "      <td>2024-08-31 10:00:00</td>\n",
       "    </tr>\n",
       "    <tr>\n",
       "      <th>28429</th>\n",
       "      <td>28437</td>\n",
       "      <td>11</td>\n",
       "      <td>41.0</td>\n",
       "      <td>225</td>\n",
       "      <td>2024-08-31 10:00:00</td>\n",
       "    </tr>\n",
       "  </tbody>\n",
       "</table>\n",
       "<p>27703 rows × 5 columns</p>\n",
       "</div>"
      ],
      "text/plain": [
       "          id  cliente_id  mensajero_id  usuario_id                date\n",
       "1         35           5           7.0           8 2023-10-26 11:00:00\n",
       "6         46           4          12.0          22 2023-11-09 18:00:00\n",
       "7         45           5          12.0           9 2023-11-09 17:00:00\n",
       "8         47           5          12.0           8 2023-11-11 11:00:00\n",
       "13        31           5           7.0         173 2023-10-13 17:00:00\n",
       "...      ...         ...           ...         ...                 ...\n",
       "28425  28267          11           8.0         121 2024-08-30 10:00:00\n",
       "28426  28363          11          22.0         193 2024-08-30 16:00:00\n",
       "28427  28403           5          30.0          11 2024-08-31 07:00:00\n",
       "28428  28438          11          39.0         298 2024-08-31 10:00:00\n",
       "28429  28437          11          41.0         225 2024-08-31 10:00:00\n",
       "\n",
       "[27703 rows x 5 columns]"
      ]
     },
     "execution_count": 84,
     "metadata": {},
     "output_type": "execute_result"
    }
   ],
   "source": [
    "services[\"date\"] = pd.to_datetime(services[\"fecha_solicitud\"].astype(str) + ' ' + services[\"hora_solicitud\"].astype(str)).dt.floor(\"h\")\n",
    "services.drop(columns=[\"fecha_solicitud\", \"hora_solicitud\"])"
   ]
  },
  {
   "cell_type": "code",
   "execution_count": 85,
   "metadata": {
    "ExecuteTime": {
     "end_time": "2024-11-10T20:45:37.006367Z",
     "start_time": "2024-11-10T20:45:36.903973Z"
    }
   },
   "outputs": [],
   "source": [
    "latest_statuses = service_statuses.sort_values(\"fecha\").drop_duplicates(\n",
    "\t\t\"servicio_id\", keep=\"last\"\n",
    ")"
   ]
  },
  {
   "cell_type": "code",
   "execution_count": 86,
   "metadata": {},
   "outputs": [],
   "source": [
    "latest_statuses = latest_statuses[[\"estado_id\", \"servicio_id\"]]"
   ]
  },
  {
   "cell_type": "code",
   "execution_count": 87,
   "metadata": {
    "ExecuteTime": {
     "end_time": "2024-11-10T20:45:37.091964Z",
     "start_time": "2024-11-10T20:45:37.058482Z"
    }
   },
   "outputs": [],
   "source": [
    "latest_statuses = latest_statuses.rename(\n",
    "\t\tcolumns={\n",
    "\t\t\t\t\"id\": \"status_record_id\",\n",
    "\t\t\t\t\"estado_id\": \"status_id\",\n",
    "\t\t\t\t\"servicio_id\": \"service_id\"\n",
    "\t\t}\n",
    ")"
   ]
  },
  {
   "cell_type": "code",
   "execution_count": 88,
   "metadata": {
    "ExecuteTime": {
     "end_time": "2024-11-10T20:45:37.207504Z",
     "start_time": "2024-11-10T20:45:37.134178Z"
    }
   },
   "outputs": [],
   "source": [
    "services = services.rename(\n",
    "\t\tcolumns={\n",
    "\t\t\t\t\"id\": \"service_id\",\n",
    "\t\t\t\t\"cliente_id\": \"original_customer_id\",\n",
    "\t\t\t\t\"mensajero_id\": \"original_courier_id\"\n",
    "\t\t}\n",
    ")"
   ]
  },
  {
   "cell_type": "code",
   "execution_count": 89,
   "metadata": {
    "ExecuteTime": {
     "end_time": "2024-11-10T20:45:37.458633Z",
     "start_time": "2024-11-10T20:45:37.410911Z"
    }
   },
   "outputs": [],
   "source": [
    "services = services.merge(\n",
    "\t\tlatest_statuses, on=\"service_id\", how=\"left\"\n",
    "\t)"
   ]
  },
  {
   "cell_type": "code",
   "execution_count": 90,
   "metadata": {},
   "outputs": [],
   "source": [
    "services = services.merge(users_information[[\"id\", \"sede_id\"]], left_on=\"usuario_id\", right_on=\"id\", how=\"inner\")\n",
    "services.drop(columns=[\"usuario_id\", \"id\"], inplace=True)"
   ]
  },
  {
   "cell_type": "code",
   "execution_count": 91,
   "metadata": {},
   "outputs": [],
   "source": [
    "services = services.merge(office_dimension[[\"office_id\", \"original_office_id\"]], left_on=\"sede_id\", right_on=\"original_office_id\", how=\"inner\")\n",
    "services.drop(columns=[\"sede_id\", \"original_office_id\"], inplace=True)"
   ]
  },
  {
   "cell_type": "code",
   "execution_count": 92,
   "metadata": {
    "ExecuteTime": {
     "end_time": "2024-11-10T20:45:37.559998Z",
     "start_time": "2024-11-10T20:45:37.503158Z"
    }
   },
   "outputs": [],
   "source": [
    "services = pd.merge(services, time_dimension[[\"time_id\", \"date\"]], on=\"date\", how=\"inner\")\n",
    "services.drop(columns=[\"date\", \"status_id\"], inplace=True)"
   ]
  },
  {
   "cell_type": "code",
   "execution_count": 93,
   "metadata": {},
   "outputs": [],
   "source": [
    "services = services.groupby([\"original_customer_id\", \"original_courier_id\", \"time_id\", \"office_id\"]).size().reset_index(name=\"total_services\")"
   ]
  },
  {
   "cell_type": "code",
   "execution_count": 94,
   "metadata": {},
   "outputs": [],
   "source": [
    "service_fact = services.merge(customer_dimension[[\"customer_id\", \"original_customer_id\"]], on=\"original_customer_id\", how=\"inner\")\n",
    "service_fact.drop(columns=[\"original_customer_id\"], inplace=True)"
   ]
  },
  {
   "cell_type": "code",
   "execution_count": 95,
   "metadata": {},
   "outputs": [
    {
     "data": {
      "text/html": [
       "<div>\n",
       "<style scoped>\n",
       "    .dataframe tbody tr th:only-of-type {\n",
       "        vertical-align: middle;\n",
       "    }\n",
       "\n",
       "    .dataframe tbody tr th {\n",
       "        vertical-align: top;\n",
       "    }\n",
       "\n",
       "    .dataframe thead th {\n",
       "        text-align: right;\n",
       "    }\n",
       "</style>\n",
       "<table border=\"1\" class=\"dataframe\">\n",
       "  <thead>\n",
       "    <tr style=\"text-align: right;\">\n",
       "      <th></th>\n",
       "      <th>original_courier_id</th>\n",
       "      <th>time_id</th>\n",
       "      <th>office_id</th>\n",
       "      <th>total_services</th>\n",
       "      <th>customer_id</th>\n",
       "    </tr>\n",
       "  </thead>\n",
       "  <tbody>\n",
       "    <tr>\n",
       "      <th>0</th>\n",
       "      <td>2.0</td>\n",
       "      <td>233880</td>\n",
       "      <td>15</td>\n",
       "      <td>1</td>\n",
       "      <td>1</td>\n",
       "    </tr>\n",
       "    <tr>\n",
       "      <th>1</th>\n",
       "      <td>7.0</td>\n",
       "      <td>195780</td>\n",
       "      <td>15</td>\n",
       "      <td>1</td>\n",
       "      <td>1</td>\n",
       "    </tr>\n",
       "    <tr>\n",
       "      <th>2</th>\n",
       "      <td>7.0</td>\n",
       "      <td>197160</td>\n",
       "      <td>15</td>\n",
       "      <td>1</td>\n",
       "      <td>1</td>\n",
       "    </tr>\n",
       "    <tr>\n",
       "      <th>3</th>\n",
       "      <td>7.0</td>\n",
       "      <td>201060</td>\n",
       "      <td>15</td>\n",
       "      <td>1</td>\n",
       "      <td>1</td>\n",
       "    </tr>\n",
       "    <tr>\n",
       "      <th>4</th>\n",
       "      <td>7.0</td>\n",
       "      <td>202560</td>\n",
       "      <td>15</td>\n",
       "      <td>2</td>\n",
       "      <td>1</td>\n",
       "    </tr>\n",
       "  </tbody>\n",
       "</table>\n",
       "</div>"
      ],
      "text/plain": [
       "   original_courier_id  time_id  office_id  total_services  customer_id\n",
       "0                  2.0   233880         15               1            1\n",
       "1                  7.0   195780         15               1            1\n",
       "2                  7.0   197160         15               1            1\n",
       "3                  7.0   201060         15               1            1\n",
       "4                  7.0   202560         15               2            1"
      ]
     },
     "execution_count": 95,
     "metadata": {},
     "output_type": "execute_result"
    }
   ],
   "source": [
    "service_fact.head()"
   ]
  },
  {
   "cell_type": "code",
   "execution_count": null,
   "metadata": {},
   "outputs": [],
   "source": [
    "service_fact = service_fact.merge(courier_dimension[[\"courier_id\", \"original_courier_id\"]], on=\"original_courier_id\", how=\"inner\")\n",
    "service_fact.drop(columns=[\"original_courier_id\"], inplace=True)"
   ]
  },
  {
   "cell_type": "code",
   "execution_count": 55,
   "metadata": {
    "ExecuteTime": {
     "end_time": "2024-11-10T20:45:38.806862Z",
     "start_time": "2024-11-10T20:45:38.796642Z"
    }
   },
   "outputs": [],
   "source": [
    "service_fact.reset_index(inplace=True)\n",
    "service_fact = service_fact.rename(columns={ \"index\": \"service_hour_id\" })\n",
    "service_fact.set_index(\"service_hour_id\", inplace=True)"
   ]
  },
  {
   "cell_type": "markdown",
   "metadata": {},
   "source": [
    "## Load"
   ]
  },
  {
   "cell_type": "code",
   "execution_count": 56,
   "metadata": {},
   "outputs": [],
   "source": [
    "from sqlalchemy import BigInteger\n",
    "\n",
    "\n",
    "dtype_mapping = {\n",
    "\t\"time_id\": BigInteger(),\n",
    "\t\"customer_id\": BigInteger(),\n",
    "\t\"courier_id\": BigInteger(),\n",
    "\t\"office_id\": BigInteger(),\n",
    "}"
   ]
  },
  {
   "cell_type": "code",
   "execution_count": 57,
   "metadata": {
    "ExecuteTime": {
     "end_time": "2024-11-10T20:45:40.088089Z",
     "start_time": "2024-11-10T20:45:39.628203Z"
    }
   },
   "outputs": [
    {
     "data": {
      "text/plain": [
       "251"
      ]
     },
     "execution_count": 57,
     "metadata": {},
     "output_type": "execute_result"
    }
   ],
   "source": [
    "# Save the fact table to OLAP\n",
    "service_fact.to_sql(\n",
    "\t\"SERVICE_HOUR_FACT_TABLE\", OLAP_connection, if_exists=\"replace\", index=True, dtype=dtype_mapping\n",
    ")"
   ]
  }
 ],
 "metadata": {
  "kernelspec": {
   "display_name": "base",
   "language": "python",
   "name": "python3"
  },
  "language_info": {
   "codemirror_mode": {
    "name": "ipython",
    "version": 3
   },
   "file_extension": ".py",
   "mimetype": "text/x-python",
   "name": "python",
   "nbconvert_exporter": "python",
   "pygments_lexer": "ipython3",
   "version": "3.12.3"
  }
 },
 "nbformat": 4,
 "nbformat_minor": 2
}
