{
 "cells": [
  {
   "cell_type": "markdown",
   "metadata": {},
   "source": [
    "# Services (daily)"
   ]
  },
  {
   "cell_type": "code",
   "execution_count": 19,
   "metadata": {
    "ExecuteTime": {
     "end_time": "2024-11-10T20:45:15.652806Z",
     "start_time": "2024-11-10T20:45:15.632151Z"
    }
   },
   "outputs": [],
   "source": [
    "import pandas as pd"
   ]
  },
  {
   "cell_type": "markdown",
   "metadata": {},
   "source": [
    "## Database connection"
   ]
  },
  {
   "cell_type": "code",
   "execution_count": 20,
   "metadata": {
    "ExecuteTime": {
     "end_time": "2024-11-10T20:45:15.862095Z",
     "start_time": "2024-11-10T20:45:15.664070Z"
    }
   },
   "outputs": [],
   "source": [
    "import yaml\n",
    "from sqlalchemy import create_engine\n",
    "\n",
    "\n",
    "with open(\"../config.yml\", \"r\") as file:\n",
    "\tconfig = yaml.safe_load(file)\n",
    "\tconfig_OLTP = config[\"OLTP\"]\n",
    "\tconfig_OLAP = config[\"OLAP\"]\n",
    "\n",
    "\n",
    "url_OLTP = (f\"{config_OLTP['drivername']}://{config_OLTP['user']}:{config_OLTP['password']}\"\n",
    "\t\t\tf\"@{config_OLTP['host']}:{config_OLTP['port']}/{config_OLTP['database_name']}\")\n",
    "\n",
    "url_OLAP = (f\"{config_OLAP['drivername']}://{config_OLAP['user']}:{config_OLAP['password']}\"\n",
    "\t\t\tf\"@{config_OLAP['host']}:{config_OLAP['port']}/{config_OLAP['database_name']}\")\n",
    "\n",
    "OLTP_connection = create_engine(url_OLTP)\n",
    "OLAP_connection = create_engine(url_OLAP)"
   ]
  },
  {
   "cell_type": "markdown",
   "metadata": {},
   "source": [
    "## Extraction"
   ]
  },
  {
   "cell_type": "code",
   "execution_count": 21,
   "metadata": {
    "ExecuteTime": {
     "end_time": "2024-11-10T20:45:29.595569Z",
     "start_time": "2024-11-10T20:45:15.974758Z"
    }
   },
   "outputs": [],
   "source": [
    "# Load dimensions\n",
    "time_dimension = pd.read_sql_table(\"TIME_DIMENSION\", OLAP_connection)\n",
    "courier_dimension = pd.read_sql_table(\"COURIER_DIMENSION\", OLAP_connection)\n",
    "customer_dimension = pd.read_sql_table(\"CUSTOMER_DIMENSION\", OLAP_connection)\n",
    "office_dimension = pd.read_sql_table(\"OFFICE_DIMENSION\", OLAP_connection)\n",
    "service_status_dimension = pd.read_sql_table(\"SERVICE_STATUS_DIMENSION\", OLAP_connection)"
   ]
  },
  {
   "cell_type": "code",
   "execution_count": 22,
   "metadata": {
    "ExecuteTime": {
     "end_time": "2024-11-10T20:45:36.715163Z",
     "start_time": "2024-11-10T20:45:29.633713Z"
    }
   },
   "outputs": [],
   "source": [
    "# Load fact table data from OLTP\n",
    "services = pd.read_sql_table(\"mensajeria_servicio\", OLTP_connection)\n",
    "service_statuses = pd.read_sql_table(\"mensajeria_estadosservicio\", OLTP_connection)\n",
    "users_information = pd.read_sql_table(\"clientes_usuarioaquitoy\", OLTP_connection)"
   ]
  },
  {
   "cell_type": "markdown",
   "metadata": {},
   "source": [
    "## Transformation"
   ]
  },
  {
   "cell_type": "code",
   "execution_count": 23,
   "metadata": {},
   "outputs": [],
   "source": [
    "services = services.dropna(subset=[\"mensajero_id\"])"
   ]
  },
  {
   "cell_type": "code",
   "execution_count": 24,
   "metadata": {},
   "outputs": [],
   "source": [
    "services = services[[\n",
    "\t\t\"id\",\n",
    "\t\t\"fecha_solicitud\",\n",
    "\t\t\"cliente_id\",\n",
    "\t\t\"mensajero_id\",\n",
    "\t\t\"usuario_id\"\n",
    "\t]]"
   ]
  },
  {
   "cell_type": "code",
   "execution_count": 25,
   "metadata": {
    "ExecuteTime": {
     "end_time": "2024-11-10T20:45:37.006367Z",
     "start_time": "2024-11-10T20:45:36.903973Z"
    }
   },
   "outputs": [],
   "source": [
    "latest_statuses = service_statuses.sort_values(\"fecha\").drop_duplicates(\n",
    "\t\t\"servicio_id\", keep=\"last\"\n",
    ")"
   ]
  },
  {
   "cell_type": "code",
   "execution_count": 26,
   "metadata": {},
   "outputs": [],
   "source": [
    "latest_statuses = latest_statuses[[\"estado_id\", \"servicio_id\"]]"
   ]
  },
  {
   "cell_type": "code",
   "execution_count": 27,
   "metadata": {
    "ExecuteTime": {
     "end_time": "2024-11-10T20:45:37.091964Z",
     "start_time": "2024-11-10T20:45:37.058482Z"
    }
   },
   "outputs": [],
   "source": [
    "latest_statuses = latest_statuses.rename(\n",
    "\t\tcolumns={\n",
    "\t\t\t\t\"id\": \"status_record_id\",\n",
    "\t\t\t\t\"estado_id\": \"status_id\",\n",
    "\t\t\t\t\"servicio_id\": \"service_id\"\n",
    "\t\t}\n",
    ")"
   ]
  },
  {
   "cell_type": "code",
   "execution_count": 28,
   "metadata": {
    "ExecuteTime": {
     "end_time": "2024-11-10T20:45:37.207504Z",
     "start_time": "2024-11-10T20:45:37.134178Z"
    }
   },
   "outputs": [],
   "source": [
    "services = services.rename(\n",
    "\t\tcolumns={\n",
    "\t\t\t\t\"id\": \"service_id\",\n",
    "\t\t\t\t\"fecha_solicitud\": \"date\",\n",
    "\t\t\t\t\"cliente_id\": \"original_customer_id\",\n",
    "\t\t\t\t\"mensajero_id\": \"original_courier_id\"\n",
    "\t\t}\n",
    ")"
   ]
  },
  {
   "cell_type": "code",
   "execution_count": 29,
   "metadata": {
    "ExecuteTime": {
     "end_time": "2024-11-10T20:45:37.458633Z",
     "start_time": "2024-11-10T20:45:37.410911Z"
    }
   },
   "outputs": [],
   "source": [
    "services = services.merge(\n",
    "\t\tlatest_statuses, on=\"service_id\", how=\"left\"\n",
    "\t)"
   ]
  },
  {
   "cell_type": "code",
   "execution_count": 30,
   "metadata": {},
   "outputs": [],
   "source": [
    "services = services.merge(users_information[[\"id\", \"sede_id\"]], left_on=\"usuario_id\", right_on=\"id\",\n",
    "\t\t\t\t\t\t\thow=\"inner\")\n",
    "services.drop(columns=[\"usuario_id\", \"id\"], inplace=True)"
   ]
  },
  {
   "cell_type": "code",
   "execution_count": 31,
   "metadata": {},
   "outputs": [],
   "source": [
    "services = services.merge(office_dimension[[\"office_id\", \"original_office_id\"]], left_on=\"sede_id\",\n",
    "\t\t\t\t\t\t\tright_on=\"original_office_id\", how=\"inner\")\n",
    "services.drop(columns=[\"sede_id\", \"original_office_id\"], inplace=True)"
   ]
  },
  {
   "cell_type": "code",
   "execution_count": 32,
   "metadata": {
    "ExecuteTime": {
     "end_time": "2024-11-10T20:45:37.559998Z",
     "start_time": "2024-11-10T20:45:37.503158Z"
    }
   },
   "outputs": [],
   "source": [
    "services = pd.merge(services, time_dimension[[\"time_id\", \"date\"]], on=\"date\", how=\"inner\")\n",
    "services.drop(columns=[\"date\", \"status_id\"], inplace=True)"
   ]
  },
  {
   "cell_type": "code",
   "execution_count": 33,
   "metadata": {},
   "outputs": [],
   "source": [
    "services = (services.groupby([\"original_customer_id\", \"original_courier_id\", \"time_id\", \"office_id\"])\n",
    "\t\t\t\t.size().reset_index(name=\"total_services\"))"
   ]
  },
  {
   "cell_type": "code",
   "execution_count": 34,
   "metadata": {},
   "outputs": [],
   "source": [
    "service_fact = services.merge(customer_dimension[[\"customer_id\", \"original_customer_id\"]], on=\"original_customer_id\", how=\"inner\")\n",
    "service_fact.drop(columns=[\"original_customer_id\"], inplace=True)"
   ]
  },
  {
   "cell_type": "code",
   "execution_count": null,
   "metadata": {},
   "outputs": [],
   "source": [
    "service_fact = service_fact.merge(courier_dimension[[\"courier_id\", \"original_courier_id\"]], on=\"original_courier_id\",\n",
    "\t\t\t\t\t\t\t\thow=\"inner\")\n",
    "service_fact.drop(columns=[\"original_courier_id\"], inplace=True)"
   ]
  },
  {
   "cell_type": "code",
   "execution_count": 21,
   "metadata": {
    "ExecuteTime": {
     "end_time": "2024-11-10T20:45:38.806862Z",
     "start_time": "2024-11-10T20:45:38.796642Z"
    }
   },
   "outputs": [],
   "source": [
    "service_fact.reset_index(inplace=True)\n",
    "service_fact = service_fact.rename(columns={ \"index\": \"service_daily_id\" })\n",
    "service_fact.set_index(\"service_daily_id\", inplace=True)"
   ]
  },
  {
   "cell_type": "markdown",
   "metadata": {},
   "source": [
    "## Load"
   ]
  },
  {
   "cell_type": "code",
   "execution_count": 22,
   "metadata": {},
   "outputs": [],
   "source": [
    "from sqlalchemy import BigInteger\n",
    "\n",
    "\n",
    "dtype_mapping = {\n",
    "\t\"time_id\": BigInteger(),\n",
    "\t\"customer_id\": BigInteger(),\n",
    "\t\"courier_id\": BigInteger(),\n",
    "\t\"office_id\": BigInteger(),\n",
    "}"
   ]
  },
  {
   "cell_type": "code",
   "execution_count": 23,
   "metadata": {
    "ExecuteTime": {
     "end_time": "2024-11-10T20:45:40.088089Z",
     "start_time": "2024-11-10T20:45:39.628203Z"
    }
   },
   "outputs": [
    {
     "data": {
      "text/plain": [
       "535"
      ]
     },
     "execution_count": 23,
     "metadata": {},
     "output_type": "execute_result"
    }
   ],
   "source": [
    "# Save the fact table to OLAP\n",
    "service_fact.to_sql(\n",
    "\t\"SERVICE_DAILY_FACT_TABLE\", OLAP_connection, if_exists=\"replace\", index=True, dtype=dtype_mapping\n",
    ")"
   ]
  }
 ],
 "metadata": {
  "kernelspec": {
   "display_name": "base",
   "language": "python",
   "name": "python3"
  },
  "language_info": {
   "codemirror_mode": {
    "name": "ipython",
    "version": 3
   },
   "file_extension": ".py",
   "mimetype": "text/x-python",
   "name": "python",
   "nbconvert_exporter": "python",
   "pygments_lexer": "ipython3",
   "version": "3.12.3"
  }
 },
 "nbformat": 4,
 "nbformat_minor": 2
}
