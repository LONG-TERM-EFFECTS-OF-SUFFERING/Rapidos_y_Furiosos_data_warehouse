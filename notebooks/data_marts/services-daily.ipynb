{
 "cells": [
  {
   "cell_type": "markdown",
   "metadata": {},
   "source": [
    "# Services (daily)"
   ]
  },
  {
   "cell_type": "code",
   "metadata": {
    "ExecuteTime": {
     "end_time": "2024-11-10T20:03:20.059717Z",
     "start_time": "2024-11-10T20:03:19.870844Z"
    }
   },
   "source": [
    "import pandas as pd"
   ],
   "outputs": [],
   "execution_count": 437
  },
  {
   "cell_type": "markdown",
   "metadata": {},
   "source": [
    "## Database connection"
   ]
  },
  {
   "cell_type": "code",
   "metadata": {
    "ExecuteTime": {
     "end_time": "2024-11-10T20:03:20.321601Z",
     "start_time": "2024-11-10T20:03:20.088291Z"
    }
   },
   "source": [
    "import yaml\n",
    "from sqlalchemy import create_engine\n",
    "\n",
    "\n",
    "with open(\"../config.yml\", \"r\") as file:\n",
    "\tconfig = yaml.safe_load(file)\n",
    "\tconfig_OLTP = config[\"OLTP\"]\n",
    "\tconfig_OLAP = config[\"OLAP\"]\n",
    "\n",
    "\n",
    "url_OLTP = (f\"{config_OLTP['drivername']}://{config_OLTP['user']}:{config_OLTP['password']}\"\n",
    "\t\t\tf\"@{config_OLTP['host']}:{config_OLTP['port']}/{config_OLTP['database_name']}\")\n",
    "\n",
    "url_OLAP = (f\"{config_OLAP['drivername']}://{config_OLAP['user']}:{config_OLAP['password']}\"\n",
    "\t\t\tf\"@{config_OLAP['host']}:{config_OLAP['port']}/{config_OLAP['database_name']}\")\n",
    "\n",
    "OLTP_connection = create_engine(url_OLTP)\n",
    "OLAP_connection = create_engine(url_OLAP)"
   ],
   "outputs": [],
   "execution_count": 438
  },
  {
   "cell_type": "markdown",
   "metadata": {},
   "source": [
    "## Extraction"
   ]
  },
  {
   "cell_type": "code",
   "metadata": {
    "ExecuteTime": {
     "end_time": "2024-11-10T20:03:33.257708Z",
     "start_time": "2024-11-10T20:03:21.197623Z"
    }
   },
   "source": [
    "# Load dimensions\n",
    "time_dimension = pd.read_sql_table(\"TIME_DIMENSION\", OLAP_connection)\n",
    "courier_dimension = pd.read_sql_table(\"COURIER_DIMENSION\", OLAP_connection)\n",
    "customer_dimension = pd.read_sql_table(\"CUSTOMER_DIMENSION\", OLAP_connection)\n",
    "office_dimension = pd.read_sql_table(\"OFFICE_DIMENSION\", OLAP_connection)\n",
    "service_status_dimension = pd.read_sql_table(\"SERVICE_STATUS_DIMENSION\", OLAP_connection)"
   ],
   "outputs": [],
   "execution_count": 439
  },
  {
   "cell_type": "code",
   "metadata": {
    "ExecuteTime": {
     "end_time": "2024-11-10T20:03:38.469363Z",
     "start_time": "2024-11-10T20:03:33.297851Z"
    }
   },
   "source": [
    "# Load fact table data from OLTP\n",
    "services = pd.read_sql_table(\"mensajeria_servicio\", OLTP_connection)\n",
    "service_statuses = pd.read_sql_table(\"mensajeria_estadosservicio\", OLTP_connection)"
   ],
   "outputs": [],
   "execution_count": 440
  },
  {
   "cell_type": "markdown",
   "metadata": {},
   "source": [
    "## Transformation"
   ]
  },
  {
   "cell_type": "code",
   "metadata": {
    "ExecuteTime": {
     "end_time": "2024-11-10T20:03:38.562104Z",
     "start_time": "2024-11-10T20:03:38.530670Z"
    }
   },
   "source": [
    "# Ensure `fecha` column is datetime\n",
    "service_statuses[\"fecha\"] = pd.to_datetime(service_statuses[\"fecha\"])"
   ],
   "outputs": [],
   "execution_count": 441
  },
  {
   "cell_type": "code",
   "metadata": {
    "ExecuteTime": {
     "end_time": "2024-11-10T20:03:38.666442Z",
     "start_time": "2024-11-10T20:03:38.595992Z"
    }
   },
   "source": [
    "# Sort by 'fecha' and drop duplicates to get the latest status per 'servicio_id'\n",
    "latest_status = service_statuses.sort_values(\"fecha\").drop_duplicates(\n",
    "\t\t\"servicio_id\", keep=\"last\"\n",
    ")"
   ],
   "outputs": [],
   "execution_count": 442
  },
  {
   "cell_type": "code",
   "metadata": {
    "ExecuteTime": {
     "end_time": "2024-11-10T20:03:38.727223Z",
     "start_time": "2024-11-10T20:03:38.700801Z"
    }
   },
   "source": [
    "# Rename columns\n",
    "latest_status = latest_status.rename(\n",
    "\t\tcolumns={\n",
    "\t\t\t\t\"id\": \"status_record_id\",\n",
    "\t\t\t\t\"estado_id\": \"status_id\",\n",
    "\t\t\t\t\"servicio_id\": \"service_id\",\n",
    "\t\t}\n",
    ")"
   ],
   "outputs": [],
   "execution_count": 443
  },
  {
   "cell_type": "code",
   "metadata": {
    "ExecuteTime": {
     "end_time": "2024-11-10T20:03:38.812879Z",
     "start_time": "2024-11-10T20:03:38.757658Z"
    }
   },
   "source": [
    "# Rename columns in services for consistency\n",
    "services = services.rename(\n",
    "\t\tcolumns={\n",
    "\t\t\t\t\"id\": \"service_id\",\n",
    "\t\t\t\t\"cliente_id\": \"customer_id\",\n",
    "\t\t\t\t\"mensajero_id\": \"courier_id\",\n",
    "\t\t\t\t\"origen_id\": \"origin_office_id\",\n",
    "\t\t\t\t\"destino_id\": \"office_id\",\n",
    "\t\t}\n",
    ")"
   ],
   "outputs": [],
   "execution_count": 444
  },
  {
   "cell_type": "code",
   "metadata": {
    "ExecuteTime": {
     "end_time": "2024-11-10T20:03:38.851173Z",
     "start_time": "2024-11-10T20:03:38.845203Z"
    }
   },
   "source": [
    "null_couriers = services[\"courier_id\"].isna().sum()\n",
    "print(f\"Number of services with no assigned courier: {null_couriers}\")"
   ],
   "outputs": [
    {
     "name": "stdout",
     "output_type": "stream",
     "text": [
      "Number of services with no assigned courier: 727\n"
     ]
    }
   ],
   "execution_count": 445
  },
  {
   "cell_type": "code",
   "metadata": {
    "ExecuteTime": {
     "end_time": "2024-11-10T20:03:38.939890Z",
     "start_time": "2024-11-10T20:03:38.911740Z"
    }
   },
   "source": [
    "# Ignore services with no assigned courier\n",
    "services = services.dropna(subset=[\"courier_id\"])"
   ],
   "outputs": [],
   "execution_count": 446
  },
  {
   "cell_type": "code",
   "metadata": {
    "ExecuteTime": {
     "end_time": "2024-11-10T20:03:39.009249Z",
     "start_time": "2024-11-10T20:03:38.971576Z"
    }
   },
   "source": [
    "# Merge the latest status with services\n",
    "services = services.merge(\n",
    "\t\tlatest_status[[\"service_id\", \"status_id\"]], on=\"service_id\", how=\"left\"\n",
    ")"
   ],
   "outputs": [],
   "execution_count": 447
  },
  {
   "cell_type": "code",
   "metadata": {
    "ExecuteTime": {
     "end_time": "2024-11-10T20:03:39.095251Z",
     "start_time": "2024-11-10T20:03:39.061625Z"
    }
   },
   "source": [
    "# Ensure that 'time_dimension[\"date\"]' is in datetime format\n",
    "request_date = pd.to_datetime(time_dimension[\"date\"]).dt.normalize()\n",
    "print(request_date)"
   ],
   "outputs": [
    {
     "name": "stdout",
     "output_type": "stream",
     "text": [
      "0        2023-09-18\n",
      "1        2023-09-18\n",
      "2        2023-09-18\n",
      "3        2023-09-18\n",
      "4        2023-09-18\n",
      "            ...    \n",
      "502556   2024-08-31\n",
      "502557   2024-08-31\n",
      "502558   2024-08-31\n",
      "502559   2024-08-31\n",
      "502560   2024-09-01\n",
      "Name: date, Length: 502561, dtype: datetime64[ns]\n"
     ]
    }
   ],
   "execution_count": 448
  },
  {
   "cell_type": "code",
   "metadata": {
    "ExecuteTime": {
     "end_time": "2024-11-10T20:03:40.265612Z",
     "start_time": "2024-11-10T20:03:39.136750Z"
    }
   },
   "source": [
    "# Create a mapping from request_date to time_id\n",
    "date_mapping = dict(zip(request_date, time_dimension[\"time_id\"]))\n",
    "print(date_mapping)"
   ],
   "outputs": [
    {
     "name": "stdout",
     "output_type": "stream",
     "text": [
      "{Timestamp('2023-09-18 00:00:00'): 1439, Timestamp('2023-09-19 00:00:00'): 2879, Timestamp('2023-09-20 00:00:00'): 4319, Timestamp('2023-09-21 00:00:00'): 5759, Timestamp('2023-09-22 00:00:00'): 7199, Timestamp('2023-09-23 00:00:00'): 8639, Timestamp('2023-09-24 00:00:00'): 10079, Timestamp('2023-09-25 00:00:00'): 11519, Timestamp('2023-09-26 00:00:00'): 12959, Timestamp('2023-09-27 00:00:00'): 14399, Timestamp('2023-09-28 00:00:00'): 15839, Timestamp('2023-09-29 00:00:00'): 17279, Timestamp('2023-09-30 00:00:00'): 18719, Timestamp('2023-10-01 00:00:00'): 20159, Timestamp('2023-10-02 00:00:00'): 21599, Timestamp('2023-10-03 00:00:00'): 23039, Timestamp('2023-10-04 00:00:00'): 24479, Timestamp('2023-10-05 00:00:00'): 25919, Timestamp('2023-10-06 00:00:00'): 27359, Timestamp('2023-10-07 00:00:00'): 28799, Timestamp('2023-10-08 00:00:00'): 30239, Timestamp('2023-10-09 00:00:00'): 31679, Timestamp('2023-10-10 00:00:00'): 33119, Timestamp('2023-10-11 00:00:00'): 34559, Timestamp('2023-10-12 00:00:00'): 35999, Timestamp('2023-10-13 00:00:00'): 37439, Timestamp('2023-10-14 00:00:00'): 38879, Timestamp('2023-10-15 00:00:00'): 40319, Timestamp('2023-10-16 00:00:00'): 41759, Timestamp('2023-10-17 00:00:00'): 43199, Timestamp('2023-10-18 00:00:00'): 44639, Timestamp('2023-10-19 00:00:00'): 46079, Timestamp('2023-10-20 00:00:00'): 47519, Timestamp('2023-10-21 00:00:00'): 48959, Timestamp('2023-10-22 00:00:00'): 50399, Timestamp('2023-10-23 00:00:00'): 51839, Timestamp('2023-10-24 00:00:00'): 53279, Timestamp('2023-10-25 00:00:00'): 54719, Timestamp('2023-10-26 00:00:00'): 56159, Timestamp('2023-10-27 00:00:00'): 57599, Timestamp('2023-10-28 00:00:00'): 59039, Timestamp('2023-10-29 00:00:00'): 60479, Timestamp('2023-10-30 00:00:00'): 61919, Timestamp('2023-10-31 00:00:00'): 63359, Timestamp('2023-11-01 00:00:00'): 64799, Timestamp('2023-11-02 00:00:00'): 66239, Timestamp('2023-11-03 00:00:00'): 67679, Timestamp('2023-11-04 00:00:00'): 69119, Timestamp('2023-11-05 00:00:00'): 70559, Timestamp('2023-11-06 00:00:00'): 71999, Timestamp('2023-11-07 00:00:00'): 73439, Timestamp('2023-11-08 00:00:00'): 74879, Timestamp('2023-11-09 00:00:00'): 76319, Timestamp('2023-11-10 00:00:00'): 77759, Timestamp('2023-11-11 00:00:00'): 79199, Timestamp('2023-11-12 00:00:00'): 80639, Timestamp('2023-11-13 00:00:00'): 82079, Timestamp('2023-11-14 00:00:00'): 83519, Timestamp('2023-11-15 00:00:00'): 84959, Timestamp('2023-11-16 00:00:00'): 86399, Timestamp('2023-11-17 00:00:00'): 87839, Timestamp('2023-11-18 00:00:00'): 89279, Timestamp('2023-11-19 00:00:00'): 90719, Timestamp('2023-11-20 00:00:00'): 92159, Timestamp('2023-11-21 00:00:00'): 93599, Timestamp('2023-11-22 00:00:00'): 95039, Timestamp('2023-11-23 00:00:00'): 96479, Timestamp('2023-11-24 00:00:00'): 97919, Timestamp('2023-11-25 00:00:00'): 99359, Timestamp('2023-11-26 00:00:00'): 100799, Timestamp('2023-11-27 00:00:00'): 102239, Timestamp('2023-11-28 00:00:00'): 103679, Timestamp('2023-11-29 00:00:00'): 105119, Timestamp('2023-11-30 00:00:00'): 106559, Timestamp('2023-12-01 00:00:00'): 107999, Timestamp('2023-12-02 00:00:00'): 109439, Timestamp('2023-12-03 00:00:00'): 110879, Timestamp('2023-12-04 00:00:00'): 112319, Timestamp('2023-12-05 00:00:00'): 113759, Timestamp('2023-12-06 00:00:00'): 115199, Timestamp('2023-12-07 00:00:00'): 116639, Timestamp('2023-12-08 00:00:00'): 118079, Timestamp('2023-12-09 00:00:00'): 119519, Timestamp('2023-12-10 00:00:00'): 120959, Timestamp('2023-12-11 00:00:00'): 122399, Timestamp('2023-12-12 00:00:00'): 123839, Timestamp('2023-12-13 00:00:00'): 125279, Timestamp('2023-12-14 00:00:00'): 126719, Timestamp('2023-12-15 00:00:00'): 128159, Timestamp('2023-12-16 00:00:00'): 129599, Timestamp('2023-12-17 00:00:00'): 131039, Timestamp('2023-12-18 00:00:00'): 132479, Timestamp('2023-12-19 00:00:00'): 133919, Timestamp('2023-12-20 00:00:00'): 135359, Timestamp('2023-12-21 00:00:00'): 136799, Timestamp('2023-12-22 00:00:00'): 138239, Timestamp('2023-12-23 00:00:00'): 139679, Timestamp('2023-12-24 00:00:00'): 141119, Timestamp('2023-12-25 00:00:00'): 142559, Timestamp('2023-12-26 00:00:00'): 143999, Timestamp('2023-12-27 00:00:00'): 145439, Timestamp('2023-12-28 00:00:00'): 146879, Timestamp('2023-12-29 00:00:00'): 148319, Timestamp('2023-12-30 00:00:00'): 149759, Timestamp('2023-12-31 00:00:00'): 151199, Timestamp('2024-01-01 00:00:00'): 152639, Timestamp('2024-01-02 00:00:00'): 154079, Timestamp('2024-01-03 00:00:00'): 155519, Timestamp('2024-01-04 00:00:00'): 156959, Timestamp('2024-01-05 00:00:00'): 158399, Timestamp('2024-01-06 00:00:00'): 159839, Timestamp('2024-01-07 00:00:00'): 161279, Timestamp('2024-01-08 00:00:00'): 162719, Timestamp('2024-01-09 00:00:00'): 164159, Timestamp('2024-01-10 00:00:00'): 165599, Timestamp('2024-01-11 00:00:00'): 167039, Timestamp('2024-01-12 00:00:00'): 168479, Timestamp('2024-01-13 00:00:00'): 169919, Timestamp('2024-01-14 00:00:00'): 171359, Timestamp('2024-01-15 00:00:00'): 172799, Timestamp('2024-01-16 00:00:00'): 174239, Timestamp('2024-01-17 00:00:00'): 175679, Timestamp('2024-01-18 00:00:00'): 177119, Timestamp('2024-01-19 00:00:00'): 178559, Timestamp('2024-01-20 00:00:00'): 179999, Timestamp('2024-01-21 00:00:00'): 181439, Timestamp('2024-01-22 00:00:00'): 182879, Timestamp('2024-01-23 00:00:00'): 184319, Timestamp('2024-01-24 00:00:00'): 185759, Timestamp('2024-01-25 00:00:00'): 187199, Timestamp('2024-01-26 00:00:00'): 188639, Timestamp('2024-01-27 00:00:00'): 190079, Timestamp('2024-01-28 00:00:00'): 191519, Timestamp('2024-01-29 00:00:00'): 192959, Timestamp('2024-01-30 00:00:00'): 194399, Timestamp('2024-01-31 00:00:00'): 195839, Timestamp('2024-02-01 00:00:00'): 197279, Timestamp('2024-02-02 00:00:00'): 198719, Timestamp('2024-02-03 00:00:00'): 200159, Timestamp('2024-02-04 00:00:00'): 201599, Timestamp('2024-02-05 00:00:00'): 203039, Timestamp('2024-02-06 00:00:00'): 204479, Timestamp('2024-02-07 00:00:00'): 205919, Timestamp('2024-02-08 00:00:00'): 207359, Timestamp('2024-02-09 00:00:00'): 208799, Timestamp('2024-02-10 00:00:00'): 210239, Timestamp('2024-02-11 00:00:00'): 211679, Timestamp('2024-02-12 00:00:00'): 213119, Timestamp('2024-02-13 00:00:00'): 214559, Timestamp('2024-02-14 00:00:00'): 215999, Timestamp('2024-02-15 00:00:00'): 217439, Timestamp('2024-02-16 00:00:00'): 218879, Timestamp('2024-02-17 00:00:00'): 220319, Timestamp('2024-02-18 00:00:00'): 221759, Timestamp('2024-02-19 00:00:00'): 223199, Timestamp('2024-02-20 00:00:00'): 224639, Timestamp('2024-02-21 00:00:00'): 226079, Timestamp('2024-02-22 00:00:00'): 227519, Timestamp('2024-02-23 00:00:00'): 228959, Timestamp('2024-02-24 00:00:00'): 230399, Timestamp('2024-02-25 00:00:00'): 231839, Timestamp('2024-02-26 00:00:00'): 233279, Timestamp('2024-02-27 00:00:00'): 234719, Timestamp('2024-02-28 00:00:00'): 236159, Timestamp('2024-02-29 00:00:00'): 237599, Timestamp('2024-03-01 00:00:00'): 239039, Timestamp('2024-03-02 00:00:00'): 240479, Timestamp('2024-03-03 00:00:00'): 241919, Timestamp('2024-03-04 00:00:00'): 243359, Timestamp('2024-03-05 00:00:00'): 244799, Timestamp('2024-03-06 00:00:00'): 246239, Timestamp('2024-03-07 00:00:00'): 247679, Timestamp('2024-03-08 00:00:00'): 249119, Timestamp('2024-03-09 00:00:00'): 250559, Timestamp('2024-03-10 00:00:00'): 251999, Timestamp('2024-03-11 00:00:00'): 253439, Timestamp('2024-03-12 00:00:00'): 254879, Timestamp('2024-03-13 00:00:00'): 256319, Timestamp('2024-03-14 00:00:00'): 257759, Timestamp('2024-03-15 00:00:00'): 259199, Timestamp('2024-03-16 00:00:00'): 260639, Timestamp('2024-03-17 00:00:00'): 262079, Timestamp('2024-03-18 00:00:00'): 263519, Timestamp('2024-03-19 00:00:00'): 264959, Timestamp('2024-03-20 00:00:00'): 266399, Timestamp('2024-03-21 00:00:00'): 267839, Timestamp('2024-03-22 00:00:00'): 269279, Timestamp('2024-03-23 00:00:00'): 270719, Timestamp('2024-03-24 00:00:00'): 272159, Timestamp('2024-03-25 00:00:00'): 273599, Timestamp('2024-03-26 00:00:00'): 275039, Timestamp('2024-03-27 00:00:00'): 276479, Timestamp('2024-03-28 00:00:00'): 277919, Timestamp('2024-03-29 00:00:00'): 279359, Timestamp('2024-03-30 00:00:00'): 280799, Timestamp('2024-03-31 00:00:00'): 282239, Timestamp('2024-04-01 00:00:00'): 283679, Timestamp('2024-04-02 00:00:00'): 285119, Timestamp('2024-04-03 00:00:00'): 286559, Timestamp('2024-04-04 00:00:00'): 287999, Timestamp('2024-04-05 00:00:00'): 289439, Timestamp('2024-04-06 00:00:00'): 290879, Timestamp('2024-04-07 00:00:00'): 292319, Timestamp('2024-04-08 00:00:00'): 293759, Timestamp('2024-04-09 00:00:00'): 295199, Timestamp('2024-04-10 00:00:00'): 296639, Timestamp('2024-04-11 00:00:00'): 298079, Timestamp('2024-04-12 00:00:00'): 299519, Timestamp('2024-04-13 00:00:00'): 300959, Timestamp('2024-04-14 00:00:00'): 302399, Timestamp('2024-04-15 00:00:00'): 303839, Timestamp('2024-04-16 00:00:00'): 305279, Timestamp('2024-04-17 00:00:00'): 306719, Timestamp('2024-04-18 00:00:00'): 308159, Timestamp('2024-04-19 00:00:00'): 309599, Timestamp('2024-04-20 00:00:00'): 311039, Timestamp('2024-04-21 00:00:00'): 312479, Timestamp('2024-04-22 00:00:00'): 313919, Timestamp('2024-04-23 00:00:00'): 315359, Timestamp('2024-04-24 00:00:00'): 316799, Timestamp('2024-04-25 00:00:00'): 318239, Timestamp('2024-04-26 00:00:00'): 319679, Timestamp('2024-04-27 00:00:00'): 321119, Timestamp('2024-04-28 00:00:00'): 322559, Timestamp('2024-04-29 00:00:00'): 323999, Timestamp('2024-04-30 00:00:00'): 325439, Timestamp('2024-05-01 00:00:00'): 326879, Timestamp('2024-05-02 00:00:00'): 328319, Timestamp('2024-05-03 00:00:00'): 329759, Timestamp('2024-05-04 00:00:00'): 331199, Timestamp('2024-05-05 00:00:00'): 332639, Timestamp('2024-05-06 00:00:00'): 334079, Timestamp('2024-05-07 00:00:00'): 335519, Timestamp('2024-05-08 00:00:00'): 336959, Timestamp('2024-05-09 00:00:00'): 338399, Timestamp('2024-05-10 00:00:00'): 339839, Timestamp('2024-05-11 00:00:00'): 341279, Timestamp('2024-05-12 00:00:00'): 342719, Timestamp('2024-05-13 00:00:00'): 344159, Timestamp('2024-05-14 00:00:00'): 345599, Timestamp('2024-05-15 00:00:00'): 347039, Timestamp('2024-05-16 00:00:00'): 348479, Timestamp('2024-05-17 00:00:00'): 349919, Timestamp('2024-05-18 00:00:00'): 351359, Timestamp('2024-05-19 00:00:00'): 352799, Timestamp('2024-05-20 00:00:00'): 354239, Timestamp('2024-05-21 00:00:00'): 355679, Timestamp('2024-05-22 00:00:00'): 357119, Timestamp('2024-05-23 00:00:00'): 358559, Timestamp('2024-05-24 00:00:00'): 359999, Timestamp('2024-05-25 00:00:00'): 361439, Timestamp('2024-05-26 00:00:00'): 362879, Timestamp('2024-05-27 00:00:00'): 364319, Timestamp('2024-05-28 00:00:00'): 365759, Timestamp('2024-05-29 00:00:00'): 367199, Timestamp('2024-05-30 00:00:00'): 368639, Timestamp('2024-05-31 00:00:00'): 370079, Timestamp('2024-06-01 00:00:00'): 371519, Timestamp('2024-06-02 00:00:00'): 372959, Timestamp('2024-06-03 00:00:00'): 374399, Timestamp('2024-06-04 00:00:00'): 375839, Timestamp('2024-06-05 00:00:00'): 377279, Timestamp('2024-06-06 00:00:00'): 378719, Timestamp('2024-06-07 00:00:00'): 380159, Timestamp('2024-06-08 00:00:00'): 381599, Timestamp('2024-06-09 00:00:00'): 383039, Timestamp('2024-06-10 00:00:00'): 384479, Timestamp('2024-06-11 00:00:00'): 385919, Timestamp('2024-06-12 00:00:00'): 387359, Timestamp('2024-06-13 00:00:00'): 388799, Timestamp('2024-06-14 00:00:00'): 390239, Timestamp('2024-06-15 00:00:00'): 391679, Timestamp('2024-06-16 00:00:00'): 393119, Timestamp('2024-06-17 00:00:00'): 394559, Timestamp('2024-06-18 00:00:00'): 395999, Timestamp('2024-06-19 00:00:00'): 397439, Timestamp('2024-06-20 00:00:00'): 398879, Timestamp('2024-06-21 00:00:00'): 400319, Timestamp('2024-06-22 00:00:00'): 401759, Timestamp('2024-06-23 00:00:00'): 403199, Timestamp('2024-06-24 00:00:00'): 404639, Timestamp('2024-06-25 00:00:00'): 406079, Timestamp('2024-06-26 00:00:00'): 407519, Timestamp('2024-06-27 00:00:00'): 408959, Timestamp('2024-06-28 00:00:00'): 410399, Timestamp('2024-06-29 00:00:00'): 411839, Timestamp('2024-06-30 00:00:00'): 413279, Timestamp('2024-07-01 00:00:00'): 414719, Timestamp('2024-07-02 00:00:00'): 416159, Timestamp('2024-07-03 00:00:00'): 417599, Timestamp('2024-07-04 00:00:00'): 419039, Timestamp('2024-07-05 00:00:00'): 420479, Timestamp('2024-07-06 00:00:00'): 421919, Timestamp('2024-07-07 00:00:00'): 423359, Timestamp('2024-07-08 00:00:00'): 424799, Timestamp('2024-07-09 00:00:00'): 426239, Timestamp('2024-07-10 00:00:00'): 427679, Timestamp('2024-07-11 00:00:00'): 429119, Timestamp('2024-07-12 00:00:00'): 430559, Timestamp('2024-07-13 00:00:00'): 431999, Timestamp('2024-07-14 00:00:00'): 433439, Timestamp('2024-07-15 00:00:00'): 434879, Timestamp('2024-07-16 00:00:00'): 436319, Timestamp('2024-07-17 00:00:00'): 437759, Timestamp('2024-07-18 00:00:00'): 439199, Timestamp('2024-07-19 00:00:00'): 440639, Timestamp('2024-07-20 00:00:00'): 442079, Timestamp('2024-07-21 00:00:00'): 443519, Timestamp('2024-07-22 00:00:00'): 444959, Timestamp('2024-07-23 00:00:00'): 446399, Timestamp('2024-07-24 00:00:00'): 447839, Timestamp('2024-07-25 00:00:00'): 449279, Timestamp('2024-07-26 00:00:00'): 450719, Timestamp('2024-07-27 00:00:00'): 452159, Timestamp('2024-07-28 00:00:00'): 453599, Timestamp('2024-07-29 00:00:00'): 455039, Timestamp('2024-07-30 00:00:00'): 456479, Timestamp('2024-07-31 00:00:00'): 457919, Timestamp('2024-08-01 00:00:00'): 459359, Timestamp('2024-08-02 00:00:00'): 460799, Timestamp('2024-08-03 00:00:00'): 462239, Timestamp('2024-08-04 00:00:00'): 463679, Timestamp('2024-08-05 00:00:00'): 465119, Timestamp('2024-08-06 00:00:00'): 466559, Timestamp('2024-08-07 00:00:00'): 467999, Timestamp('2024-08-08 00:00:00'): 469439, Timestamp('2024-08-09 00:00:00'): 470879, Timestamp('2024-08-10 00:00:00'): 472319, Timestamp('2024-08-11 00:00:00'): 473759, Timestamp('2024-08-12 00:00:00'): 475199, Timestamp('2024-08-13 00:00:00'): 476639, Timestamp('2024-08-14 00:00:00'): 478079, Timestamp('2024-08-15 00:00:00'): 479519, Timestamp('2024-08-16 00:00:00'): 480959, Timestamp('2024-08-17 00:00:00'): 482399, Timestamp('2024-08-18 00:00:00'): 483839, Timestamp('2024-08-19 00:00:00'): 485279, Timestamp('2024-08-20 00:00:00'): 486719, Timestamp('2024-08-21 00:00:00'): 488159, Timestamp('2024-08-22 00:00:00'): 489599, Timestamp('2024-08-23 00:00:00'): 491039, Timestamp('2024-08-24 00:00:00'): 492479, Timestamp('2024-08-25 00:00:00'): 493919, Timestamp('2024-08-26 00:00:00'): 495359, Timestamp('2024-08-27 00:00:00'): 496799, Timestamp('2024-08-28 00:00:00'): 498239, Timestamp('2024-08-29 00:00:00'): 499679, Timestamp('2024-08-30 00:00:00'): 501119, Timestamp('2024-08-31 00:00:00'): 502559, Timestamp('2024-09-01 00:00:00'): 502560}\n"
     ]
    }
   ],
   "execution_count": 449
  },
  {
   "cell_type": "code",
   "metadata": {
    "ExecuteTime": {
     "end_time": "2024-11-10T20:03:40.333645Z",
     "start_time": "2024-11-10T20:03:40.311098Z"
    }
   },
   "source": [
    "# Map 'fecha_solicitud' to 'date_mapping'\n",
    "services[\"fecha_solicitud\"] = pd.to_datetime(services[\"fecha_solicitud\"]).dt.normalize()\n",
    "services[\"time_id\"] = services[\"fecha_solicitud\"].map(date_mapping)\n",
    "print(services[\"time_id\"])"
   ],
   "outputs": [
    {
     "name": "stdout",
     "output_type": "stream",
     "text": [
      "0         56159\n",
      "1         76319\n",
      "2         76319\n",
      "3         79199\n",
      "4         37439\n",
      "          ...  \n",
      "27698    501119\n",
      "27699    501119\n",
      "27700    502559\n",
      "27701    502559\n",
      "27702    502559\n",
      "Name: time_id, Length: 27703, dtype: int64\n"
     ]
    }
   ],
   "execution_count": 450
  },
  {
   "cell_type": "code",
   "metadata": {
    "ExecuteTime": {
     "end_time": "2024-11-10T20:03:40.503801Z",
     "start_time": "2024-11-10T20:03:40.471582Z"
    }
   },
   "source": [
    "# Check for unmapped 'time_id's\n",
    "services = services.dropna(subset=[\"time_id\"])"
   ],
   "outputs": [],
   "execution_count": 451
  },
  {
   "metadata": {
    "ExecuteTime": {
     "end_time": "2024-11-10T20:03:40.593904Z",
     "start_time": "2024-11-10T20:03:40.562275Z"
    }
   },
   "cell_type": "code",
   "source": "services = services.drop_duplicates(subset=[\"service_id\"], keep=\"last\")",
   "outputs": [],
   "execution_count": 452
  },
  {
   "metadata": {
    "ExecuteTime": {
     "end_time": "2024-11-10T20:03:40.641535Z",
     "start_time": "2024-11-10T20:03:40.615497Z"
    }
   },
   "cell_type": "code",
   "source": [
    "services[\"total_services_per_day\"] = services.groupby([\"courier_id\", \"customer_id\", \"time_id\"])[\"service_id\"].transform(\"count\")\n",
    "print(services.head())"
   ],
   "outputs": [
    {
     "name": "stdout",
     "output_type": "stream",
     "text": [
      "   service_id                                 descripcion nombre_solicitante  \\\n",
      "0          35                            Recogervmx a las           chat_GPT   \n",
      "1          46  Recoger sangre en remedios para farallones           chat_GPT   \n",
      "2          45          Recoger mx en toma de mx a las 830           chat_GPT   \n",
      "3          47                  Recoger mx martes 8:30 a.m           chat_GPT   \n",
      "4          31                                           M           chat_GPT   \n",
      "\n",
      "  fecha_solicitud hora_solicitud fecha_deseada hora_deseada nombre_recibe  \\\n",
      "0      2023-10-26       11:18:14    2023-10-26     11:18:14        Gemini   \n",
      "1      2023-11-09       18:11:22    2023-11-09     18:11:22        Gemini   \n",
      "2      2023-11-09       17:54:40    2023-11-10     17:54:40        Gemini   \n",
      "3      2023-11-11       11:31:56    2023-11-14     11:31:56        Gemini   \n",
      "4      2023-10-13       17:21:26    2023-10-13     17:21:26        Gemini   \n",
      "\n",
      "  telefono_recibe descripcion_pago  ...  descripcion_multiples_origenes  \\\n",
      "0             100                   ...                                   \n",
      "1             100                   ...                                   \n",
      "2             100                   ...                                   \n",
      "3             100                   ...                                   \n",
      "4             100                G  ...                                   \n",
      "\n",
      "   mensajero2_id mensajero3_id  multiples_origenes  asignar_mensajero  \\\n",
      "0            NaN           NaN               False              False   \n",
      "1            NaN           NaN               False              False   \n",
      "2            NaN           NaN               False              False   \n",
      "3            NaN           NaN               False              False   \n",
      "4            NaN           NaN               False              False   \n",
      "\n",
      "   es_prueba  descripcion_cancelado  status_id  time_id  \\\n",
      "0       True                                 5    56159   \n",
      "1       True                                 4    76319   \n",
      "2       True                                 4    76319   \n",
      "3      False                                 5    79199   \n",
      "4       True                                 2    37439   \n",
      "\n",
      "   total_services_per_day  \n",
      "0                       1  \n",
      "1                       1  \n",
      "2                       1  \n",
      "3                       2  \n",
      "4                       3  \n",
      "\n",
      "[5 rows x 36 columns]\n"
     ]
    }
   ],
   "execution_count": 453
  },
  {
   "metadata": {
    "ExecuteTime": {
     "end_time": "2024-11-10T20:03:40.779472Z",
     "start_time": "2024-11-10T20:03:40.744763Z"
    }
   },
   "cell_type": "code",
   "source": "services = services.drop_duplicates(subset=['courier_id', 'customer_id', 'time_id'], keep='first')",
   "outputs": [],
   "execution_count": 454
  },
  {
   "cell_type": "code",
   "metadata": {
    "ExecuteTime": {
     "end_time": "2024-11-10T20:03:40.855363Z",
     "start_time": "2024-11-10T20:03:40.845269Z"
    }
   },
   "source": [
    "# Select necessary columns for the fact table\n",
    "service_fact = services[\n",
    "\t\t[\n",
    "            \t\"time_id\",\n",
    "\t\t\t\t\"customer_id\",\n",
    "\t\t\t\t\"courier_id\",\n",
    "\t\t\t\t\"office_id\",\n",
    "            \t\"total_services_per_day\"\n",
    "\t\t]\n",
    "]"
   ],
   "outputs": [],
   "execution_count": 455
  },
  {
   "cell_type": "code",
   "metadata": {
    "ExecuteTime": {
     "end_time": "2024-11-10T20:03:40.901031Z",
     "start_time": "2024-11-10T20:03:40.890297Z"
    }
   },
   "source": [
    "# Add service_fact_table_id\n",
    "service_fact = service_fact.reset_index().rename(\n",
    "\t\tcolumns={\"index\": \"service_fact_hour_table_id\"}\n",
    ")"
   ],
   "outputs": [],
   "execution_count": 456
  },
  {
   "metadata": {
    "ExecuteTime": {
     "end_time": "2024-11-10T20:03:40.943816Z",
     "start_time": "2024-11-10T20:03:40.930587Z"
    }
   },
   "cell_type": "code",
   "source": "service_fact.head()",
   "outputs": [
    {
     "data": {
      "text/plain": [
       "   service_fact_hour_table_id  time_id  customer_id  courier_id  office_id  \\\n",
       "0                           0    56159            5         7.0        214   \n",
       "1                           1    76319            4        12.0        238   \n",
       "2                           2    76319            5        12.0        214   \n",
       "3                           3    79199            5        12.0        214   \n",
       "4                           4    37439            5         7.0        230   \n",
       "\n",
       "   total_services_per_day  \n",
       "0                       1  \n",
       "1                       1  \n",
       "2                       1  \n",
       "3                       2  \n",
       "4                       3  "
      ],
      "text/html": [
       "<div>\n",
       "<style scoped>\n",
       "    .dataframe tbody tr th:only-of-type {\n",
       "        vertical-align: middle;\n",
       "    }\n",
       "\n",
       "    .dataframe tbody tr th {\n",
       "        vertical-align: top;\n",
       "    }\n",
       "\n",
       "    .dataframe thead th {\n",
       "        text-align: right;\n",
       "    }\n",
       "</style>\n",
       "<table border=\"1\" class=\"dataframe\">\n",
       "  <thead>\n",
       "    <tr style=\"text-align: right;\">\n",
       "      <th></th>\n",
       "      <th>service_fact_hour_table_id</th>\n",
       "      <th>time_id</th>\n",
       "      <th>customer_id</th>\n",
       "      <th>courier_id</th>\n",
       "      <th>office_id</th>\n",
       "      <th>total_services_per_day</th>\n",
       "    </tr>\n",
       "  </thead>\n",
       "  <tbody>\n",
       "    <tr>\n",
       "      <th>0</th>\n",
       "      <td>0</td>\n",
       "      <td>56159</td>\n",
       "      <td>5</td>\n",
       "      <td>7.0</td>\n",
       "      <td>214</td>\n",
       "      <td>1</td>\n",
       "    </tr>\n",
       "    <tr>\n",
       "      <th>1</th>\n",
       "      <td>1</td>\n",
       "      <td>76319</td>\n",
       "      <td>4</td>\n",
       "      <td>12.0</td>\n",
       "      <td>238</td>\n",
       "      <td>1</td>\n",
       "    </tr>\n",
       "    <tr>\n",
       "      <th>2</th>\n",
       "      <td>2</td>\n",
       "      <td>76319</td>\n",
       "      <td>5</td>\n",
       "      <td>12.0</td>\n",
       "      <td>214</td>\n",
       "      <td>1</td>\n",
       "    </tr>\n",
       "    <tr>\n",
       "      <th>3</th>\n",
       "      <td>3</td>\n",
       "      <td>79199</td>\n",
       "      <td>5</td>\n",
       "      <td>12.0</td>\n",
       "      <td>214</td>\n",
       "      <td>2</td>\n",
       "    </tr>\n",
       "    <tr>\n",
       "      <th>4</th>\n",
       "      <td>4</td>\n",
       "      <td>37439</td>\n",
       "      <td>5</td>\n",
       "      <td>7.0</td>\n",
       "      <td>230</td>\n",
       "      <td>3</td>\n",
       "    </tr>\n",
       "  </tbody>\n",
       "</table>\n",
       "</div>"
      ]
     },
     "execution_count": 457,
     "metadata": {},
     "output_type": "execute_result"
    }
   ],
   "execution_count": 457
  },
  {
   "metadata": {
    "ExecuteTime": {
     "end_time": "2024-11-10T20:03:41.048917Z",
     "start_time": "2024-11-10T20:03:41.036810Z"
    }
   },
   "cell_type": "code",
   "source": "",
   "outputs": [],
   "execution_count": null
  },
  {
   "cell_type": "code",
   "metadata": {
    "ExecuteTime": {
     "end_time": "2024-11-10T20:03:41.206186Z",
     "start_time": "2024-11-10T20:03:41.194855Z"
    }
   },
   "source": [
    "null_couriers = service_fact[\"courier_id\"].isna().sum()\n",
    "print(f\"Number of records with 'courier_id' empty: {null_couriers}\")"
   ],
   "outputs": [
    {
     "name": "stdout",
     "output_type": "stream",
     "text": [
      "Number of records with 'courier_id' empty: 0\n"
     ]
    }
   ],
   "execution_count": 458
  },
  {
   "cell_type": "markdown",
   "metadata": {},
   "source": [
    "## Load"
   ]
  },
  {
   "cell_type": "code",
   "metadata": {
    "ExecuteTime": {
     "end_time": "2024-11-10T20:03:41.886803Z",
     "start_time": "2024-11-10T20:03:41.343567Z"
    }
   },
   "source": [
    "# Save the fact table to OLAP\n",
    "service_fact.to_sql(\n",
    "\t\t\"SERVICE_FACT_DAILY_TABLE\", OLAP_connection, if_exists=\"replace\", index=False\n",
    ")"
   ],
   "outputs": [
    {
     "data": {
      "text/plain": [
       "194"
      ]
     },
     "execution_count": 459,
     "metadata": {},
     "output_type": "execute_result"
    }
   ],
   "execution_count": 459
  }
 ],
 "metadata": {
  "kernelspec": {
   "display_name": ".venv",
   "language": "python",
   "name": "python3"
  },
  "language_info": {
   "codemirror_mode": {
    "name": "ipython",
    "version": 3
   },
   "file_extension": ".py",
   "mimetype": "text/x-python",
   "name": "python",
   "nbconvert_exporter": "python",
   "pygments_lexer": "ipython3",
   "version": "3.12.1"
  }
 },
 "nbformat": 4,
 "nbformat_minor": 2
}
